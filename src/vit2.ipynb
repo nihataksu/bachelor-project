{
 "cells": [
  {
   "cell_type": "code",
   "execution_count": 1,
   "metadata": {},
   "outputs": [],
   "source": [
    "import torch\n",
    "from torch import nn\n",
    "import pandas as pd\n",
    "from torch import optim\n",
    "from torch.utils.data import DataLoader, Dataset\n",
    "from torchvision import transforms\n",
    "from sklearn.model_selection import train_test_split\n",
    "import matplotlib.pyplot as plt\n",
    "import numpy as np\n",
    "import random\n",
    "import timeit\n",
    "from tqdm import tqdm\n",
    "import math\n",
    "from hilbertcurve.hilbertcurve import HilbertCurve\n",
    "from math import sqrt\n",
    "from torchvision import datasets, transforms"
   ]
  },
  {
   "cell_type": "code",
   "execution_count": 2,
   "metadata": {},
   "outputs": [
    {
     "name": "stdout",
     "output_type": "stream",
     "text": [
      "16\n"
     ]
    }
   ],
   "source": [
    "RANDOM_SEED = 42\n",
    "BATCH_SIZE = 512\n",
    "EPOCHS = 20\n",
    "PATIANCE = 10\n",
    "LEARNING_RATE = 1e-3\n",
    "NUM_CLASSES = 10\n",
    "PATCH_SIZE = 7\n",
    "IMAGE_SIZE = 28\n",
    "IN_CHANNELS = 1\n",
    "NUM_HEADS = 7\n",
    "DROPUT = 0.001\n",
    "HIDDEN_DIM = 768\n",
    "ADAM_WEIGHT_DECAY = 0\n",
    "ADAM_BETAS = (0.9, 0.999)\n",
    "ACTIVATION = \"gelu\"\n",
    "NUM_ENCODERS = 4\n",
    "EMBEDING_DIMENTION = (PATCH_SIZE**2) * IN_CHANNELS \n",
    "NUM_PATCHES = (IMAGE_SIZE // PATCH_SIZE) ** 2 \n",
    "\n",
    "print(NUM_PATCHES)\n",
    "\n",
    "random.seed(RANDOM_SEED)\n",
    "np.random.seed(RANDOM_SEED)\n",
    "torch.manual_seed(RANDOM_SEED)\n",
    "\n",
    "# Cuda Specific \n",
    "torch.cuda.manual_seed(RANDOM_SEED)\n",
    "torch.cuda.manual_seed_all(RANDOM_SEED)\n",
    "torch.backends.cudnn.deterministic = True\n",
    "torch.backends.cudnn.benchmark = False\n",
    "\n",
    "# Apple Metal Specific \n",
    "torch.mps.manual_seed(RANDOM_SEED)"
   ]
  },
  {
   "cell_type": "code",
   "execution_count": 3,
   "metadata": {},
   "outputs": [
    {
     "name": "stdout",
     "output_type": "stream",
     "text": [
      "mps\n"
     ]
    }
   ],
   "source": [
    "if torch.backends.mps.is_available(): \n",
    "    device = \"mps\"\n",
    "elif torch.cuda.is_available():\n",
    "    device = \"cuda\"\n",
    "else:\n",
    "    device = \"cpu\"\n",
    "\n",
    "print(device)"
   ]
  },
  {
   "cell_type": "code",
   "execution_count": 4,
   "metadata": {},
   "outputs": [],
   "source": [
    "def HilbertIndices(n):\n",
    "    \"\"\"\n",
    "    Generate Hilbert indices for a grid approximating a square layout of patches.\n",
    "\n",
    "    Args:\n",
    "    n (int): Total number of patches.\n",
    "\n",
    "    Returns:\n",
    "    np.array: Indices sorted according to Hilbert curve distances.\n",
    "    \"\"\"\n",
    "    # Determine the order of the Hilbert curve based on the number of patches\n",
    "    order = int(np.ceil(np.log2(np.sqrt(n))))\n",
    "    \n",
    "    # Initialize Hilbert curve with 2 dimensions and determined order\n",
    "    hilbert_curve = HilbertCurve(p=2, n=order)\n",
    "    points = []\n",
    "\n",
    "    # Determine the maximum x and y values based on the number of patches\n",
    "    side_length = int(np.ceil(np.sqrt(n)))\n",
    "\n",
    "    # Collect all points whose Hilbert distances need to be calculated\n",
    "    for i in range(n):\n",
    "        x = i // side_length\n",
    "        y = i % side_length\n",
    "        points.append([x, y])\n",
    "\n",
    "    # Calculate the Hilbert distances for all points\n",
    "    distances = hilbert_curve.distances_from_points(points)\n",
    "\n",
    "    # Return the indices sorted by their Hilbert distances\n",
    "    return np.array(distances).argsort()"
   ]
  },
  {
   "cell_type": "code",
   "execution_count": 5,
   "metadata": {},
   "outputs": [],
   "source": [
    "class PositionalEmbeddingStrategy(nn.Module):\n",
    "    def forward(self, x):\n",
    "        raise NotImplementedError(\"Each Embedding Strategy must implement the forward method.\")"
   ]
  },
  {
   "cell_type": "code",
   "execution_count": 6,
   "metadata": {},
   "outputs": [],
   "source": [
    "class PatchEmbeddingLearnedPositionalEmbedding(PositionalEmbeddingStrategy):\n",
    "    def __init__(self, embed_dim, patch_size, num_patches, dropout, in_channels):\n",
    "        super().__init__()\n",
    "        self.patcher = nn.Sequential(\n",
    "            nn.Conv2d(\n",
    "                in_channels=in_channels,\n",
    "                out_channels=embed_dim,\n",
    "                kernel_size=patch_size,\n",
    "                stride=patch_size\n",
    "            ),\n",
    "            nn.Flatten(2)\n",
    "        )\n",
    "\n",
    "        self.cls_token = nn.Parameter(torch.randn(size=(1, in_channels, embed_dim)), requires_grad=True)\n",
    "        self.position_embeddings = nn.Parameter(torch.randn(size=(1, num_patches + 1, embed_dim)), requires_grad=True)\n",
    "        self.dropout = nn.Dropout(p=dropout)\n",
    "\n",
    "    def forward(self, x):\n",
    "        cls_token = self.cls_token.expand(x.shape[0], -1, -1)\n",
    "        x = self.patcher(x).permute(0, 2, 1)\n",
    "        x = torch.cat((cls_token, x), dim=1)\n",
    "        x = x + self.position_embeddings\n",
    "        x = self.dropout(x)\n",
    "        return x"
   ]
  },
  {
   "cell_type": "code",
   "execution_count": 7,
   "metadata": {},
   "outputs": [],
   "source": [
    "class PatchEmbeddingNoPositionalEmbedding(PositionalEmbeddingStrategy):\n",
    "    def __init__(self, embed_dim, patch_size, num_patches, dropout, in_channels):\n",
    "        super().__init__()\n",
    "        self.patcher = nn.Sequential(\n",
    "            nn.Conv2d(\n",
    "                in_channels=in_channels,\n",
    "                out_channels=embed_dim,\n",
    "                kernel_size=patch_size,\n",
    "                stride=patch_size\n",
    "            ),\n",
    "            nn.Flatten(2)\n",
    "        )\n",
    "\n",
    "        self.cls_token = nn.Parameter(torch.randn(size=(1, in_channels, embed_dim)), requires_grad=True)\n",
    "        self.dropout = nn.Dropout(p=dropout)\n",
    "\n",
    "    def forward(self, x):\n",
    "        cls_token = self.cls_token.expand(x.shape[0], -1, -1)\n",
    "        x = self.patcher(x).permute(0, 2, 1)\n",
    "        x = torch.cat((cls_token, x), dim=1)\n",
    "        x = self.dropout(x)\n",
    "        return x"
   ]
  },
  {
   "cell_type": "code",
   "execution_count": 8,
   "metadata": {},
   "outputs": [],
   "source": [
    "class PatchEmbeddingHilbertPositionalEmbedding(nn.Module):\n",
    "    def __init__(self, embed_dim, patch_size, num_patches, dropout, in_channels, order):\n",
    "        super().__init__()\n",
    "        self.patcher = nn.Sequential(\n",
    "            nn.Conv2d(\n",
    "                in_channels=in_channels,\n",
    "                out_channels=embed_dim,\n",
    "                kernel_size=patch_size,\n",
    "                stride=patch_size\n",
    "            ),\n",
    "            nn.Flatten(2)\n",
    "        )\n",
    "\n",
    "        # Hilbert curve positional embeddings\n",
    "        hilbert_indices = HilbertIndices(num_patches)\n",
    "        position = torch.arange(0, num_patches, dtype=torch.float).unsqueeze(1)\n",
    "        div_term = torch.exp(torch.arange(0, 2 * embed_dim, 2).float() * (-np.log(10000.0) / (2 * embed_dim)))\n",
    "        \n",
    "        # print(\"Embed dim\", embed_dim)\n",
    "\n",
    "        # Adjust the shape of pe to match the size of position * div_term\n",
    "\n",
    "        # print(\"Number of patches\", num_patches)\n",
    "        pe = torch.zeros(num_patches, embed_dim) \n",
    "        #assert pe.size() == torch.Size([16, 49]), \"Size of pe tensor does not match expected size [16, 49]\"\n",
    "\n",
    "        \n",
    "\n",
    "        # print(\"Size of hilbert indicies: \", hilbert_indices.size)\n",
    "        # print(\"Size of pe tensor before assignment:\", pe.size())\n",
    "        # print(\"Size of position * div_term tensor:\", (position * div_term).size())\n",
    "        \n",
    "\n",
    "        # Adds the sin and cos values for each alternating collumn to add positional embeddings\n",
    "        pe[:, 0::2] = torch.sin(position * div_term)[:, 0::2]\n",
    "        pe[:, 1::2] = torch.cos(position * div_term)[:, 1::2]\n",
    "        # print(\"Size of pe tensor after assignment:\", pe.size())\n",
    "\n",
    "        assert pe.size() == torch.Size([NUM_PATCHES, PATCH_SIZE**2])\n",
    "\n",
    "        pe = pe[hilbert_indices]  # reorder according to Hilbert curve\n",
    "\n",
    "\n",
    "        # Remove the cls token from positional embeddings\n",
    "        self.position_embeddings = nn.Parameter(pe[:], requires_grad=False)\n",
    "\n",
    "        # print(\"Size of pe tensor after assignment AAAAA:\", pe.size())\n",
    "        # print(\"Pos embed aaaaaaaa\", self.position_embeddings.size())\n",
    "\n",
    "        # Add cls token separately\n",
    "        self.cls_token = nn.Parameter(torch.randn(1, 1, embed_dim), requires_grad=True)\n",
    "        self.dropout = nn.Dropout(p=dropout)\n",
    "\n",
    "    def forward(self, x):\n",
    "        cls_token = self.cls_token.expand(x.shape[0], -1, -1)\n",
    "        x = self.patcher(x).permute(0, 2, 1)\n",
    "\n",
    "        # print(\"Shape of x:\", x.shape) \n",
    "        # print(\"Shape of x after cat:\", x.shape)\n",
    "        # print(\"Shape of position_embeddings:\", self.position_embeddings.shape)\n",
    "        x = x + self.position_embeddings\n",
    "        x = torch.cat((cls_token, x), dim=1)\n",
    "        x = self.dropout(x)\n",
    "        return x"
   ]
  },
  {
   "cell_type": "code",
   "execution_count": 9,
   "metadata": {},
   "outputs": [],
   "source": [
    "class Vit(nn.Module):\n",
    "    def __init__(self, embedding_strategy, num_patches, img_size, num_classes, patch_size, embed_dim, num_encoders, num_heads, hidden_dim, dropout, activation, in_channels):\n",
    "        super().__init__()\n",
    "        self.embedings_block = embedding_strategy\n",
    "\n",
    "        encoder_layer = nn.TransformerEncoderLayer(d_model=embed_dim, nhead=num_heads, dropout=dropout, activation=activation, batch_first=True, norm_first=True)\n",
    "        self.encoder_blocks = nn.TransformerEncoder(encoder_layer, num_layers=num_encoders)\n",
    "\n",
    "        self.mlp_head = nn.Sequential(\n",
    "            nn.LayerNorm(normalized_shape=embed_dim),\n",
    "            nn.Linear(in_features=embed_dim, out_features=num_classes)\n",
    "        )\n",
    "\n",
    "    def forward(self, x):\n",
    "        x = self.embedings_block(x)\n",
    "        x = self.encoder_blocks(x)\n",
    "        x = self.mlp_head(x[:, 0 , :])\n",
    "        return x"
   ]
  },
  {
   "cell_type": "code",
   "execution_count": 10,
   "metadata": {},
   "outputs": [],
   "source": [
    "train_df = pd.read_csv(\"../fashion-mnist_train.csv\")\n",
    "test_df = pd.read_csv(\"../fashion-mnist_test.csv\")"
   ]
  },
  {
   "cell_type": "code",
   "execution_count": 11,
   "metadata": {},
   "outputs": [
    {
     "data": {
      "text/html": [
       "<div>\n",
       "<style scoped>\n",
       "    .dataframe tbody tr th:only-of-type {\n",
       "        vertical-align: middle;\n",
       "    }\n",
       "\n",
       "    .dataframe tbody tr th {\n",
       "        vertical-align: top;\n",
       "    }\n",
       "\n",
       "    .dataframe thead th {\n",
       "        text-align: right;\n",
       "    }\n",
       "</style>\n",
       "<table border=\"1\" class=\"dataframe\">\n",
       "  <thead>\n",
       "    <tr style=\"text-align: right;\">\n",
       "      <th></th>\n",
       "      <th>label</th>\n",
       "      <th>pixel1</th>\n",
       "      <th>pixel2</th>\n",
       "      <th>pixel3</th>\n",
       "      <th>pixel4</th>\n",
       "      <th>pixel5</th>\n",
       "      <th>pixel6</th>\n",
       "      <th>pixel7</th>\n",
       "      <th>pixel8</th>\n",
       "      <th>pixel9</th>\n",
       "      <th>...</th>\n",
       "      <th>pixel775</th>\n",
       "      <th>pixel776</th>\n",
       "      <th>pixel777</th>\n",
       "      <th>pixel778</th>\n",
       "      <th>pixel779</th>\n",
       "      <th>pixel780</th>\n",
       "      <th>pixel781</th>\n",
       "      <th>pixel782</th>\n",
       "      <th>pixel783</th>\n",
       "      <th>pixel784</th>\n",
       "    </tr>\n",
       "  </thead>\n",
       "  <tbody>\n",
       "    <tr>\n",
       "      <th>0</th>\n",
       "      <td>2</td>\n",
       "      <td>0</td>\n",
       "      <td>0</td>\n",
       "      <td>0</td>\n",
       "      <td>0</td>\n",
       "      <td>0</td>\n",
       "      <td>0</td>\n",
       "      <td>0</td>\n",
       "      <td>0</td>\n",
       "      <td>0</td>\n",
       "      <td>...</td>\n",
       "      <td>0</td>\n",
       "      <td>0</td>\n",
       "      <td>0</td>\n",
       "      <td>0</td>\n",
       "      <td>0</td>\n",
       "      <td>0</td>\n",
       "      <td>0</td>\n",
       "      <td>0</td>\n",
       "      <td>0</td>\n",
       "      <td>0</td>\n",
       "    </tr>\n",
       "    <tr>\n",
       "      <th>1</th>\n",
       "      <td>9</td>\n",
       "      <td>0</td>\n",
       "      <td>0</td>\n",
       "      <td>0</td>\n",
       "      <td>0</td>\n",
       "      <td>0</td>\n",
       "      <td>0</td>\n",
       "      <td>0</td>\n",
       "      <td>0</td>\n",
       "      <td>0</td>\n",
       "      <td>...</td>\n",
       "      <td>0</td>\n",
       "      <td>0</td>\n",
       "      <td>0</td>\n",
       "      <td>0</td>\n",
       "      <td>0</td>\n",
       "      <td>0</td>\n",
       "      <td>0</td>\n",
       "      <td>0</td>\n",
       "      <td>0</td>\n",
       "      <td>0</td>\n",
       "    </tr>\n",
       "    <tr>\n",
       "      <th>2</th>\n",
       "      <td>6</td>\n",
       "      <td>0</td>\n",
       "      <td>0</td>\n",
       "      <td>0</td>\n",
       "      <td>0</td>\n",
       "      <td>0</td>\n",
       "      <td>0</td>\n",
       "      <td>0</td>\n",
       "      <td>5</td>\n",
       "      <td>0</td>\n",
       "      <td>...</td>\n",
       "      <td>0</td>\n",
       "      <td>0</td>\n",
       "      <td>0</td>\n",
       "      <td>30</td>\n",
       "      <td>43</td>\n",
       "      <td>0</td>\n",
       "      <td>0</td>\n",
       "      <td>0</td>\n",
       "      <td>0</td>\n",
       "      <td>0</td>\n",
       "    </tr>\n",
       "    <tr>\n",
       "      <th>3</th>\n",
       "      <td>0</td>\n",
       "      <td>0</td>\n",
       "      <td>0</td>\n",
       "      <td>0</td>\n",
       "      <td>1</td>\n",
       "      <td>2</td>\n",
       "      <td>0</td>\n",
       "      <td>0</td>\n",
       "      <td>0</td>\n",
       "      <td>0</td>\n",
       "      <td>...</td>\n",
       "      <td>3</td>\n",
       "      <td>0</td>\n",
       "      <td>0</td>\n",
       "      <td>0</td>\n",
       "      <td>0</td>\n",
       "      <td>1</td>\n",
       "      <td>0</td>\n",
       "      <td>0</td>\n",
       "      <td>0</td>\n",
       "      <td>0</td>\n",
       "    </tr>\n",
       "    <tr>\n",
       "      <th>4</th>\n",
       "      <td>3</td>\n",
       "      <td>0</td>\n",
       "      <td>0</td>\n",
       "      <td>0</td>\n",
       "      <td>0</td>\n",
       "      <td>0</td>\n",
       "      <td>0</td>\n",
       "      <td>0</td>\n",
       "      <td>0</td>\n",
       "      <td>0</td>\n",
       "      <td>...</td>\n",
       "      <td>0</td>\n",
       "      <td>0</td>\n",
       "      <td>0</td>\n",
       "      <td>0</td>\n",
       "      <td>0</td>\n",
       "      <td>0</td>\n",
       "      <td>0</td>\n",
       "      <td>0</td>\n",
       "      <td>0</td>\n",
       "      <td>0</td>\n",
       "    </tr>\n",
       "  </tbody>\n",
       "</table>\n",
       "<p>5 rows × 785 columns</p>\n",
       "</div>"
      ],
      "text/plain": [
       "   label  pixel1  pixel2  pixel3  pixel4  pixel5  pixel6  pixel7  pixel8  \\\n",
       "0      2       0       0       0       0       0       0       0       0   \n",
       "1      9       0       0       0       0       0       0       0       0   \n",
       "2      6       0       0       0       0       0       0       0       5   \n",
       "3      0       0       0       0       1       2       0       0       0   \n",
       "4      3       0       0       0       0       0       0       0       0   \n",
       "\n",
       "   pixel9  ...  pixel775  pixel776  pixel777  pixel778  pixel779  pixel780  \\\n",
       "0       0  ...         0         0         0         0         0         0   \n",
       "1       0  ...         0         0         0         0         0         0   \n",
       "2       0  ...         0         0         0        30        43         0   \n",
       "3       0  ...         3         0         0         0         0         1   \n",
       "4       0  ...         0         0         0         0         0         0   \n",
       "\n",
       "   pixel781  pixel782  pixel783  pixel784  \n",
       "0         0         0         0         0  \n",
       "1         0         0         0         0  \n",
       "2         0         0         0         0  \n",
       "3         0         0         0         0  \n",
       "4         0         0         0         0  \n",
       "\n",
       "[5 rows x 785 columns]"
      ]
     },
     "execution_count": 11,
     "metadata": {},
     "output_type": "execute_result"
    }
   ],
   "source": [
    "train_df.head()"
   ]
  },
  {
   "cell_type": "code",
   "execution_count": 12,
   "metadata": {},
   "outputs": [
    {
     "data": {
      "text/html": [
       "<div>\n",
       "<style scoped>\n",
       "    .dataframe tbody tr th:only-of-type {\n",
       "        vertical-align: middle;\n",
       "    }\n",
       "\n",
       "    .dataframe tbody tr th {\n",
       "        vertical-align: top;\n",
       "    }\n",
       "\n",
       "    .dataframe thead th {\n",
       "        text-align: right;\n",
       "    }\n",
       "</style>\n",
       "<table border=\"1\" class=\"dataframe\">\n",
       "  <thead>\n",
       "    <tr style=\"text-align: right;\">\n",
       "      <th></th>\n",
       "      <th>label</th>\n",
       "      <th>pixel1</th>\n",
       "      <th>pixel2</th>\n",
       "      <th>pixel3</th>\n",
       "      <th>pixel4</th>\n",
       "      <th>pixel5</th>\n",
       "      <th>pixel6</th>\n",
       "      <th>pixel7</th>\n",
       "      <th>pixel8</th>\n",
       "      <th>pixel9</th>\n",
       "      <th>...</th>\n",
       "      <th>pixel775</th>\n",
       "      <th>pixel776</th>\n",
       "      <th>pixel777</th>\n",
       "      <th>pixel778</th>\n",
       "      <th>pixel779</th>\n",
       "      <th>pixel780</th>\n",
       "      <th>pixel781</th>\n",
       "      <th>pixel782</th>\n",
       "      <th>pixel783</th>\n",
       "      <th>pixel784</th>\n",
       "    </tr>\n",
       "  </thead>\n",
       "  <tbody>\n",
       "    <tr>\n",
       "      <th>0</th>\n",
       "      <td>0</td>\n",
       "      <td>0</td>\n",
       "      <td>0</td>\n",
       "      <td>0</td>\n",
       "      <td>0</td>\n",
       "      <td>0</td>\n",
       "      <td>0</td>\n",
       "      <td>0</td>\n",
       "      <td>9</td>\n",
       "      <td>8</td>\n",
       "      <td>...</td>\n",
       "      <td>103</td>\n",
       "      <td>87</td>\n",
       "      <td>56</td>\n",
       "      <td>0</td>\n",
       "      <td>0</td>\n",
       "      <td>0</td>\n",
       "      <td>0</td>\n",
       "      <td>0</td>\n",
       "      <td>0</td>\n",
       "      <td>0</td>\n",
       "    </tr>\n",
       "    <tr>\n",
       "      <th>1</th>\n",
       "      <td>1</td>\n",
       "      <td>0</td>\n",
       "      <td>0</td>\n",
       "      <td>0</td>\n",
       "      <td>0</td>\n",
       "      <td>0</td>\n",
       "      <td>0</td>\n",
       "      <td>0</td>\n",
       "      <td>0</td>\n",
       "      <td>0</td>\n",
       "      <td>...</td>\n",
       "      <td>34</td>\n",
       "      <td>0</td>\n",
       "      <td>0</td>\n",
       "      <td>0</td>\n",
       "      <td>0</td>\n",
       "      <td>0</td>\n",
       "      <td>0</td>\n",
       "      <td>0</td>\n",
       "      <td>0</td>\n",
       "      <td>0</td>\n",
       "    </tr>\n",
       "    <tr>\n",
       "      <th>2</th>\n",
       "      <td>2</td>\n",
       "      <td>0</td>\n",
       "      <td>0</td>\n",
       "      <td>0</td>\n",
       "      <td>0</td>\n",
       "      <td>0</td>\n",
       "      <td>0</td>\n",
       "      <td>14</td>\n",
       "      <td>53</td>\n",
       "      <td>99</td>\n",
       "      <td>...</td>\n",
       "      <td>0</td>\n",
       "      <td>0</td>\n",
       "      <td>0</td>\n",
       "      <td>0</td>\n",
       "      <td>63</td>\n",
       "      <td>53</td>\n",
       "      <td>31</td>\n",
       "      <td>0</td>\n",
       "      <td>0</td>\n",
       "      <td>0</td>\n",
       "    </tr>\n",
       "    <tr>\n",
       "      <th>3</th>\n",
       "      <td>2</td>\n",
       "      <td>0</td>\n",
       "      <td>0</td>\n",
       "      <td>0</td>\n",
       "      <td>0</td>\n",
       "      <td>0</td>\n",
       "      <td>0</td>\n",
       "      <td>0</td>\n",
       "      <td>0</td>\n",
       "      <td>0</td>\n",
       "      <td>...</td>\n",
       "      <td>137</td>\n",
       "      <td>126</td>\n",
       "      <td>140</td>\n",
       "      <td>0</td>\n",
       "      <td>133</td>\n",
       "      <td>224</td>\n",
       "      <td>222</td>\n",
       "      <td>56</td>\n",
       "      <td>0</td>\n",
       "      <td>0</td>\n",
       "    </tr>\n",
       "    <tr>\n",
       "      <th>4</th>\n",
       "      <td>3</td>\n",
       "      <td>0</td>\n",
       "      <td>0</td>\n",
       "      <td>0</td>\n",
       "      <td>0</td>\n",
       "      <td>0</td>\n",
       "      <td>0</td>\n",
       "      <td>0</td>\n",
       "      <td>0</td>\n",
       "      <td>0</td>\n",
       "      <td>...</td>\n",
       "      <td>0</td>\n",
       "      <td>0</td>\n",
       "      <td>0</td>\n",
       "      <td>0</td>\n",
       "      <td>0</td>\n",
       "      <td>0</td>\n",
       "      <td>0</td>\n",
       "      <td>0</td>\n",
       "      <td>0</td>\n",
       "      <td>0</td>\n",
       "    </tr>\n",
       "  </tbody>\n",
       "</table>\n",
       "<p>5 rows × 785 columns</p>\n",
       "</div>"
      ],
      "text/plain": [
       "   label  pixel1  pixel2  pixel3  pixel4  pixel5  pixel6  pixel7  pixel8  \\\n",
       "0      0       0       0       0       0       0       0       0       9   \n",
       "1      1       0       0       0       0       0       0       0       0   \n",
       "2      2       0       0       0       0       0       0      14      53   \n",
       "3      2       0       0       0       0       0       0       0       0   \n",
       "4      3       0       0       0       0       0       0       0       0   \n",
       "\n",
       "   pixel9  ...  pixel775  pixel776  pixel777  pixel778  pixel779  pixel780  \\\n",
       "0       8  ...       103        87        56         0         0         0   \n",
       "1       0  ...        34         0         0         0         0         0   \n",
       "2      99  ...         0         0         0         0        63        53   \n",
       "3       0  ...       137       126       140         0       133       224   \n",
       "4       0  ...         0         0         0         0         0         0   \n",
       "\n",
       "   pixel781  pixel782  pixel783  pixel784  \n",
       "0         0         0         0         0  \n",
       "1         0         0         0         0  \n",
       "2        31         0         0         0  \n",
       "3       222        56         0         0  \n",
       "4         0         0         0         0  \n",
       "\n",
       "[5 rows x 785 columns]"
      ]
     },
     "execution_count": 12,
     "metadata": {},
     "output_type": "execute_result"
    }
   ],
   "source": [
    "test_df.head()"
   ]
  },
  {
   "cell_type": "code",
   "execution_count": 13,
   "metadata": {},
   "outputs": [],
   "source": [
    "train_df, val_df = train_test_split(train_df, test_size=0.1, random_state=RANDOM_SEED, shuffle=True)"
   ]
  },
  {
   "cell_type": "code",
   "execution_count": 14,
   "metadata": {},
   "outputs": [],
   "source": [
    "class MNISTTrainDataset(Dataset):\n",
    "    def __init__(self, images, labels, indicies):\n",
    "        self.images = images\n",
    "        self.labels = labels\n",
    "        self. indicies = indicies\n",
    "        self.transform = transforms.Compose([\n",
    "            transforms.ToPILImage(),\n",
    "            transforms.RandomRotation(15),\n",
    "            transforms.ToTensor(),\n",
    "            transforms.Normalize([0.5], [0.5])\n",
    "        ])\n",
    "\n",
    "    def __len__(self):\n",
    "        return len(self.images)\n",
    "    \n",
    "    def __getitem__(self, idx):\n",
    "        image = self.images[idx].reshape((28,28)).astype(np.uint8)  \n",
    "        label = self.labels[idx]\n",
    "        index = self.indicies[idx]\n",
    "        image = self.transform(image)\n",
    "\n",
    "        return {\"image\": image, \"label\": label, \"index\": index}"
   ]
  },
  {
   "cell_type": "code",
   "execution_count": 15,
   "metadata": {},
   "outputs": [],
   "source": [
    "class MNISTValDataset(Dataset):\n",
    "    def __init__(self, images, labels, indicies):\n",
    "        self.images = images\n",
    "        self.labels = labels\n",
    "        self. indicies = indicies\n",
    "        self.transform = transforms.Compose([\n",
    "            transforms.ToTensor(),\n",
    "            transforms.Normalize([0.5], [0.5])\n",
    "        ])\n",
    "\n",
    "    def __len__(self):\n",
    "        return len(self.images)\n",
    "    \n",
    "    def __getitem__(self, idx):\n",
    "        image = self.images[idx].reshape((28,28)).astype(np.uint8)  \n",
    "        label = self.labels[idx]\n",
    "        index = self.indicies[idx]\n",
    "        image = self.transform(image)\n",
    "\n",
    "        return {\"image\": image, \"label\": label, \"index\": index}"
   ]
  },
  {
   "cell_type": "code",
   "execution_count": 16,
   "metadata": {},
   "outputs": [],
   "source": [
    "class MNISTTestDataset(Dataset):\n",
    "    def __init__(self, images, labels, indicies):\n",
    "        self.images = images\n",
    "        self.labels = labels\n",
    "        self. indicies = indicies\n",
    "        self.transform = transforms.Compose([\n",
    "            transforms.ToTensor(),\n",
    "            transforms.Normalize([0.5], [0.5])\n",
    "        ])\n",
    "\n",
    "    def __len__(self):\n",
    "        return len(self.images)\n",
    "    \n",
    "    def __getitem__(self, idx):\n",
    "        image = self.images[idx].reshape((28,28)).astype(np.uint8)  \n",
    "        label = self.labels[idx]\n",
    "        index = self.indicies[idx]\n",
    "        image = self.transform(image)\n",
    "\n",
    "        return {\"image\": image, \"label\": label, \"index\": index}"
   ]
  },
  {
   "cell_type": "code",
   "execution_count": 17,
   "metadata": {},
   "outputs": [
    {
     "name": "stdout",
     "output_type": "stream",
     "text": [
      "54000\n",
      "------------------------------\n",
      "6000\n",
      "------------------------------\n",
      "10000\n"
     ]
    },
    {
     "data": {
      "text/plain": [
       "Text(0.5, 1.0, 'Test Image')"
      ]
     },
     "execution_count": 17,
     "metadata": {},
     "output_type": "execute_result"
    },
    {
     "data": {
      "text/plain": [
       "<Figure size 640x480 with 0 Axes>"
      ]
     },
     "metadata": {},
     "output_type": "display_data"
    },
    {
     "data": {
      "image/png": "[encoded data removed]",
      "text/plain": [
       "<Figure size 640x480 with 3 Axes>"
      ]
     },
     "metadata": {},
     "output_type": "display_data"
    }
   ],
   "source": [
    "plt.figure()\n",
    "f, axarr = plt.subplots(1, 3)\n",
    "\n",
    "train_dataset = MNISTTrainDataset(train_df.iloc[:, 1:].values.astype(np.uint8), train_df.iloc[:, 0].values, train_df.index.values)\n",
    "print(len(train_dataset))\n",
    "axarr[0].imshow(train_dataset[0][\"image\"].squeeze(), cmap=\"gray\")\n",
    "axarr[0].set_title(\"Train Image\")\n",
    "print(\"-\"*30)\n",
    "\n",
    "\n",
    "val_dataset = MNISTValDataset(val_df.iloc[:, 1:].values.astype(np.uint8), val_df.iloc[:, 0].values, val_df.index.values)\n",
    "print(len(val_dataset))\n",
    "axarr[1].imshow(val_dataset[0][\"image\"].squeeze(), cmap=\"gray\")\n",
    "axarr[1].set_title(\"Validation Image\")\n",
    "print(\"-\"*30)\n",
    "\n",
    "\n",
    "test_dataset = MNISTTestDataset(test_df.iloc[:, 1:].values.astype(np.uint8), test_df.iloc[:, 0].values, test_df.index.values)\n",
    "print(len(test_dataset))\n",
    "axarr[2].imshow(val_dataset[0][\"image\"].squeeze(), cmap=\"gray\")\n",
    "axarr[2].set_title(\"Test Image\")"
   ]
  },
  {
   "cell_type": "code",
   "execution_count": 18,
   "metadata": {},
   "outputs": [],
   "source": [
    "train_dataloader = DataLoader(dataset=train_dataset, batch_size=BATCH_SIZE, shuffle=True)\n",
    "val_dataloader = DataLoader(dataset=val_dataset, batch_size=BATCH_SIZE, shuffle=True)\n",
    "test_dataloader = DataLoader(dataset=test_dataset, batch_size=BATCH_SIZE, shuffle=False)"
   ]
  },
  {
   "cell_type": "code",
   "execution_count": 19,
   "metadata": {},
   "outputs": [],
   "source": [
    "def training_loop(embedding_strategy, checkpoint_path):\n",
    "    model = Vit(embedding_strategy, NUM_PATCHES, IMAGE_SIZE, NUM_CLASSES, PATCH_SIZE, EMBEDING_DIMENTION, NUM_ENCODERS, NUM_HEADS, HIDDEN_DIM, DROPUT, ACTIVATION, IN_CHANNELS).to(device)\n",
    "\n",
    "    criterion = nn.CrossEntropyLoss()\n",
    "    optimizer = optim.Adam(model.parameters(), betas=ADAM_BETAS, lr=LEARNING_RATE, weight_decay=ADAM_WEIGHT_DECAY)\n",
    "\n",
    "    best_val_loss = float('inf')\n",
    "\n",
    "    epochs_no_improve = 0\n",
    "    early_stop = False\n",
    "\n",
    "    start = timeit.default_timer()\n",
    "\n",
    "    train_losses = []\n",
    "    train_accuracies = []\n",
    "    val_losses = []\n",
    "    val_accuracies = []\n",
    "\n",
    "    for epoch in tqdm(range(EPOCHS), position=0, leave=True):\n",
    "        model.train()\n",
    "        train_labels = []\n",
    "        train_preds = []\n",
    "        train_running_loss = 0\n",
    "\n",
    "        for idx, img_label in enumerate(tqdm(train_dataloader, position=0, leave=True)):\n",
    "            img = img_label[\"image\"].float().to(device)\n",
    "            label = img_label[\"label\"].type(torch.uint8).to(device)\n",
    "            y_pred = model(img)\n",
    "            y_pred_label = torch.argmax(y_pred, dim=1)\n",
    "\n",
    "            train_labels.extend(label.cpu().detach())\n",
    "            train_preds.extend(y_pred_label.cpu().detach())\n",
    "\n",
    "            loss = criterion(y_pred, label)\n",
    "\n",
    "            optimizer.zero_grad()\n",
    "            loss.backward()\n",
    "            optimizer.step()\n",
    "\n",
    "            train_running_loss += loss.item()\n",
    "        \n",
    "        train_loss = train_running_loss / (idx+1)\n",
    "\n",
    "        model.eval()\n",
    "        val_labels = []\n",
    "        val_preds = []\n",
    "        val_running_loss = 0\n",
    "\n",
    "        with torch.no_grad():\n",
    "            for idx, img_label in enumerate(tqdm(val_dataloader, position=0, leave=True)):\n",
    "                img = img_label[\"image\"].float().to(device)\n",
    "                label = img_label[\"label\"].type(torch.uint8).to(device)\n",
    "                y_pred = model(img)\n",
    "                y_pred_label = torch.argmax(y_pred, dim=1)\n",
    "\n",
    "                val_labels.extend(label.cpu().detach())\n",
    "                val_preds.extend(y_pred_label.cpu().detach())\n",
    "\n",
    "                loss = criterion(y_pred, label)\n",
    "\n",
    "                val_running_loss += loss.item()\n",
    "\n",
    "        val_loss = val_running_loss / (idx+1)\n",
    "\n",
    "        if val_loss < best_val_loss:\n",
    "            best_val_loss = val_loss\n",
    "            torch.save(model.state_dict(), checkpoint_path)\n",
    "            print(f'Epoch {epoch+1}: New best model saved with val_loss: {val_loss:.4f}')\n",
    "            epochs_no_improve = 0\n",
    "        else:\n",
    "            epochs_no_improve += 1\n",
    "\n",
    "        if epochs_no_improve == PATIANCE:\n",
    "            print(\"Early stopping triggered\")\n",
    "            early_stop = True\n",
    "            break\n",
    "\n",
    "        train_losses.append(train_loss)\n",
    "        val_losses.append(val_loss)\n",
    "        train_accuracy = sum(1 for x, y in zip(train_preds, train_labels) if x == y) / len(train_labels)\n",
    "        val_accuracy = sum(1 for x, y in zip(val_preds, val_labels) if x == y) / len(val_labels)\n",
    "        train_accuracies.append(train_accuracy)\n",
    "        val_accuracies.append(val_accuracy)\n",
    "\n",
    "        print(\"-\"*30)\n",
    "        print(f\"Train Loss EPOCH {epoch+1}: {train_loss:.4f}\")\n",
    "        print(f\"Valid Loss EPOCH {epoch+1}: {val_loss:.4f}\")\n",
    "        print(f\"Train Accuracy EPOCH {epoch+1}: {train_accuracy:.4f}\")\n",
    "        print(f\"Valid Accuracy EPOCH {epoch+1}: {val_accuracy:.4f}\")\n",
    "        print(\"-\"*30)\n",
    "\n",
    "    if not early_stop:\n",
    "        print(\"Completed all epochs without early stopping.\")\n",
    "\n",
    "    stop = timeit.default_timer()\n",
    "    print(f\"Training Time: {stop-start:.2f}s\")\n",
    "\n",
    "    fig, (ax1, ax2) = plt.subplots(2, 1, figsize=(10, 10))\n",
    "    fig.suptitle('Training and Validation Metrics')\n",
    "\n",
    "    ax1.plot(train_losses, label='Train Loss')\n",
    "    ax1.plot(val_losses, label='Validation Loss')\n",
    "    ax1.set_title('Loss over epochs')\n",
    "    ax1.set_xlabel('Epochs')\n",
    "    ax1.set_ylabel('Loss')\n",
    "    ax1.legend()\n",
    "\n",
    "    ax2.plot(train_accuracies, label='Train Accuracy')\n",
    "    ax2.plot(val_accuracies, label='Validation Accuracy')\n",
    "    ax2.set_title('Accuracy over epochs')\n",
    "    ax2.set_xlabel('Epochs')\n",
    "    ax2.set_ylabel('Accuracy')\n",
    "    ax2.legend()\n",
    "\n",
    "    plt.show()\n",
    "\n",
    "    return model"
   ]
  },
  {
   "cell_type": "code",
   "execution_count": 20,
   "metadata": {},
   "outputs": [],
   "source": [
    "def test_model(model, checkpoint_path):\n",
    "    model.load_state_dict(torch.load(checkpoint_path))\n",
    "    model.eval()\n",
    "    test_running_loss = 0\n",
    "    test_labels = []\n",
    "    test_preds = []\n",
    "    criterion = nn.CrossEntropyLoss()  \n",
    "\n",
    "    with torch.no_grad(): \n",
    "        for img_label in tqdm(test_dataloader, position=0, leave=True):\n",
    "            img = img_label[\"image\"].float().to(device)\n",
    "            label = img_label[\"label\"].type(torch.uint8).to(device)\n",
    "\n",
    "            y_pred = model(img)\n",
    "            y_pred_label = torch.argmax(y_pred, dim=1)\n",
    "\n",
    "            test_labels.extend(label.cpu().detach())\n",
    "            test_preds.extend(y_pred_label.cpu().detach())\n",
    "\n",
    "            loss = criterion(y_pred, label)\n",
    "            test_running_loss += loss.item()\n",
    "\n",
    "    test_loss = test_running_loss / len(test_dataloader)\n",
    "    test_accuracy = sum(1 for x, y in zip(test_preds, test_labels) if x == y) / len(test_labels)\n",
    "\n",
    "    print(f\"Test Loss: {test_loss:.4f}\")\n",
    "    print(f\"Test Accuracy: {test_accuracy:.4f}\")"
   ]
  },
  {
   "cell_type": "code",
   "execution_count": 21,
   "metadata": {},
   "outputs": [
    {
     "name": "stderr",
     "output_type": "stream",
     "text": [
      "/Users/nihat/mambaforge/envs/bachelor-project/lib/python3.12/site-packages/torch/nn/modules/transformer.py:286: UserWarning: enable_nested_tensor is True, but self.use_nested_tensor is False because encoder_layer.norm_first was True\n",
      "  warnings.warn(f\"enable_nested_tensor is True, but self.use_nested_tensor is False because {why_not_sparsity_fast_path}\")\n",
      "100%|██████████| 106/106 [00:17<00:00,  6.04it/s]\n",
      "100%|██████████| 12/12 [00:00<00:00, 17.04it/s]\n",
      "  5%|▌         | 1/20 [00:18<05:49, 18.37s/it]"
     ]
    },
    {
     "name": "stdout",
     "output_type": "stream",
     "text": [
      "Epoch 1: New best model saved with val_loss: 0.8277\n",
      "------------------------------\n",
      "Train Loss EPOCH 1: 1.5603\n",
      "Valid Loss EPOCH 1: 0.8277\n",
      "Train Accuracy EPOCH 1: 0.4060\n",
      "Valid Accuracy EPOCH 1: 0.6600\n",
      "------------------------------\n"
     ]
    },
    {
     "name": "stderr",
     "output_type": "stream",
     "text": [
      "100%|██████████| 106/106 [00:17<00:00,  6.22it/s]\n",
      "100%|██████████| 12/12 [00:00<00:00, 19.36it/s]\n",
      " 10%|█         | 2/20 [00:36<05:24, 18.04s/it]"
     ]
    },
    {
     "name": "stdout",
     "output_type": "stream",
     "text": [
      "Epoch 2: New best model saved with val_loss: 0.5906\n",
      "------------------------------\n",
      "Train Loss EPOCH 2: 0.7134\n",
      "Valid Loss EPOCH 2: 0.5906\n",
      "Train Accuracy EPOCH 2: 0.7273\n",
      "Valid Accuracy EPOCH 2: 0.7887\n",
      "------------------------------\n"
     ]
    },
    {
     "name": "stderr",
     "output_type": "stream",
     "text": [
      "100%|██████████| 106/106 [00:16<00:00,  6.36it/s]\n",
      "100%|██████████| 12/12 [00:00<00:00, 18.47it/s]\n",
      " 15%|█▌        | 3/20 [00:53<05:02, 17.79s/it]"
     ]
    },
    {
     "name": "stdout",
     "output_type": "stream",
     "text": [
      "Epoch 3: New best model saved with val_loss: 0.4984\n",
      "------------------------------\n",
      "Train Loss EPOCH 3: 0.5879\n",
      "Valid Loss EPOCH 3: 0.4984\n",
      "Train Accuracy EPOCH 3: 0.7833\n",
      "Valid Accuracy EPOCH 3: 0.8147\n",
      "------------------------------\n"
     ]
    },
    {
     "name": "stderr",
     "output_type": "stream",
     "text": [
      "100%|██████████| 106/106 [00:16<00:00,  6.34it/s]\n",
      "100%|██████████| 12/12 [00:00<00:00, 19.27it/s]\n",
      " 20%|██        | 4/20 [01:11<04:42, 17.67s/it]"
     ]
    },
    {
     "name": "stdout",
     "output_type": "stream",
     "text": [
      "Epoch 4: New best model saved with val_loss: 0.4605\n",
      "------------------------------\n",
      "Train Loss EPOCH 4: 0.5351\n",
      "Valid Loss EPOCH 4: 0.4605\n",
      "Train Accuracy EPOCH 4: 0.8027\n",
      "Valid Accuracy EPOCH 4: 0.8302\n",
      "------------------------------\n"
     ]
    },
    {
     "name": "stderr",
     "output_type": "stream",
     "text": [
      "100%|██████████| 106/106 [00:17<00:00,  6.12it/s]\n",
      "100%|██████████| 12/12 [00:00<00:00, 19.41it/s]\n",
      " 25%|██▌       | 5/20 [01:29<04:27, 17.83s/it]"
     ]
    },
    {
     "name": "stdout",
     "output_type": "stream",
     "text": [
      "Epoch 5: New best model saved with val_loss: 0.4411\n",
      "------------------------------\n",
      "Train Loss EPOCH 5: 0.5009\n",
      "Valid Loss EPOCH 5: 0.4411\n",
      "Train Accuracy EPOCH 5: 0.8149\n",
      "Valid Accuracy EPOCH 5: 0.8360\n",
      "------------------------------\n"
     ]
    },
    {
     "name": "stderr",
     "output_type": "stream",
     "text": [
      "100%|██████████| 106/106 [00:17<00:00,  6.18it/s]\n",
      "100%|██████████| 12/12 [00:00<00:00, 19.06it/s]\n",
      " 30%|███       | 6/20 [01:47<04:10, 17.86s/it]"
     ]
    },
    {
     "name": "stdout",
     "output_type": "stream",
     "text": [
      "Epoch 6: New best model saved with val_loss: 0.4146\n",
      "------------------------------\n",
      "Train Loss EPOCH 6: 0.4710\n",
      "Valid Loss EPOCH 6: 0.4146\n",
      "Train Accuracy EPOCH 6: 0.8256\n",
      "Valid Accuracy EPOCH 6: 0.8470\n",
      "------------------------------\n"
     ]
    },
    {
     "name": "stderr",
     "output_type": "stream",
     "text": [
      "100%|██████████| 106/106 [00:17<00:00,  6.11it/s]\n",
      "100%|██████████| 12/12 [00:00<00:00, 18.65it/s]\n",
      " 35%|███▌      | 7/20 [02:05<03:53, 17.96s/it]"
     ]
    },
    {
     "name": "stdout",
     "output_type": "stream",
     "text": [
      "Epoch 7: New best model saved with val_loss: 0.4076\n",
      "------------------------------\n",
      "Train Loss EPOCH 7: 0.4495\n",
      "Valid Loss EPOCH 7: 0.4076\n",
      "Train Accuracy EPOCH 7: 0.8333\n",
      "Valid Accuracy EPOCH 7: 0.8463\n",
      "------------------------------\n"
     ]
    },
    {
     "name": "stderr",
     "output_type": "stream",
     "text": [
      "100%|██████████| 106/106 [00:17<00:00,  6.22it/s]\n",
      "100%|██████████| 12/12 [00:00<00:00, 18.89it/s]\n",
      " 40%|████      | 8/20 [02:23<03:35, 17.92s/it]"
     ]
    },
    {
     "name": "stdout",
     "output_type": "stream",
     "text": [
      "Epoch 8: New best model saved with val_loss: 0.3863\n",
      "------------------------------\n",
      "Train Loss EPOCH 8: 0.4343\n",
      "Valid Loss EPOCH 8: 0.3863\n",
      "Train Accuracy EPOCH 8: 0.8384\n",
      "Valid Accuracy EPOCH 8: 0.8557\n",
      "------------------------------\n"
     ]
    },
    {
     "name": "stderr",
     "output_type": "stream",
     "text": [
      "100%|██████████| 106/106 [00:17<00:00,  6.22it/s]\n",
      "100%|██████████| 12/12 [00:00<00:00, 18.92it/s]\n",
      " 45%|████▌     | 9/20 [02:41<03:16, 17.91s/it]"
     ]
    },
    {
     "name": "stdout",
     "output_type": "stream",
     "text": [
      "Epoch 9: New best model saved with val_loss: 0.3728\n",
      "------------------------------\n",
      "Train Loss EPOCH 9: 0.4207\n",
      "Valid Loss EPOCH 9: 0.3728\n",
      "Train Accuracy EPOCH 9: 0.8430\n",
      "Valid Accuracy EPOCH 9: 0.8612\n",
      "------------------------------\n"
     ]
    },
    {
     "name": "stderr",
     "output_type": "stream",
     "text": [
      "100%|██████████| 106/106 [00:16<00:00,  6.28it/s]\n",
      "100%|██████████| 12/12 [00:00<00:00, 19.39it/s]\n",
      " 50%|█████     | 10/20 [02:58<02:58, 17.83s/it]"
     ]
    },
    {
     "name": "stdout",
     "output_type": "stream",
     "text": [
      "------------------------------\n",
      "Train Loss EPOCH 10: 0.4109\n",
      "Valid Loss EPOCH 10: 0.3835\n",
      "Train Accuracy EPOCH 10: 0.8475\n",
      "Valid Accuracy EPOCH 10: 0.8530\n",
      "------------------------------\n"
     ]
    },
    {
     "name": "stderr",
     "output_type": "stream",
     "text": [
      "100%|██████████| 106/106 [00:17<00:00,  6.17it/s]\n",
      "100%|██████████| 12/12 [00:00<00:00, 18.93it/s]\n",
      " 55%|█████▌    | 11/20 [03:16<02:40, 17.87s/it]"
     ]
    },
    {
     "name": "stdout",
     "output_type": "stream",
     "text": [
      "Epoch 11: New best model saved with val_loss: 0.3557\n",
      "------------------------------\n",
      "Train Loss EPOCH 11: 0.3975\n",
      "Valid Loss EPOCH 11: 0.3557\n",
      "Train Accuracy EPOCH 11: 0.8535\n",
      "Valid Accuracy EPOCH 11: 0.8673\n",
      "------------------------------\n"
     ]
    },
    {
     "name": "stderr",
     "output_type": "stream",
     "text": [
      "100%|██████████| 106/106 [00:17<00:00,  6.22it/s]\n",
      "100%|██████████| 12/12 [00:00<00:00, 19.06it/s]\n",
      " 60%|██████    | 12/20 [03:34<02:22, 17.85s/it]"
     ]
    },
    {
     "name": "stdout",
     "output_type": "stream",
     "text": [
      "------------------------------\n",
      "Train Loss EPOCH 12: 0.3890\n",
      "Valid Loss EPOCH 12: 0.3602\n",
      "Train Accuracy EPOCH 12: 0.8552\n",
      "Valid Accuracy EPOCH 12: 0.8658\n",
      "------------------------------\n"
     ]
    },
    {
     "name": "stderr",
     "output_type": "stream",
     "text": [
      "100%|██████████| 106/106 [00:16<00:00,  6.28it/s]\n",
      "100%|██████████| 12/12 [00:00<00:00, 18.80it/s]\n",
      " 65%|██████▌   | 13/20 [03:52<02:04, 17.80s/it]"
     ]
    },
    {
     "name": "stdout",
     "output_type": "stream",
     "text": [
      "Epoch 13: New best model saved with val_loss: 0.3527\n",
      "------------------------------\n",
      "Train Loss EPOCH 13: 0.3806\n",
      "Valid Loss EPOCH 13: 0.3527\n",
      "Train Accuracy EPOCH 13: 0.8587\n",
      "Valid Accuracy EPOCH 13: 0.8722\n",
      "------------------------------\n"
     ]
    },
    {
     "name": "stderr",
     "output_type": "stream",
     "text": [
      "100%|██████████| 106/106 [00:17<00:00,  6.20it/s]\n",
      "100%|██████████| 12/12 [00:00<00:00, 19.19it/s]\n",
      " 70%|███████   | 14/20 [04:10<01:46, 17.82s/it]"
     ]
    },
    {
     "name": "stdout",
     "output_type": "stream",
     "text": [
      "Epoch 14: New best model saved with val_loss: 0.3415\n",
      "------------------------------\n",
      "Train Loss EPOCH 14: 0.3704\n",
      "Valid Loss EPOCH 14: 0.3415\n",
      "Train Accuracy EPOCH 14: 0.8610\n",
      "Valid Accuracy EPOCH 14: 0.8740\n",
      "------------------------------\n"
     ]
    },
    {
     "name": "stderr",
     "output_type": "stream",
     "text": [
      "100%|██████████| 106/106 [00:17<00:00,  6.14it/s]\n",
      "100%|██████████| 12/12 [00:00<00:00, 18.95it/s]\n",
      " 75%|███████▌  | 15/20 [04:28<01:29, 17.89s/it]"
     ]
    },
    {
     "name": "stdout",
     "output_type": "stream",
     "text": [
      "------------------------------\n",
      "Train Loss EPOCH 15: 0.3656\n",
      "Valid Loss EPOCH 15: 0.3494\n",
      "Train Accuracy EPOCH 15: 0.8640\n",
      "Valid Accuracy EPOCH 15: 0.8713\n",
      "------------------------------\n"
     ]
    },
    {
     "name": "stderr",
     "output_type": "stream",
     "text": [
      "100%|██████████| 106/106 [00:17<00:00,  6.12it/s]\n",
      "100%|██████████| 12/12 [00:00<00:00, 16.44it/s]\n",
      " 80%|████████  | 16/20 [04:46<01:11, 17.99s/it]"
     ]
    },
    {
     "name": "stdout",
     "output_type": "stream",
     "text": [
      "Epoch 16: New best model saved with val_loss: 0.3278\n",
      "------------------------------\n",
      "Train Loss EPOCH 16: 0.3570\n",
      "Valid Loss EPOCH 16: 0.3278\n",
      "Train Accuracy EPOCH 16: 0.8668\n",
      "Valid Accuracy EPOCH 16: 0.8787\n",
      "------------------------------\n"
     ]
    },
    {
     "name": "stderr",
     "output_type": "stream",
     "text": [
      "100%|██████████| 106/106 [00:18<00:00,  5.72it/s]\n",
      "100%|██████████| 12/12 [00:00<00:00, 18.03it/s]\n",
      " 85%|████████▌ | 17/20 [05:05<00:55, 18.39s/it]"
     ]
    },
    {
     "name": "stdout",
     "output_type": "stream",
     "text": [
      "------------------------------\n",
      "Train Loss EPOCH 17: 0.3555\n",
      "Valid Loss EPOCH 17: 0.3322\n",
      "Train Accuracy EPOCH 17: 0.8658\n",
      "Valid Accuracy EPOCH 17: 0.8730\n",
      "------------------------------\n"
     ]
    },
    {
     "name": "stderr",
     "output_type": "stream",
     "text": [
      "100%|██████████| 106/106 [00:17<00:00,  6.18it/s]\n",
      "100%|██████████| 12/12 [00:00<00:00, 18.60it/s]\n",
      " 90%|█████████ | 18/20 [05:23<00:36, 18.26s/it]"
     ]
    },
    {
     "name": "stdout",
     "output_type": "stream",
     "text": [
      "Epoch 18: New best model saved with val_loss: 0.3169\n",
      "------------------------------\n",
      "Train Loss EPOCH 18: 0.3494\n",
      "Valid Loss EPOCH 18: 0.3169\n",
      "Train Accuracy EPOCH 18: 0.8698\n",
      "Valid Accuracy EPOCH 18: 0.8833\n",
      "------------------------------\n"
     ]
    },
    {
     "name": "stderr",
     "output_type": "stream",
     "text": [
      "100%|██████████| 106/106 [00:16<00:00,  6.37it/s]\n",
      "100%|██████████| 12/12 [00:00<00:00, 18.93it/s]\n",
      " 95%|█████████▌| 19/20 [05:41<00:18, 18.01s/it]"
     ]
    },
    {
     "name": "stdout",
     "output_type": "stream",
     "text": [
      "------------------------------\n",
      "Train Loss EPOCH 19: 0.3457\n",
      "Valid Loss EPOCH 19: 0.3218\n",
      "Train Accuracy EPOCH 19: 0.8724\n",
      "Valid Accuracy EPOCH 19: 0.8823\n",
      "------------------------------\n"
     ]
    },
    {
     "name": "stderr",
     "output_type": "stream",
     "text": [
      "100%|██████████| 106/106 [00:16<00:00,  6.32it/s]\n",
      "100%|██████████| 12/12 [00:00<00:00, 20.01it/s]\n",
      "100%|██████████| 20/20 [05:58<00:00, 17.93s/it]\n"
     ]
    },
    {
     "name": "stdout",
     "output_type": "stream",
     "text": [
      "------------------------------\n",
      "Train Loss EPOCH 20: 0.3376\n",
      "Valid Loss EPOCH 20: 0.3251\n",
      "Train Accuracy EPOCH 20: 0.8732\n",
      "Valid Accuracy EPOCH 20: 0.8767\n",
      "------------------------------\n",
      "Completed all epochs without early stopping.\n",
      "Training Time: 358.59s\n"
     ]
    },
    {
     "data": {
      "image/png": "[encoded data removed]",
      "text/plain": [
       "<Figure size 1000x1000 with 2 Axes>"
      ]
     },
     "metadata": {},
     "output_type": "display_data"
    },
    {
     "name": "stderr",
     "output_type": "stream",
     "text": [
      "100%|██████████| 20/20 [00:01<00:00, 18.85it/s]"
     ]
    },
    {
     "name": "stdout",
     "output_type": "stream",
     "text": [
      "Test Loss: 0.3272\n",
      "Test Accuracy: 0.8792\n"
     ]
    },
    {
     "name": "stderr",
     "output_type": "stream",
     "text": [
      "\n"
     ]
    }
   ],
   "source": [
    "learned_postional_embedding = PatchEmbeddingLearnedPositionalEmbedding(EMBEDING_DIMENTION, PATCH_SIZE, NUM_PATCHES, DROPUT, IN_CHANNELS)\n",
    "model_learned = training_loop(learned_postional_embedding, 'best_model_learned_embedding.pt')\n",
    "test_model(model_learned, 'best_model_learned_embedding.pt')"
   ]
  },
  {
   "cell_type": "code",
   "execution_count": 22,
   "metadata": {},
   "outputs": [
    {
     "name": "stderr",
     "output_type": "stream",
     "text": [
      "100%|██████████| 106/106 [00:18<00:00,  5.83it/s]\n",
      "100%|██████████| 12/12 [00:00<00:00, 16.92it/s]\n",
      "  5%|▌         | 1/20 [00:19<06:02, 19.06s/it]"
     ]
    },
    {
     "name": "stdout",
     "output_type": "stream",
     "text": [
      "Epoch 1: New best model saved with val_loss: 0.9317\n",
      "------------------------------\n",
      "Train Loss EPOCH 1: 1.3644\n",
      "Valid Loss EPOCH 1: 0.9317\n",
      "Train Accuracy EPOCH 1: 0.5096\n",
      "Valid Accuracy EPOCH 1: 0.6650\n",
      "------------------------------\n"
     ]
    },
    {
     "name": "stderr",
     "output_type": "stream",
     "text": [
      "100%|██████████| 106/106 [00:17<00:00,  6.01it/s]\n",
      "100%|██████████| 12/12 [00:00<00:00, 20.14it/s]\n",
      " 10%|█         | 2/20 [00:37<05:36, 18.71s/it]"
     ]
    },
    {
     "name": "stdout",
     "output_type": "stream",
     "text": [
      "Epoch 2: New best model saved with val_loss: 0.7768\n",
      "------------------------------\n",
      "Train Loss EPOCH 2: 0.8591\n",
      "Valid Loss EPOCH 2: 0.7768\n",
      "Train Accuracy EPOCH 2: 0.6914\n",
      "Valid Accuracy EPOCH 2: 0.7227\n",
      "------------------------------\n"
     ]
    },
    {
     "name": "stderr",
     "output_type": "stream",
     "text": [
      "100%|██████████| 106/106 [00:16<00:00,  6.42it/s]\n",
      "100%|██████████| 12/12 [00:00<00:00, 20.20it/s]\n",
      " 15%|█▌        | 3/20 [00:54<05:06, 18.05s/it]"
     ]
    },
    {
     "name": "stdout",
     "output_type": "stream",
     "text": [
      "Epoch 3: New best model saved with val_loss: 0.7202\n",
      "------------------------------\n",
      "Train Loss EPOCH 3: 0.7570\n",
      "Valid Loss EPOCH 3: 0.7202\n",
      "Train Accuracy EPOCH 3: 0.7245\n",
      "Valid Accuracy EPOCH 3: 0.7352\n",
      "------------------------------\n"
     ]
    },
    {
     "name": "stderr",
     "output_type": "stream",
     "text": [
      "100%|██████████| 106/106 [00:16<00:00,  6.54it/s]\n",
      "100%|██████████| 12/12 [00:00<00:00, 20.26it/s]\n",
      " 20%|██        | 4/20 [01:11<04:41, 17.62s/it]"
     ]
    },
    {
     "name": "stdout",
     "output_type": "stream",
     "text": [
      "Epoch 4: New best model saved with val_loss: 0.6696\n",
      "------------------------------\n",
      "Train Loss EPOCH 4: 0.6960\n",
      "Valid Loss EPOCH 4: 0.6696\n",
      "Train Accuracy EPOCH 4: 0.7471\n",
      "Valid Accuracy EPOCH 4: 0.7530\n",
      "------------------------------\n"
     ]
    },
    {
     "name": "stderr",
     "output_type": "stream",
     "text": [
      "100%|██████████| 106/106 [00:17<00:00,  6.09it/s]\n",
      "100%|██████████| 12/12 [00:00<00:00, 17.27it/s]\n",
      " 25%|██▌       | 5/20 [01:29<04:27, 17.84s/it]"
     ]
    },
    {
     "name": "stdout",
     "output_type": "stream",
     "text": [
      "Epoch 5: New best model saved with val_loss: 0.6040\n",
      "------------------------------\n",
      "Train Loss EPOCH 5: 0.6581\n",
      "Valid Loss EPOCH 5: 0.6040\n",
      "Train Accuracy EPOCH 5: 0.7587\n",
      "Valid Accuracy EPOCH 5: 0.7792\n",
      "------------------------------\n"
     ]
    },
    {
     "name": "stderr",
     "output_type": "stream",
     "text": [
      "100%|██████████| 106/106 [00:16<00:00,  6.33it/s]\n",
      "100%|██████████| 12/12 [00:00<00:00, 19.34it/s]\n",
      " 30%|███       | 6/20 [01:47<04:08, 17.74s/it]"
     ]
    },
    {
     "name": "stdout",
     "output_type": "stream",
     "text": [
      "Epoch 6: New best model saved with val_loss: 0.5523\n",
      "------------------------------\n",
      "Train Loss EPOCH 6: 0.6280\n",
      "Valid Loss EPOCH 6: 0.5523\n",
      "Train Accuracy EPOCH 6: 0.7718\n",
      "Valid Accuracy EPOCH 6: 0.8012\n",
      "------------------------------\n"
     ]
    },
    {
     "name": "stderr",
     "output_type": "stream",
     "text": [
      "100%|██████████| 106/106 [00:16<00:00,  6.59it/s]\n",
      "100%|██████████| 12/12 [00:00<00:00, 19.07it/s]\n",
      " 35%|███▌      | 7/20 [02:04<03:46, 17.46s/it]"
     ]
    },
    {
     "name": "stdout",
     "output_type": "stream",
     "text": [
      "Epoch 7: New best model saved with val_loss: 0.5499\n",
      "------------------------------\n",
      "Train Loss EPOCH 7: 0.6007\n",
      "Valid Loss EPOCH 7: 0.5499\n",
      "Train Accuracy EPOCH 7: 0.7802\n",
      "Valid Accuracy EPOCH 7: 0.8035\n",
      "------------------------------\n"
     ]
    },
    {
     "name": "stderr",
     "output_type": "stream",
     "text": [
      "100%|██████████| 106/106 [00:16<00:00,  6.54it/s]\n",
      "100%|██████████| 12/12 [00:00<00:00, 19.81it/s]\n",
      " 40%|████      | 8/20 [02:21<03:27, 17.30s/it]"
     ]
    },
    {
     "name": "stdout",
     "output_type": "stream",
     "text": [
      "Epoch 8: New best model saved with val_loss: 0.5422\n",
      "------------------------------\n",
      "Train Loss EPOCH 8: 0.5825\n",
      "Valid Loss EPOCH 8: 0.5422\n",
      "Train Accuracy EPOCH 8: 0.7869\n",
      "Valid Accuracy EPOCH 8: 0.8067\n",
      "------------------------------\n"
     ]
    },
    {
     "name": "stderr",
     "output_type": "stream",
     "text": [
      "100%|██████████| 106/106 [00:16<00:00,  6.49it/s]\n",
      "100%|██████████| 12/12 [00:00<00:00, 20.18it/s]\n",
      " 45%|████▌     | 9/20 [02:38<03:09, 17.23s/it]"
     ]
    },
    {
     "name": "stdout",
     "output_type": "stream",
     "text": [
      "------------------------------\n",
      "Train Loss EPOCH 9: 0.5590\n",
      "Valid Loss EPOCH 9: 0.5571\n",
      "Train Accuracy EPOCH 9: 0.7948\n",
      "Valid Accuracy EPOCH 9: 0.7918\n",
      "------------------------------\n"
     ]
    },
    {
     "name": "stderr",
     "output_type": "stream",
     "text": [
      "100%|██████████| 106/106 [00:16<00:00,  6.51it/s]\n",
      "100%|██████████| 12/12 [00:00<00:00, 19.25it/s]\n",
      " 50%|█████     | 10/20 [02:55<02:51, 17.18s/it]"
     ]
    },
    {
     "name": "stdout",
     "output_type": "stream",
     "text": [
      "Epoch 10: New best model saved with val_loss: 0.5140\n",
      "------------------------------\n",
      "Train Loss EPOCH 10: 0.5429\n",
      "Valid Loss EPOCH 10: 0.5140\n",
      "Train Accuracy EPOCH 10: 0.8013\n",
      "Valid Accuracy EPOCH 10: 0.8158\n",
      "------------------------------\n"
     ]
    },
    {
     "name": "stderr",
     "output_type": "stream",
     "text": [
      "100%|██████████| 106/106 [00:16<00:00,  6.56it/s]\n",
      "100%|██████████| 12/12 [00:00<00:00, 20.02it/s]\n",
      " 55%|█████▌    | 11/20 [03:12<02:33, 17.10s/it]"
     ]
    },
    {
     "name": "stdout",
     "output_type": "stream",
     "text": [
      "Epoch 11: New best model saved with val_loss: 0.5059\n",
      "------------------------------\n",
      "Train Loss EPOCH 11: 0.5285\n",
      "Valid Loss EPOCH 11: 0.5059\n",
      "Train Accuracy EPOCH 11: 0.8061\n",
      "Valid Accuracy EPOCH 11: 0.8157\n",
      "------------------------------\n"
     ]
    },
    {
     "name": "stderr",
     "output_type": "stream",
     "text": [
      "100%|██████████| 106/106 [00:16<00:00,  6.62it/s]\n",
      "100%|██████████| 12/12 [00:00<00:00, 19.84it/s]\n",
      " 60%|██████    | 12/20 [03:29<02:16, 17.00s/it]"
     ]
    },
    {
     "name": "stdout",
     "output_type": "stream",
     "text": [
      "Epoch 12: New best model saved with val_loss: 0.4865\n",
      "------------------------------\n",
      "Train Loss EPOCH 12: 0.5219\n",
      "Valid Loss EPOCH 12: 0.4865\n",
      "Train Accuracy EPOCH 12: 0.8089\n",
      "Valid Accuracy EPOCH 12: 0.8230\n",
      "------------------------------\n"
     ]
    },
    {
     "name": "stderr",
     "output_type": "stream",
     "text": [
      "100%|██████████| 106/106 [00:16<00:00,  6.50it/s]\n",
      "100%|██████████| 12/12 [00:00<00:00, 19.82it/s]\n",
      " 65%|██████▌   | 13/20 [03:46<01:59, 17.02s/it]"
     ]
    },
    {
     "name": "stdout",
     "output_type": "stream",
     "text": [
      "Epoch 13: New best model saved with val_loss: 0.4791\n",
      "------------------------------\n",
      "Train Loss EPOCH 13: 0.5202\n",
      "Valid Loss EPOCH 13: 0.4791\n",
      "Train Accuracy EPOCH 13: 0.8096\n",
      "Valid Accuracy EPOCH 13: 0.8272\n",
      "------------------------------\n"
     ]
    },
    {
     "name": "stderr",
     "output_type": "stream",
     "text": [
      "100%|██████████| 106/106 [00:15<00:00,  6.67it/s]\n",
      "100%|██████████| 12/12 [00:00<00:00, 20.21it/s]\n",
      " 70%|███████   | 14/20 [04:02<01:41, 16.91s/it]"
     ]
    },
    {
     "name": "stdout",
     "output_type": "stream",
     "text": [
      "Epoch 14: New best model saved with val_loss: 0.4706\n",
      "------------------------------\n",
      "Train Loss EPOCH 14: 0.5009\n",
      "Valid Loss EPOCH 14: 0.4706\n",
      "Train Accuracy EPOCH 14: 0.8176\n",
      "Valid Accuracy EPOCH 14: 0.8213\n",
      "------------------------------\n"
     ]
    },
    {
     "name": "stderr",
     "output_type": "stream",
     "text": [
      "100%|██████████| 106/106 [00:16<00:00,  6.55it/s]\n",
      "100%|██████████| 12/12 [00:00<00:00, 17.16it/s]\n",
      " 75%|███████▌  | 15/20 [04:19<01:24, 16.95s/it]"
     ]
    },
    {
     "name": "stdout",
     "output_type": "stream",
     "text": [
      "Epoch 15: New best model saved with val_loss: 0.4597\n",
      "------------------------------\n",
      "Train Loss EPOCH 15: 0.4935\n",
      "Valid Loss EPOCH 15: 0.4597\n",
      "Train Accuracy EPOCH 15: 0.8174\n",
      "Valid Accuracy EPOCH 15: 0.8295\n",
      "------------------------------\n"
     ]
    },
    {
     "name": "stderr",
     "output_type": "stream",
     "text": [
      "100%|██████████| 106/106 [00:16<00:00,  6.60it/s]\n",
      "100%|██████████| 12/12 [00:00<00:00, 20.07it/s]\n",
      " 80%|████████  | 16/20 [04:36<01:07, 16.91s/it]"
     ]
    },
    {
     "name": "stdout",
     "output_type": "stream",
     "text": [
      "Epoch 16: New best model saved with val_loss: 0.4473\n",
      "------------------------------\n",
      "Train Loss EPOCH 16: 0.4842\n",
      "Valid Loss EPOCH 16: 0.4473\n",
      "Train Accuracy EPOCH 16: 0.8207\n",
      "Valid Accuracy EPOCH 16: 0.8337\n",
      "------------------------------\n"
     ]
    },
    {
     "name": "stderr",
     "output_type": "stream",
     "text": [
      "100%|██████████| 106/106 [00:15<00:00,  6.64it/s]\n",
      "100%|██████████| 12/12 [00:00<00:00, 20.47it/s]\n",
      " 85%|████████▌ | 17/20 [04:53<00:50, 16.84s/it]"
     ]
    },
    {
     "name": "stdout",
     "output_type": "stream",
     "text": [
      "------------------------------\n",
      "Train Loss EPOCH 17: 0.4713\n",
      "Valid Loss EPOCH 17: 0.4516\n",
      "Train Accuracy EPOCH 17: 0.8265\n",
      "Valid Accuracy EPOCH 17: 0.8358\n",
      "------------------------------\n"
     ]
    },
    {
     "name": "stderr",
     "output_type": "stream",
     "text": [
      "100%|██████████| 106/106 [00:15<00:00,  6.64it/s]\n",
      "100%|██████████| 12/12 [00:00<00:00, 20.38it/s]\n",
      " 90%|█████████ | 18/20 [05:10<00:33, 16.80s/it]"
     ]
    },
    {
     "name": "stdout",
     "output_type": "stream",
     "text": [
      "------------------------------\n",
      "Train Loss EPOCH 18: 0.4620\n",
      "Valid Loss EPOCH 18: 0.4479\n",
      "Train Accuracy EPOCH 18: 0.8293\n",
      "Valid Accuracy EPOCH 18: 0.8285\n",
      "------------------------------\n"
     ]
    },
    {
     "name": "stderr",
     "output_type": "stream",
     "text": [
      "100%|██████████| 106/106 [00:16<00:00,  6.55it/s]\n",
      "100%|██████████| 12/12 [00:00<00:00, 19.57it/s]\n",
      " 95%|█████████▌| 19/20 [05:27<00:16, 16.84s/it]"
     ]
    },
    {
     "name": "stdout",
     "output_type": "stream",
     "text": [
      "------------------------------\n",
      "Train Loss EPOCH 19: 0.4629\n",
      "Valid Loss EPOCH 19: 0.4537\n",
      "Train Accuracy EPOCH 19: 0.8291\n",
      "Valid Accuracy EPOCH 19: 0.8300\n",
      "------------------------------\n"
     ]
    },
    {
     "name": "stderr",
     "output_type": "stream",
     "text": [
      "100%|██████████| 106/106 [00:16<00:00,  6.51it/s]\n",
      "100%|██████████| 12/12 [00:00<00:00, 16.46it/s]\n",
      "100%|██████████| 20/20 [05:44<00:00, 17.21s/it]\n"
     ]
    },
    {
     "name": "stdout",
     "output_type": "stream",
     "text": [
      "------------------------------\n",
      "Train Loss EPOCH 20: 0.4554\n",
      "Valid Loss EPOCH 20: 0.4761\n",
      "Train Accuracy EPOCH 20: 0.8312\n",
      "Valid Accuracy EPOCH 20: 0.8225\n",
      "------------------------------\n",
      "Completed all epochs without early stopping.\n",
      "Training Time: 344.30s\n"
     ]
    },
    {
     "data": {
      "image/png": "[encoded data removed]",
      "text/plain": [
       "<Figure size 1000x1000 with 2 Axes>"
      ]
     },
     "metadata": {},
     "output_type": "display_data"
    },
    {
     "name": "stderr",
     "output_type": "stream",
     "text": [
      "100%|██████████| 20/20 [00:01<00:00, 18.43it/s]\n"
     ]
    },
    {
     "name": "stdout",
     "output_type": "stream",
     "text": [
      "Test Loss: 0.4518\n",
      "Test Accuracy: 0.8336\n"
     ]
    }
   ],
   "source": [
    "no_postional_embedding = PatchEmbeddingNoPositionalEmbedding(EMBEDING_DIMENTION, PATCH_SIZE, NUM_PATCHES, DROPUT, IN_CHANNELS)\n",
    "model_no_embedding = training_loop(no_postional_embedding, 'best_model_no_embedding.pt')\n",
    "test_model(model_no_embedding, 'best_model_no_embedding.pt')"
   ]
  },
  {
   "cell_type": "code",
   "execution_count": 23,
   "metadata": {},
   "outputs": [
    {
     "name": "stderr",
     "output_type": "stream",
     "text": [
      "100%|██████████| 106/106 [00:16<00:00,  6.36it/s]\n",
      "100%|██████████| 12/12 [00:00<00:00, 18.65it/s]\n",
      "  5%|▌         | 1/20 [00:17<05:31, 17.45s/it]"
     ]
    },
    {
     "name": "stdout",
     "output_type": "stream",
     "text": [
      "Epoch 1: New best model saved with val_loss: 0.8001\n",
      "------------------------------\n",
      "Train Loss EPOCH 1: 1.5261\n",
      "Valid Loss EPOCH 1: 0.8001\n",
      "Train Accuracy EPOCH 1: 0.4323\n",
      "Valid Accuracy EPOCH 1: 0.7127\n",
      "------------------------------\n"
     ]
    },
    {
     "name": "stderr",
     "output_type": "stream",
     "text": [
      "100%|██████████| 106/106 [00:16<00:00,  6.52it/s]\n",
      "100%|██████████| 12/12 [00:00<00:00, 19.92it/s]\n",
      " 10%|█         | 2/20 [00:34<05:09, 17.20s/it]"
     ]
    },
    {
     "name": "stdout",
     "output_type": "stream",
     "text": [
      "Epoch 2: New best model saved with val_loss: 0.6221\n",
      "------------------------------\n",
      "Train Loss EPOCH 2: 0.7361\n",
      "Valid Loss EPOCH 2: 0.6221\n",
      "Train Accuracy EPOCH 2: 0.7281\n",
      "Valid Accuracy EPOCH 2: 0.7612\n",
      "------------------------------\n"
     ]
    },
    {
     "name": "stderr",
     "output_type": "stream",
     "text": [
      "100%|██████████| 106/106 [00:15<00:00,  6.66it/s]\n",
      "100%|██████████| 12/12 [00:00<00:00, 19.26it/s]\n",
      " 15%|█▌        | 3/20 [00:51<04:48, 16.98s/it]"
     ]
    },
    {
     "name": "stdout",
     "output_type": "stream",
     "text": [
      "Epoch 3: New best model saved with val_loss: 0.5437\n",
      "------------------------------\n",
      "Train Loss EPOCH 3: 0.6246\n",
      "Valid Loss EPOCH 3: 0.5437\n",
      "Train Accuracy EPOCH 3: 0.7692\n",
      "Valid Accuracy EPOCH 3: 0.7942\n",
      "------------------------------\n"
     ]
    },
    {
     "name": "stderr",
     "output_type": "stream",
     "text": [
      "100%|██████████| 106/106 [00:16<00:00,  6.59it/s]\n",
      "100%|██████████| 12/12 [00:00<00:00, 19.91it/s]\n",
      " 20%|██        | 4/20 [01:08<04:30, 16.93s/it]"
     ]
    },
    {
     "name": "stdout",
     "output_type": "stream",
     "text": [
      "Epoch 4: New best model saved with val_loss: 0.4923\n",
      "------------------------------\n",
      "Train Loss EPOCH 4: 0.5713\n",
      "Valid Loss EPOCH 4: 0.4923\n",
      "Train Accuracy EPOCH 4: 0.7899\n",
      "Valid Accuracy EPOCH 4: 0.8230\n",
      "------------------------------\n"
     ]
    },
    {
     "name": "stderr",
     "output_type": "stream",
     "text": [
      "100%|██████████| 106/106 [00:16<00:00,  6.45it/s]\n",
      "100%|██████████| 12/12 [00:00<00:00, 17.24it/s]\n",
      " 25%|██▌       | 5/20 [01:25<04:15, 17.06s/it]"
     ]
    },
    {
     "name": "stdout",
     "output_type": "stream",
     "text": [
      "------------------------------\n",
      "Train Loss EPOCH 5: 0.5295\n",
      "Valid Loss EPOCH 5: 0.5143\n",
      "Train Accuracy EPOCH 5: 0.8051\n",
      "Valid Accuracy EPOCH 5: 0.8118\n",
      "------------------------------\n"
     ]
    },
    {
     "name": "stderr",
     "output_type": "stream",
     "text": [
      "100%|██████████| 106/106 [00:16<00:00,  6.58it/s]\n",
      "100%|██████████| 12/12 [00:00<00:00, 20.63it/s]\n",
      " 30%|███       | 6/20 [01:42<03:57, 17.00s/it]"
     ]
    },
    {
     "name": "stdout",
     "output_type": "stream",
     "text": [
      "Epoch 6: New best model saved with val_loss: 0.4362\n",
      "------------------------------\n",
      "Train Loss EPOCH 6: 0.5050\n",
      "Valid Loss EPOCH 6: 0.4362\n",
      "Train Accuracy EPOCH 6: 0.8142\n",
      "Valid Accuracy EPOCH 6: 0.8425\n",
      "------------------------------\n"
     ]
    },
    {
     "name": "stderr",
     "output_type": "stream",
     "text": [
      "100%|██████████| 106/106 [00:16<00:00,  6.48it/s]\n",
      "100%|██████████| 12/12 [00:00<00:00, 19.74it/s]\n",
      " 35%|███▌      | 7/20 [01:59<03:41, 17.04s/it]"
     ]
    },
    {
     "name": "stdout",
     "output_type": "stream",
     "text": [
      "------------------------------\n",
      "Train Loss EPOCH 7: 0.4834\n",
      "Valid Loss EPOCH 7: 0.4518\n",
      "Train Accuracy EPOCH 7: 0.8214\n",
      "Valid Accuracy EPOCH 7: 0.8338\n",
      "------------------------------\n"
     ]
    },
    {
     "name": "stderr",
     "output_type": "stream",
     "text": [
      "100%|██████████| 106/106 [00:16<00:00,  6.54it/s]\n",
      "100%|██████████| 12/12 [00:00<00:00, 20.35it/s]\n",
      " 40%|████      | 8/20 [02:16<03:24, 17.02s/it]"
     ]
    },
    {
     "name": "stdout",
     "output_type": "stream",
     "text": [
      "Epoch 8: New best model saved with val_loss: 0.4335\n",
      "------------------------------\n",
      "Train Loss EPOCH 8: 0.4727\n",
      "Valid Loss EPOCH 8: 0.4335\n",
      "Train Accuracy EPOCH 8: 0.8260\n",
      "Valid Accuracy EPOCH 8: 0.8432\n",
      "------------------------------\n"
     ]
    },
    {
     "name": "stderr",
     "output_type": "stream",
     "text": [
      "100%|██████████| 106/106 [00:16<00:00,  6.48it/s]\n",
      "100%|██████████| 12/12 [00:00<00:00, 18.48it/s]\n",
      " 45%|████▌     | 9/20 [02:33<03:07, 17.07s/it]"
     ]
    },
    {
     "name": "stdout",
     "output_type": "stream",
     "text": [
      "Epoch 9: New best model saved with val_loss: 0.4158\n",
      "------------------------------\n",
      "Train Loss EPOCH 9: 0.4594\n",
      "Valid Loss EPOCH 9: 0.4158\n",
      "Train Accuracy EPOCH 9: 0.8299\n",
      "Valid Accuracy EPOCH 9: 0.8537\n",
      "------------------------------\n"
     ]
    },
    {
     "name": "stderr",
     "output_type": "stream",
     "text": [
      "100%|██████████| 106/106 [00:16<00:00,  6.48it/s]\n",
      "100%|██████████| 12/12 [00:00<00:00, 17.78it/s]\n",
      " 50%|█████     | 10/20 [02:50<02:51, 17.11s/it]"
     ]
    },
    {
     "name": "stdout",
     "output_type": "stream",
     "text": [
      "------------------------------\n",
      "Train Loss EPOCH 10: 0.4424\n",
      "Valid Loss EPOCH 10: 0.4250\n",
      "Train Accuracy EPOCH 10: 0.8361\n",
      "Valid Accuracy EPOCH 10: 0.8425\n",
      "------------------------------\n"
     ]
    },
    {
     "name": "stderr",
     "output_type": "stream",
     "text": [
      "100%|██████████| 106/106 [00:16<00:00,  6.38it/s]\n",
      "100%|██████████| 12/12 [00:00<00:00, 20.48it/s]\n",
      " 55%|█████▌    | 11/20 [03:08<02:34, 17.19s/it]"
     ]
    },
    {
     "name": "stdout",
     "output_type": "stream",
     "text": [
      "Epoch 11: New best model saved with val_loss: 0.4110\n",
      "------------------------------\n",
      "Train Loss EPOCH 11: 0.4291\n",
      "Valid Loss EPOCH 11: 0.4110\n",
      "Train Accuracy EPOCH 11: 0.8425\n",
      "Valid Accuracy EPOCH 11: 0.8482\n",
      "------------------------------\n"
     ]
    },
    {
     "name": "stderr",
     "output_type": "stream",
     "text": [
      "100%|██████████| 106/106 [00:16<00:00,  6.62it/s]\n",
      "100%|██████████| 12/12 [00:00<00:00, 20.15it/s]\n",
      " 60%|██████    | 12/20 [03:24<02:16, 17.06s/it]"
     ]
    },
    {
     "name": "stdout",
     "output_type": "stream",
     "text": [
      "Epoch 12: New best model saved with val_loss: 0.3817\n",
      "------------------------------\n",
      "Train Loss EPOCH 12: 0.4269\n",
      "Valid Loss EPOCH 12: 0.3817\n",
      "Train Accuracy EPOCH 12: 0.8420\n",
      "Valid Accuracy EPOCH 12: 0.8530\n",
      "------------------------------\n"
     ]
    },
    {
     "name": "stderr",
     "output_type": "stream",
     "text": [
      "100%|██████████| 106/106 [00:16<00:00,  6.45it/s]\n",
      "100%|██████████| 12/12 [00:00<00:00, 19.10it/s]\n",
      " 65%|██████▌   | 13/20 [03:42<01:59, 17.11s/it]"
     ]
    },
    {
     "name": "stdout",
     "output_type": "stream",
     "text": [
      "Epoch 13: New best model saved with val_loss: 0.3783\n",
      "------------------------------\n",
      "Train Loss EPOCH 13: 0.4142\n",
      "Valid Loss EPOCH 13: 0.3783\n",
      "Train Accuracy EPOCH 13: 0.8450\n",
      "Valid Accuracy EPOCH 13: 0.8600\n",
      "------------------------------\n"
     ]
    },
    {
     "name": "stderr",
     "output_type": "stream",
     "text": [
      "100%|██████████| 106/106 [00:16<00:00,  6.61it/s]\n",
      "100%|██████████| 12/12 [00:00<00:00, 19.79it/s]\n",
      " 70%|███████   | 14/20 [03:58<01:42, 17.01s/it]"
     ]
    },
    {
     "name": "stdout",
     "output_type": "stream",
     "text": [
      "------------------------------\n",
      "Train Loss EPOCH 14: 0.4075\n",
      "Valid Loss EPOCH 14: 0.3875\n",
      "Train Accuracy EPOCH 14: 0.8464\n",
      "Valid Accuracy EPOCH 14: 0.8562\n",
      "------------------------------\n"
     ]
    },
    {
     "name": "stderr",
     "output_type": "stream",
     "text": [
      "100%|██████████| 106/106 [00:16<00:00,  6.51it/s]\n",
      "100%|██████████| 12/12 [00:00<00:00, 20.31it/s]\n",
      " 75%|███████▌  | 15/20 [04:15<01:25, 17.02s/it]"
     ]
    },
    {
     "name": "stdout",
     "output_type": "stream",
     "text": [
      "Epoch 15: New best model saved with val_loss: 0.3641\n",
      "------------------------------\n",
      "Train Loss EPOCH 15: 0.4029\n",
      "Valid Loss EPOCH 15: 0.3641\n",
      "Train Accuracy EPOCH 15: 0.8500\n",
      "Valid Accuracy EPOCH 15: 0.8648\n",
      "------------------------------\n"
     ]
    },
    {
     "name": "stderr",
     "output_type": "stream",
     "text": [
      "100%|██████████| 106/106 [00:16<00:00,  6.58it/s]\n",
      "100%|██████████| 12/12 [00:00<00:00, 20.52it/s]\n",
      " 80%|████████  | 16/20 [04:32<01:07, 16.97s/it]"
     ]
    },
    {
     "name": "stdout",
     "output_type": "stream",
     "text": [
      "------------------------------\n",
      "Train Loss EPOCH 16: 0.3971\n",
      "Valid Loss EPOCH 16: 0.3706\n",
      "Train Accuracy EPOCH 16: 0.8521\n",
      "Valid Accuracy EPOCH 16: 0.8625\n",
      "------------------------------\n"
     ]
    },
    {
     "name": "stderr",
     "output_type": "stream",
     "text": [
      "100%|██████████| 106/106 [00:16<00:00,  6.60it/s]\n",
      "100%|██████████| 12/12 [00:00<00:00, 20.14it/s]\n",
      " 85%|████████▌ | 17/20 [04:49<00:50, 16.93s/it]"
     ]
    },
    {
     "name": "stdout",
     "output_type": "stream",
     "text": [
      "Epoch 17: New best model saved with val_loss: 0.3559\n",
      "------------------------------\n",
      "Train Loss EPOCH 17: 0.3936\n",
      "Valid Loss EPOCH 17: 0.3559\n",
      "Train Accuracy EPOCH 17: 0.8539\n",
      "Valid Accuracy EPOCH 17: 0.8648\n",
      "------------------------------\n"
     ]
    },
    {
     "name": "stderr",
     "output_type": "stream",
     "text": [
      "100%|██████████| 106/106 [00:16<00:00,  6.59it/s]\n",
      "100%|██████████| 12/12 [00:00<00:00, 19.11it/s]\n",
      " 90%|█████████ | 18/20 [05:06<00:33, 16.91s/it]"
     ]
    },
    {
     "name": "stdout",
     "output_type": "stream",
     "text": [
      "------------------------------\n",
      "Train Loss EPOCH 18: 0.3881\n",
      "Valid Loss EPOCH 18: 0.3570\n",
      "Train Accuracy EPOCH 18: 0.8557\n",
      "Valid Accuracy EPOCH 18: 0.8690\n",
      "------------------------------\n"
     ]
    },
    {
     "name": "stderr",
     "output_type": "stream",
     "text": [
      "100%|██████████| 106/106 [00:16<00:00,  6.53it/s]\n",
      "100%|██████████| 12/12 [00:00<00:00, 20.41it/s]\n",
      " 95%|█████████▌| 19/20 [05:23<00:16, 16.94s/it]"
     ]
    },
    {
     "name": "stdout",
     "output_type": "stream",
     "text": [
      "Epoch 19: New best model saved with val_loss: 0.3539\n",
      "------------------------------\n",
      "Train Loss EPOCH 19: 0.3795\n",
      "Valid Loss EPOCH 19: 0.3539\n",
      "Train Accuracy EPOCH 19: 0.8575\n",
      "Valid Accuracy EPOCH 19: 0.8647\n",
      "------------------------------\n"
     ]
    },
    {
     "name": "stderr",
     "output_type": "stream",
     "text": [
      "100%|██████████| 106/106 [00:16<00:00,  6.52it/s]\n",
      "100%|██████████| 12/12 [00:00<00:00, 19.75it/s]\n",
      "100%|██████████| 20/20 [05:40<00:00, 17.02s/it]\n"
     ]
    },
    {
     "name": "stdout",
     "output_type": "stream",
     "text": [
      "------------------------------\n",
      "Train Loss EPOCH 20: 0.3739\n",
      "Valid Loss EPOCH 20: 0.3564\n",
      "Train Accuracy EPOCH 20: 0.8605\n",
      "Valid Accuracy EPOCH 20: 0.8648\n",
      "------------------------------\n",
      "Completed all epochs without early stopping.\n",
      "Training Time: 340.39s\n"
     ]
    },
    {
     "data": {
      "image/png": "[encoded data removed]",
      "text/plain": [
       "<Figure size 1000x1000 with 2 Axes>"
      ]
     },
     "metadata": {},
     "output_type": "display_data"
    },
    {
     "name": "stderr",
     "output_type": "stream",
     "text": [
      "100%|██████████| 20/20 [00:01<00:00, 18.92it/s]"
     ]
    },
    {
     "name": "stdout",
     "output_type": "stream",
     "text": [
      "Test Loss: 0.3665\n",
      "Test Accuracy: 0.8623\n"
     ]
    },
    {
     "name": "stderr",
     "output_type": "stream",
     "text": [
      "\n"
     ]
    }
   ],
   "source": [
    "hilbert_embedding = PatchEmbeddingHilbertPositionalEmbedding(EMBEDING_DIMENTION, PATCH_SIZE, NUM_PATCHES, DROPUT, IN_CHANNELS, IMAGE_SIZE)\n",
    "model_hilbert = training_loop(hilbert_embedding, 'hilbert_embedding.pt')\n",
    "test_model(model_hilbert, 'hilbert_embedding.pt')"
   ]
  },
  {
   "cell_type": "code",
   "execution_count": null,
   "metadata": {},
   "outputs": [],
   "source": []
  }
 ],
 "metadata": {
  "kernelspec": {
   "display_name": "bachelor-project",
   "language": "python",
   "name": "python3"
  },
  "language_info": {
   "codemirror_mode": {
    "name": "ipython",
    "version": 3
   },
   "file_extension": ".py",
   "mimetype": "text/x-python",
   "name": "python",
   "nbconvert_exporter": "python",
   "pygments_lexer": "ipython3",
   "version": "3.12.0"
  }
 },
 "nbformat": 4,
 "nbformat_minor": 2
}
