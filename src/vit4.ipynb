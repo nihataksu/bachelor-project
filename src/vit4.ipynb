{
 "cells": [
  {
   "cell_type": "code",
   "execution_count": 17,
   "metadata": {},
   "outputs": [],
   "source": [
    "import torch\n",
    "from torch import nn\n",
    "import pandas as pd\n",
    "from torch import optim\n",
    "from torch.utils.data import DataLoader, Dataset, random_split\n",
    "from torchvision import transforms\n",
    "from sklearn.model_selection import train_test_split\n",
    "import matplotlib.pyplot as plt\n",
    "import numpy as np\n",
    "import random\n",
    "import timeit\n",
    "from tqdm import tqdm\n",
    "import math\n",
    "from hilbertcurve.hilbertcurve import HilbertCurve\n",
    "from math import sqrt\n",
    "from torchvision import datasets, transforms\n",
    "import os "
   ]
  },
  {
   "cell_type": "code",
   "execution_count": 2,
   "metadata": {},
   "outputs": [
    {
     "name": "stdout",
     "output_type": "stream",
     "text": [
      "16\n"
     ]
    }
   ],
   "source": [
    "RANDOM_SEED = 42\n",
    "BATCH_SIZE = 512\n",
    "EPOCHS = 50\n",
    "PATIANCE = 10\n",
    "LEARNING_RATE = 1e-3\n",
    "NUM_CLASSES = 10\n",
    "PATCH_SIZE = 8\n",
    "IMAGE_SIZE = 32\n",
    "IN_CHANNELS = 3\n",
    "NUM_HEADS = 8\n",
    "DROPOUT = 0.001\n",
    "HIDDEN_DIM = 768\n",
    "ADAM_WEIGHT_DECAY = 0\n",
    "ADAM_BETAS = (0.9, 0.999)\n",
    "ACTIVATION = \"gelu\"\n",
    "NUM_ENCODERS = 4\n",
    "EMBEDING_DIMENTION = (PATCH_SIZE**2) * IN_CHANNELS \n",
    "NUM_PATCHES = (IMAGE_SIZE // PATCH_SIZE) ** 2 \n",
    "\n",
    "print(NUM_PATCHES)\n",
    "\n",
    "random.seed(RANDOM_SEED)\n",
    "np.random.seed(RANDOM_SEED)\n",
    "torch.manual_seed(RANDOM_SEED)\n",
    "\n",
    "# Cuda Specific \n",
    "torch.cuda.manual_seed(RANDOM_SEED)\n",
    "torch.cuda.manual_seed_all(RANDOM_SEED)\n",
    "torch.backends.cudnn.deterministic = True\n",
    "torch.backends.cudnn.benchmark = False\n",
    "\n",
    "# Apple Metal Specific \n",
    "torch.mps.manual_seed(RANDOM_SEED)"
   ]
  },
  {
   "cell_type": "code",
   "execution_count": 3,
   "metadata": {},
   "outputs": [
    {
     "name": "stdout",
     "output_type": "stream",
     "text": [
      "mps\n"
     ]
    }
   ],
   "source": [
    "if torch.backends.mps.is_available(): \n",
    "    device = \"mps\"\n",
    "elif torch.cuda.is_available():\n",
    "    device = \"cuda\"\n",
    "else:\n",
    "    device = \"cpu\"\n",
    "\n",
    "print(device)"
   ]
  },
  {
   "cell_type": "code",
   "execution_count": 4,
   "metadata": {},
   "outputs": [],
   "source": [
    "def HilbertIndices(n):\n",
    "    \"\"\"\n",
    "    Generate Hilbert indices for a grid approximating a square layout of patches.\n",
    "\n",
    "    Args:\n",
    "    n (int): Total number of patches.\n",
    "\n",
    "    Returns:\n",
    "    np.array: Indices sorted according to Hilbert curve distances.\n",
    "    \"\"\"\n",
    "    # Determine the order of the Hilbert curve based on the number of patches\n",
    "    order = int(np.ceil(np.log2(np.sqrt(n))))\n",
    "    print(\"Order is \", order)\n",
    "\n",
    "    # Initialize Hilbert curve with 2 dimensions and determined order\n",
    "    hilbert_curve = HilbertCurve(p=order, n=2)\n",
    "    points = []\n",
    "\n",
    "    # Determine the maximum x and y values based on the number of patches\n",
    "    side_length = int(np.ceil(np.sqrt(n)))\n",
    "\n",
    "    # Collect all points whose Hilbert distances need to be calculated\n",
    "    for i in range(n):\n",
    "        x = i // side_length\n",
    "        y = i % side_length\n",
    "        points.append([x, y])\n",
    "\n",
    "    # Calculate the Hilbert distances for all points\n",
    "    distances = hilbert_curve.distances_from_points(points)\n",
    "\n",
    "    # Return the indices sorted by their Hilbert distances\n",
    "    return np.array(distances).argsort()"
   ]
  },
  {
   "cell_type": "code",
   "execution_count": 5,
   "metadata": {},
   "outputs": [],
   "source": [
    "class PositionalEmbeddingStrategy(nn.Module):\n",
    "    def forward(self, x):\n",
    "        raise NotImplementedError(\"Each Embedding Strategy must implement the forward method.\")"
   ]
  },
  {
   "cell_type": "code",
   "execution_count": 6,
   "metadata": {},
   "outputs": [],
   "source": [
    "class PatchEmbeddingLearnedPositionalEmbedding(PositionalEmbeddingStrategy):\n",
    "    def __init__(self, embed_dim, patch_size, num_patches, dropout, in_channels):\n",
    "        super().__init__()\n",
    "        self.patcher = nn.Sequential(\n",
    "            nn.Conv2d(\n",
    "                in_channels=in_channels,\n",
    "                out_channels=embed_dim,\n",
    "                kernel_size=patch_size,\n",
    "                stride=patch_size\n",
    "            ),\n",
    "            nn.Flatten(2)\n",
    "        )\n",
    "\n",
    "        self.cls_token = nn.Parameter(torch.randn(size=(1, embed_dim)), requires_grad=True)\n",
    "        self.position_embeddings = nn.Parameter(torch.randn(size=(1, num_patches + 1, embed_dim)), requires_grad=True)\n",
    "        self.dropout = nn.Dropout(p=dropout)\n",
    "\n",
    "    def forward(self, x):\n",
    "        cls_token = self.cls_token.expand(x.shape[0], -1, -1)\n",
    "        x = self.patcher(x).permute(0, 2, 1)\n",
    "        # print(f\"Shape of x after patching and permuting: {x.shape}\")\n",
    "        # print(f\"Shape of cls_token: {cls_token.shape}\")\n",
    "        x = torch.cat((cls_token, x), dim=1)\n",
    "        # print(f\"Shape of x after concatenating cls_token: {x.shape}\")\n",
    "        # print(f\"Shape of position_embeddings: {self.position_embeddings.shape}\")\n",
    "        x = x + self.position_embeddings\n",
    "        x = self.dropout(x)\n",
    "        return x"
   ]
  },
  {
   "cell_type": "code",
   "execution_count": 7,
   "metadata": {},
   "outputs": [],
   "source": [
    "class PatchEmbeddingNoPositionalEmbedding(PositionalEmbeddingStrategy):\n",
    "    def __init__(self, embed_dim, patch_size, num_patches, dropout, in_channels):\n",
    "        super().__init__()\n",
    "        self.patcher = nn.Sequential(\n",
    "            nn.Conv2d(\n",
    "                in_channels=in_channels,\n",
    "                out_channels=embed_dim,\n",
    "                kernel_size=patch_size,\n",
    "                stride=patch_size\n",
    "            ),\n",
    "            nn.Flatten(2)\n",
    "        )\n",
    "\n",
    "        self.cls_token = nn.Parameter(torch.randn(size=(1, in_channels, embed_dim)), requires_grad=True)\n",
    "        self.dropout = nn.Dropout(p=dropout)\n",
    "\n",
    "    def forward(self, x):\n",
    "        cls_token = self.cls_token.expand(x.shape[0], -1, -1)\n",
    "        x = self.patcher(x).permute(0, 2, 1)\n",
    "        x = torch.cat((cls_token, x), dim=1)\n",
    "        x = self.dropout(x)\n",
    "        return x"
   ]
  },
  {
   "cell_type": "code",
   "execution_count": 8,
   "metadata": {},
   "outputs": [],
   "source": [
    "class PatchEmbeddingHilbertPositionalEmbedding(nn.Module):\n",
    "    def __init__(self, embed_dim, patch_size, num_patches, dropout, in_channels, order):\n",
    "        super().__init__()\n",
    "        self.patcher = nn.Sequential(\n",
    "            nn.Conv2d(\n",
    "                in_channels=in_channels,\n",
    "                out_channels=embed_dim,\n",
    "                kernel_size=patch_size,\n",
    "                stride=patch_size\n",
    "            ),\n",
    "            nn.Flatten(2)\n",
    "        )\n",
    "\n",
    "        # Hilbert curve positional embeddings\n",
    "        hilbert_indices = HilbertIndices(num_patches)\n",
    "        position = torch.arange(0, num_patches, dtype=torch.float).unsqueeze(1)\n",
    "        div_term = torch.exp(torch.arange(0, 2 * embed_dim, 2).float() * (-np.log(10000.0) / (2 * embed_dim)))\n",
    "        \n",
    "        # print(\"Embed dim\", embed_dim)\n",
    "\n",
    "        # Adjust the shape of pe to match the size of position * div_term\n",
    "\n",
    "        # print(\"Number of patches\", num_patches)\n",
    "        pe = torch.zeros(num_patches, embed_dim) \n",
    "        #assert pe.size() == torch.Size([16, 49]), \"Size of pe tensor does not match expected size [16, 49]\"\n",
    "\n",
    "        \n",
    "\n",
    "        # print(\"Size of hilbert indicies: \", hilbert_indices.size)\n",
    "        # print(\"Size of pe tensor before assignment:\", pe.size())\n",
    "        # print(\"Size of position * div_term tensor:\", (position * div_term).size())\n",
    "        \n",
    "        pe = pe[hilbert_indices]  # reorder according to Hilbert curve\n",
    "\n",
    "        # Adds the sin and cos values for each alternating collumn to add positional embeddings\n",
    "        pe[:, 0::2] = torch.sin(position * div_term)[:, 0::2]\n",
    "        pe[:, 1::2] = torch.cos(position * div_term)[:, 1::2]\n",
    "        # print(\"Size of pe tensor after assignment:\", pe.size())\n",
    "\n",
    "        #assert pe.size() == torch.Size([NUM_PATCHES, PATCH_SIZE**2])\n",
    "\n",
    "        # Remove the cls token from positional embeddings\n",
    "        self.position_embeddings = nn.Parameter(pe[:], requires_grad=False)\n",
    "\n",
    "        # print(\"Size of pe tensor after assignment AAAAA:\", pe.size())\n",
    "        # print(\"Pos embed aaaaaaaa\", self.position_embeddings.size())\n",
    "\n",
    "        # Add cls token separately\n",
    "        self.cls_token = nn.Parameter(torch.randn(1, 1, embed_dim), requires_grad=True)\n",
    "        self.dropout = nn.Dropout(p=dropout)\n",
    "\n",
    "    def forward(self, x):\n",
    "        cls_token = self.cls_token.expand(x.shape[0], -1, -1)\n",
    "        x = self.patcher(x).permute(0, 2, 1)\n",
    "\n",
    "        # print(\"Shape of x:\", x.shape) \n",
    "        # print(\"Shape of x after cat:\", x.shape)\n",
    "        # print(\"Shape of position_embeddings:\", self.position_embeddings.shape)\n",
    "        x = x + self.position_embeddings\n",
    "        x = torch.cat((cls_token, x), dim=1)\n",
    "        x = self.dropout(x)\n",
    "        return x"
   ]
  },
  {
   "cell_type": "code",
   "execution_count": 9,
   "metadata": {},
   "outputs": [],
   "source": [
    "class Vit(nn.Module):\n",
    "    def __init__(self, embedding_strategy, num_patches, img_size, num_classes, patch_size, embed_dim, num_encoders, num_heads, hidden_dim, dropout, activation, in_channels):\n",
    "        super().__init__()\n",
    "        self.embedings_block = embedding_strategy\n",
    "\n",
    "        encoder_layer = nn.TransformerEncoderLayer(d_model=embed_dim, nhead=num_heads, dropout=dropout, activation=activation, batch_first=True, norm_first=True)\n",
    "        self.encoder_blocks = nn.TransformerEncoder(encoder_layer, num_layers=num_encoders)\n",
    "\n",
    "        self.mlp_head = nn.Sequential(\n",
    "            nn.LayerNorm(normalized_shape=embed_dim),\n",
    "            nn.Linear(in_features=embed_dim, out_features=num_classes)\n",
    "        )\n",
    "\n",
    "    def forward(self, x):\n",
    "        x = self.embedings_block(x)\n",
    "        x = self.encoder_blocks(x)\n",
    "        x = self.mlp_head(x[:, 0 , :])\n",
    "        return x"
   ]
  },
  {
   "cell_type": "code",
   "execution_count": 10,
   "metadata": {},
   "outputs": [
    {
     "name": "stdout",
     "output_type": "stream",
     "text": [
      "Files already downloaded and verified\n",
      "Files already downloaded and verified\n"
     ]
    }
   ],
   "source": [
    "transform_train = transforms.Compose([\n",
    "    transforms.Resize((32, 32)),  # Ensure the image size is 32x32\n",
    "    transforms.RandomCrop(32, padding=4),\n",
    "    transforms.RandomHorizontalFlip(),\n",
    "    transforms.ToTensor(),\n",
    "    transforms.Normalize(mean=[0.5071, 0.4867, 0.4408], std=[0.2675, 0.2565, 0.2761])\n",
    "])\n",
    "\n",
    "transform_val_test = transforms.Compose([\n",
    "    transforms.Resize((32, 32)),  # Ensure the image size is 32x32\n",
    "    transforms.ToTensor(),\n",
    "    transforms.Normalize(mean=[0.5071, 0.4867, 0.4408], std=[0.2675, 0.2565, 0.2761])\n",
    "])\n",
    "\n",
    "train_dataset = datasets.CIFAR10(root='./data', train=True, download=True, transform=transform_train)\n",
    "test_dataset = datasets.CIFAR10(root='./data', train=False, download=True, transform=transform_val_test)\n",
    "\n",
    "train_size = int(0.9 * len(train_dataset))\n",
    "val_size = len(train_dataset) - train_size\n",
    "train_dataset, val_dataset = random_split(train_dataset, [train_size, val_size])\n",
    "\n",
    "train_dataloader = DataLoader(dataset=train_dataset, batch_size=BATCH_SIZE, shuffle=True)\n",
    "val_dataloader = DataLoader(dataset=val_dataset, batch_size=BATCH_SIZE, shuffle=True)\n",
    "test_dataloader = DataLoader(dataset=test_dataset, batch_size=BATCH_SIZE, shuffle=False)"
   ]
  },
  {
   "cell_type": "code",
   "execution_count": 11,
   "metadata": {},
   "outputs": [
    {
     "data": {
      "image/png": "[encoded data removed]",
      "text/plain": [
       "<Figure size 1500x1000 with 6 Axes>"
      ]
     },
     "metadata": {},
     "output_type": "display_data"
    }
   ],
   "source": [
    "def visualize_data(train_loader, val_loader, test_loader, num_images=2):\n",
    "    def show_image(image, ax, title):\n",
    "        image = image.numpy().transpose((1, 2, 0))\n",
    "        mean = np.array([0.5071, 0.4867, 0.4408])\n",
    "        std = np.array([0.2675, 0.2565, 0.2761])\n",
    "        image = std * image + mean  # Unnormalize\n",
    "        image = np.clip(image, 0, 1)\n",
    "        ax.imshow(image)\n",
    "        ax.set_title(title)\n",
    "        ax.axis('off')\n",
    "    \n",
    "    # Get a batch of images from the train, val, and test loaders\n",
    "    train_iter = iter(train_loader)\n",
    "    val_iter = iter(val_loader)\n",
    "    test_iter = iter(test_loader)\n",
    "    \n",
    "    # Fetch one batch of images and labels\n",
    "    train_images, train_labels = next(train_iter)\n",
    "    val_images, val_labels = next(val_iter)\n",
    "    test_images, test_labels = next(test_iter)\n",
    "    \n",
    "    # Plot images from each dataset\n",
    "    fig, axarr = plt.subplots(num_images, 3, figsize=(15, num_images * 5))\n",
    "    for i in range(num_images):\n",
    "        show_image(train_images[i], axarr[i, 0], f\"Train Image - {train_labels[i].item()}\")\n",
    "        show_image(val_images[i], axarr[i, 1], f\"Validation Image - {val_labels[i].item()}\")\n",
    "        show_image(test_images[i], axarr[i, 2], f\"Test Image - {test_labels[i].item()}\")\n",
    "    \n",
    "    plt.tight_layout()\n",
    "    plt.show()\n",
    "\n",
    "# Call the visualization function\n",
    "visualize_data(train_dataloader, val_dataloader, test_dataloader)"
   ]
  },
  {
   "cell_type": "code",
   "execution_count": 12,
   "metadata": {},
   "outputs": [],
   "source": [
    "def training_loop(embedding_strategy, checkpoint_path):\n",
    "    model = Vit(embedding_strategy, NUM_PATCHES, IMAGE_SIZE, NUM_CLASSES, PATCH_SIZE, EMBEDING_DIMENTION, NUM_ENCODERS, NUM_HEADS, HIDDEN_DIM, DROPOUT, ACTIVATION, IN_CHANNELS).to(device)\n",
    "    criterion = nn.CrossEntropyLoss()\n",
    "    optimizer = optim.Adam(model.parameters(), betas=ADAM_BETAS, lr=LEARNING_RATE, weight_decay=ADAM_WEIGHT_DECAY)\n",
    "    \n",
    "    best_val_loss = float('inf')\n",
    "    epochs_no_improve = 0\n",
    "    early_stop = False\n",
    "    start = timeit.default_timer()\n",
    "    \n",
    "    train_losses, train_accuracies = [], []\n",
    "    val_losses, val_accuracies = [], []\n",
    "    \n",
    "    for epoch in tqdm(range(EPOCHS)):\n",
    "        model.train()\n",
    "        train_labels, train_preds = [], []\n",
    "        train_running_loss = 0\n",
    "        \n",
    "        for idx, (img, label) in enumerate(tqdm(train_dataloader, position=0, leave=True)):\n",
    "            img, label = img.to(device), label.to(device)\n",
    "            img = img.float()  # Ensure img is float\n",
    "            label = label.type(torch.long)  # Ensure label is long (for CrossEntropyLoss)\n",
    "            \n",
    "            y_pred = model(img)\n",
    "            y_pred_label = torch.argmax(y_pred, dim=1)\n",
    "            \n",
    "            train_labels.extend(label.cpu().detach())\n",
    "            train_preds.extend(y_pred_label.cpu().detach())\n",
    "            \n",
    "            loss = criterion(y_pred, label)\n",
    "            optimizer.zero_grad()\n",
    "            loss.backward()\n",
    "            optimizer.step()\n",
    "            \n",
    "            train_running_loss += loss.item()\n",
    "        \n",
    "        train_loss = train_running_loss / len(train_dataloader)\n",
    "        \n",
    "        model.eval()\n",
    "        val_labels, val_preds = [], []\n",
    "        val_running_loss = 0\n",
    "        \n",
    "        with torch.no_grad():\n",
    "            for idx, (img, label) in enumerate(tqdm(val_dataloader, position=0, leave=True)):\n",
    "                img, label = img.to(device), label.to(device)\n",
    "                img = img.float()  # Ensure img is float\n",
    "                label = label.type(torch.long)  # Ensure label is long (for CrossEntropyLoss)\n",
    "                \n",
    "                y_pred = model(img)\n",
    "                y_pred_label = torch.argmax(y_pred, dim=1)\n",
    "                \n",
    "                val_labels.extend(label.cpu().detach())\n",
    "                val_preds.extend(y_pred_label.cpu().detach())\n",
    "                \n",
    "                loss = criterion(y_pred, label)\n",
    "                val_running_loss += loss.item()\n",
    "        \n",
    "        val_loss = val_running_loss / len(val_dataloader)\n",
    "        \n",
    "        if val_loss < best_val_loss:\n",
    "            best_val_loss = val_loss\n",
    "            torch.save(model.state_dict(), checkpoint_path)\n",
    "            print(f'Epoch {epoch + 1}: New best model saved with val_loss: {val_loss:.4f}')\n",
    "            epochs_no_improve = 0\n",
    "        else:\n",
    "            epochs_no_improve += 1\n",
    "        \n",
    "        if epochs_no_improve == PATIANCE:\n",
    "            print(\"Early stopping triggered\")\n",
    "            early_stop = True\n",
    "            break\n",
    "        \n",
    "        train_losses.append(train_loss)\n",
    "        val_losses.append(val_loss)\n",
    "        train_accuracies.append(sum(1 for x, y in zip(train_preds, train_labels) if x == y) / len(train_labels))\n",
    "        val_accuracies.append(sum(1 for x, y in zip(val_preds, val_labels) if x == y) / len(val_labels))\n",
    "        \n",
    "        print(\"-\" * 30)\n",
    "        print(f\"Train Loss EPOCH {epoch + 1}: {train_loss:.4f}\")\n",
    "        print(f\"Valid Loss EPOCH {epoch + 1}: {val_loss:.4f}\")\n",
    "        print(f\"Train Accuracy EPOCH {epoch + 1}: {train_accuracies[-1]:.4f}\")\n",
    "        print(f\"Valid Accuracy EPOCH {epoch + 1}: {val_accuracies[-1]:.4f}\")\n",
    "        print(\"-\" * 30)\n",
    "    \n",
    "    if not early_stop:\n",
    "        print(\"Completed all epochs without early stopping.\")\n",
    "    \n",
    "    stop = timeit.default_timer()\n",
    "    print(f\"Training Time: {stop - start:.2f}s\")\n",
    "    \n",
    "    fig, (ax1, ax2) = plt.subplots(2, 1, figsize=(10, 10))\n",
    "    fig.suptitle('Training and Validation Metrics')\n",
    "    \n",
    "    ax1.plot(train_losses, label='Train Loss')\n",
    "    ax1.plot(val_losses, label='Validation Loss')\n",
    "    ax1.set_title('Loss over epochs')\n",
    "    ax1.set_xlabel('Epochs')\n",
    "    ax1.set_ylabel('Loss')\n",
    "    ax1.legend()\n",
    "    \n",
    "    ax2.plot(train_accuracies, label='Train Accuracy')\n",
    "    ax2.plot(val_accuracies, label='Validation Accuracy')\n",
    "    ax2.set_title('Accuracy over epochs')\n",
    "    ax2.set_xlabel('Epochs')\n",
    "    ax2.set_ylabel('Accuracy')\n",
    "    ax2.legend()\n",
    "    \n",
    "    plt.show()\n",
    "    \n",
    "    return model"
   ]
  },
  {
   "cell_type": "code",
   "execution_count": 13,
   "metadata": {},
   "outputs": [],
   "source": [
    "def test_model(model, checkpoint_path):\n",
    "    model.load_state_dict(torch.load(checkpoint_path))\n",
    "    model.eval()\n",
    "    test_running_loss = 0\n",
    "    test_labels, test_preds = [], []\n",
    "    criterion = nn.CrossEntropyLoss()\n",
    "    \n",
    "    with torch.no_grad():\n",
    "        for img, label in tqdm(test_dataloader, position=0, leave=True):\n",
    "            img, label = img.to(device), label.to(device)\n",
    "            img = img.float()  # Ensure img is float\n",
    "            label = label.type(torch.long)  # Ensure label is long (for CrossEntropyLoss)\n",
    "            \n",
    "            y_pred = model(img)\n",
    "            y_pred_label = torch.argmax(y_pred, dim=1)\n",
    "            \n",
    "            test_labels.extend(label.cpu().detach())\n",
    "            test_preds.extend(y_pred_label.cpu().detach())\n",
    "            \n",
    "            loss = criterion(y_pred, label)\n",
    "            test_running_loss += loss.item()\n",
    "    \n",
    "    test_loss = test_running_loss / len(test_dataloader)\n",
    "    test_accuracy = sum(1 for x, y in zip(test_preds, test_labels) if x == y) / len(test_labels)\n",
    "    \n",
    "    print(f\"Test Loss: {test_loss:.4f}\")\n",
    "    print(f\"Test Accuracy: {test_accuracy:.4f}\")"
   ]
  },
  {
   "cell_type": "code",
   "execution_count": 14,
   "metadata": {},
   "outputs": [
    {
     "name": "stderr",
     "output_type": "stream",
     "text": [
      "/Users/nihat/mambaforge/envs/bachelor-project/lib/python3.12/site-packages/torch/nn/modules/transformer.py:286: UserWarning: enable_nested_tensor is True, but self.use_nested_tensor is False because encoder_layer.norm_first was True\n",
      "  warnings.warn(f\"enable_nested_tensor is True, but self.use_nested_tensor is False because {why_not_sparsity_fast_path}\")\n",
      "100%|██████████| 88/88 [00:24<00:00,  3.62it/s]\n",
      "100%|██████████| 10/10 [00:01<00:00,  8.53it/s]\n",
      "  2%|▏         | 1/50 [00:25<20:54, 25.60s/it]"
     ]
    },
    {
     "name": "stdout",
     "output_type": "stream",
     "text": [
      "Epoch 1: New best model saved with val_loss: 1.8456\n",
      "------------------------------\n",
      "Train Loss EPOCH 1: 2.0125\n",
      "Valid Loss EPOCH 1: 1.8456\n",
      "Train Accuracy EPOCH 1: 0.2573\n",
      "Valid Accuracy EPOCH 1: 0.3174\n",
      "------------------------------\n"
     ]
    },
    {
     "name": "stderr",
     "output_type": "stream",
     "text": [
      "100%|██████████| 88/88 [00:23<00:00,  3.74it/s]\n",
      "100%|██████████| 10/10 [00:01<00:00,  8.89it/s]\n",
      "  4%|▍         | 2/50 [00:50<20:05, 25.12s/it]"
     ]
    },
    {
     "name": "stdout",
     "output_type": "stream",
     "text": [
      "Epoch 2: New best model saved with val_loss: 1.6686\n",
      "------------------------------\n",
      "Train Loss EPOCH 2: 1.7320\n",
      "Valid Loss EPOCH 2: 1.6686\n",
      "Train Accuracy EPOCH 2: 0.3641\n",
      "Valid Accuracy EPOCH 2: 0.3982\n",
      "------------------------------\n"
     ]
    },
    {
     "name": "stderr",
     "output_type": "stream",
     "text": [
      "100%|██████████| 88/88 [00:23<00:00,  3.67it/s]\n",
      "100%|██████████| 10/10 [00:01<00:00,  8.59it/s]\n",
      "  6%|▌         | 3/50 [01:15<19:43, 25.19s/it]"
     ]
    },
    {
     "name": "stdout",
     "output_type": "stream",
     "text": [
      "Epoch 3: New best model saved with val_loss: 1.5863\n",
      "------------------------------\n",
      "Train Loss EPOCH 3: 1.6210\n",
      "Valid Loss EPOCH 3: 1.5863\n",
      "Train Accuracy EPOCH 3: 0.4073\n",
      "Valid Accuracy EPOCH 3: 0.4270\n",
      "------------------------------\n"
     ]
    },
    {
     "name": "stderr",
     "output_type": "stream",
     "text": [
      "100%|██████████| 88/88 [00:23<00:00,  3.80it/s]\n",
      "100%|██████████| 10/10 [00:01<00:00,  8.90it/s]\n",
      "  8%|▊         | 4/50 [01:40<19:03, 24.87s/it]"
     ]
    },
    {
     "name": "stdout",
     "output_type": "stream",
     "text": [
      "Epoch 4: New best model saved with val_loss: 1.5062\n",
      "------------------------------\n",
      "Train Loss EPOCH 4: 1.5460\n",
      "Valid Loss EPOCH 4: 1.5062\n",
      "Train Accuracy EPOCH 4: 0.4367\n",
      "Valid Accuracy EPOCH 4: 0.4528\n",
      "------------------------------\n"
     ]
    },
    {
     "name": "stderr",
     "output_type": "stream",
     "text": [
      "100%|██████████| 88/88 [00:23<00:00,  3.80it/s]\n",
      "100%|██████████| 10/10 [00:01<00:00,  9.00it/s]\n",
      " 10%|█         | 5/50 [02:04<18:31, 24.69s/it]"
     ]
    },
    {
     "name": "stdout",
     "output_type": "stream",
     "text": [
      "Epoch 5: New best model saved with val_loss: 1.4851\n",
      "------------------------------\n",
      "Train Loss EPOCH 5: 1.4914\n",
      "Valid Loss EPOCH 5: 1.4851\n",
      "Train Accuracy EPOCH 5: 0.4570\n",
      "Valid Accuracy EPOCH 5: 0.4634\n",
      "------------------------------\n"
     ]
    },
    {
     "name": "stderr",
     "output_type": "stream",
     "text": [
      "100%|██████████| 88/88 [00:23<00:00,  3.80it/s]\n",
      "100%|██████████| 10/10 [00:01<00:00,  9.09it/s]\n",
      " 12%|█▏        | 6/50 [02:28<18:01, 24.59s/it]"
     ]
    },
    {
     "name": "stdout",
     "output_type": "stream",
     "text": [
      "Epoch 6: New best model saved with val_loss: 1.4668\n",
      "------------------------------\n",
      "Train Loss EPOCH 6: 1.4515\n",
      "Valid Loss EPOCH 6: 1.4668\n",
      "Train Accuracy EPOCH 6: 0.4752\n",
      "Valid Accuracy EPOCH 6: 0.4616\n",
      "------------------------------\n"
     ]
    },
    {
     "name": "stderr",
     "output_type": "stream",
     "text": [
      "100%|██████████| 88/88 [00:23<00:00,  3.78it/s]\n",
      "100%|██████████| 10/10 [00:01<00:00,  8.97it/s]\n",
      " 14%|█▍        | 7/50 [02:53<17:36, 24.57s/it]"
     ]
    },
    {
     "name": "stdout",
     "output_type": "stream",
     "text": [
      "Epoch 7: New best model saved with val_loss: 1.3979\n",
      "------------------------------\n",
      "Train Loss EPOCH 7: 1.4008\n",
      "Valid Loss EPOCH 7: 1.3979\n",
      "Train Accuracy EPOCH 7: 0.4925\n",
      "Valid Accuracy EPOCH 7: 0.4900\n",
      "------------------------------\n"
     ]
    },
    {
     "name": "stderr",
     "output_type": "stream",
     "text": [
      "100%|██████████| 88/88 [00:23<00:00,  3.73it/s]\n",
      "100%|██████████| 10/10 [00:01<00:00,  8.94it/s]\n",
      " 16%|█▌        | 8/50 [03:18<17:15, 24.65s/it]"
     ]
    },
    {
     "name": "stdout",
     "output_type": "stream",
     "text": [
      "Epoch 8: New best model saved with val_loss: 1.3669\n",
      "------------------------------\n",
      "Train Loss EPOCH 8: 1.3651\n",
      "Valid Loss EPOCH 8: 1.3669\n",
      "Train Accuracy EPOCH 8: 0.5058\n",
      "Valid Accuracy EPOCH 8: 0.5054\n",
      "------------------------------\n"
     ]
    },
    {
     "name": "stderr",
     "output_type": "stream",
     "text": [
      "100%|██████████| 88/88 [00:23<00:00,  3.76it/s]\n",
      "100%|██████████| 10/10 [00:01<00:00,  8.93it/s]\n",
      " 18%|█▊        | 9/50 [03:42<16:50, 24.65s/it]"
     ]
    },
    {
     "name": "stdout",
     "output_type": "stream",
     "text": [
      "Epoch 9: New best model saved with val_loss: 1.3295\n",
      "------------------------------\n",
      "Train Loss EPOCH 9: 1.3391\n",
      "Valid Loss EPOCH 9: 1.3295\n",
      "Train Accuracy EPOCH 9: 0.5163\n",
      "Valid Accuracy EPOCH 9: 0.5200\n",
      "------------------------------\n"
     ]
    },
    {
     "name": "stderr",
     "output_type": "stream",
     "text": [
      "100%|██████████| 88/88 [00:24<00:00,  3.65it/s]\n",
      "100%|██████████| 10/10 [00:01<00:00,  8.24it/s]\n",
      " 20%|██        | 10/50 [04:08<16:35, 24.89s/it]"
     ]
    },
    {
     "name": "stdout",
     "output_type": "stream",
     "text": [
      "------------------------------\n",
      "Train Loss EPOCH 10: 1.3088\n",
      "Valid Loss EPOCH 10: 1.3427\n",
      "Train Accuracy EPOCH 10: 0.5259\n",
      "Valid Accuracy EPOCH 10: 0.5154\n",
      "------------------------------\n"
     ]
    },
    {
     "name": "stderr",
     "output_type": "stream",
     "text": [
      "100%|██████████| 88/88 [00:23<00:00,  3.68it/s]\n",
      "100%|██████████| 10/10 [00:01<00:00,  6.75it/s]\n",
      " 22%|██▏       | 11/50 [04:33<16:17, 25.07s/it]"
     ]
    },
    {
     "name": "stdout",
     "output_type": "stream",
     "text": [
      "Epoch 11: New best model saved with val_loss: 1.3036\n",
      "------------------------------\n",
      "Train Loss EPOCH 11: 1.2711\n",
      "Valid Loss EPOCH 11: 1.3036\n",
      "Train Accuracy EPOCH 11: 0.5431\n",
      "Valid Accuracy EPOCH 11: 0.5284\n",
      "------------------------------\n"
     ]
    },
    {
     "name": "stderr",
     "output_type": "stream",
     "text": [
      "100%|██████████| 88/88 [00:23<00:00,  3.73it/s]\n",
      "100%|██████████| 10/10 [00:01<00:00,  9.13it/s]\n",
      " 24%|██▍       | 12/50 [04:58<15:51, 25.03s/it]"
     ]
    },
    {
     "name": "stdout",
     "output_type": "stream",
     "text": [
      "Epoch 12: New best model saved with val_loss: 1.2517\n",
      "------------------------------\n",
      "Train Loss EPOCH 12: 1.2452\n",
      "Valid Loss EPOCH 12: 1.2517\n",
      "Train Accuracy EPOCH 12: 0.5513\n",
      "Valid Accuracy EPOCH 12: 0.5494\n",
      "------------------------------\n"
     ]
    },
    {
     "name": "stderr",
     "output_type": "stream",
     "text": [
      "100%|██████████| 88/88 [00:22<00:00,  3.83it/s]\n",
      "100%|██████████| 10/10 [00:01<00:00,  9.05it/s]\n",
      " 26%|██▌       | 13/50 [05:22<15:16, 24.76s/it]"
     ]
    },
    {
     "name": "stdout",
     "output_type": "stream",
     "text": [
      "------------------------------\n",
      "Train Loss EPOCH 13: 1.2256\n",
      "Valid Loss EPOCH 13: 1.2566\n",
      "Train Accuracy EPOCH 13: 0.5593\n",
      "Valid Accuracy EPOCH 13: 0.5534\n",
      "------------------------------\n"
     ]
    },
    {
     "name": "stderr",
     "output_type": "stream",
     "text": [
      "100%|██████████| 88/88 [00:23<00:00,  3.82it/s]\n",
      "100%|██████████| 10/10 [00:01<00:00,  8.99it/s]\n",
      " 28%|██▊       | 14/50 [05:47<14:46, 24.61s/it]"
     ]
    },
    {
     "name": "stdout",
     "output_type": "stream",
     "text": [
      "Epoch 14: New best model saved with val_loss: 1.2396\n",
      "------------------------------\n",
      "Train Loss EPOCH 14: 1.1982\n",
      "Valid Loss EPOCH 14: 1.2396\n",
      "Train Accuracy EPOCH 14: 0.5676\n",
      "Valid Accuracy EPOCH 14: 0.5562\n",
      "------------------------------\n"
     ]
    },
    {
     "name": "stderr",
     "output_type": "stream",
     "text": [
      "100%|██████████| 88/88 [00:22<00:00,  3.84it/s]\n",
      "100%|██████████| 10/10 [00:01<00:00,  9.11it/s]\n",
      " 30%|███       | 15/50 [06:11<14:16, 24.47s/it]"
     ]
    },
    {
     "name": "stdout",
     "output_type": "stream",
     "text": [
      "Epoch 15: New best model saved with val_loss: 1.2045\n",
      "------------------------------\n",
      "Train Loss EPOCH 15: 1.1748\n",
      "Valid Loss EPOCH 15: 1.2045\n",
      "Train Accuracy EPOCH 15: 0.5787\n",
      "Valid Accuracy EPOCH 15: 0.5708\n",
      "------------------------------\n"
     ]
    },
    {
     "name": "stderr",
     "output_type": "stream",
     "text": [
      "100%|██████████| 88/88 [00:22<00:00,  3.84it/s]\n",
      "100%|██████████| 10/10 [00:01<00:00,  9.01it/s]\n",
      " 32%|███▏      | 16/50 [06:35<13:48, 24.38s/it]"
     ]
    },
    {
     "name": "stdout",
     "output_type": "stream",
     "text": [
      "Epoch 16: New best model saved with val_loss: 1.2010\n",
      "------------------------------\n",
      "Train Loss EPOCH 16: 1.1510\n",
      "Valid Loss EPOCH 16: 1.2010\n",
      "Train Accuracy EPOCH 16: 0.5855\n",
      "Valid Accuracy EPOCH 16: 0.5728\n",
      "------------------------------\n"
     ]
    },
    {
     "name": "stderr",
     "output_type": "stream",
     "text": [
      "100%|██████████| 88/88 [00:23<00:00,  3.80it/s]\n",
      "100%|██████████| 10/10 [00:01<00:00,  9.05it/s]\n",
      " 34%|███▍      | 17/50 [06:59<13:24, 24.38s/it]"
     ]
    },
    {
     "name": "stdout",
     "output_type": "stream",
     "text": [
      "Epoch 17: New best model saved with val_loss: 1.1773\n",
      "------------------------------\n",
      "Train Loss EPOCH 17: 1.1332\n",
      "Valid Loss EPOCH 17: 1.1773\n",
      "Train Accuracy EPOCH 17: 0.5939\n",
      "Valid Accuracy EPOCH 17: 0.5768\n",
      "------------------------------\n"
     ]
    },
    {
     "name": "stderr",
     "output_type": "stream",
     "text": [
      "100%|██████████| 88/88 [00:23<00:00,  3.78it/s]\n",
      "100%|██████████| 10/10 [00:01<00:00,  9.09it/s]\n",
      " 36%|███▌      | 18/50 [07:24<13:01, 24.42s/it]"
     ]
    },
    {
     "name": "stdout",
     "output_type": "stream",
     "text": [
      "Epoch 18: New best model saved with val_loss: 1.1635\n",
      "------------------------------\n",
      "Train Loss EPOCH 18: 1.1158\n",
      "Valid Loss EPOCH 18: 1.1635\n",
      "Train Accuracy EPOCH 18: 0.5974\n",
      "Valid Accuracy EPOCH 18: 0.5860\n",
      "------------------------------\n"
     ]
    },
    {
     "name": "stderr",
     "output_type": "stream",
     "text": [
      "100%|██████████| 88/88 [00:23<00:00,  3.79it/s]\n",
      "100%|██████████| 10/10 [00:01<00:00,  9.14it/s]\n",
      " 38%|███▊      | 19/50 [07:48<12:37, 24.43s/it]"
     ]
    },
    {
     "name": "stdout",
     "output_type": "stream",
     "text": [
      "Epoch 19: New best model saved with val_loss: 1.1587\n",
      "------------------------------\n",
      "Train Loss EPOCH 19: 1.0874\n",
      "Valid Loss EPOCH 19: 1.1587\n",
      "Train Accuracy EPOCH 19: 0.6107\n",
      "Valid Accuracy EPOCH 19: 0.5830\n",
      "------------------------------\n"
     ]
    },
    {
     "name": "stderr",
     "output_type": "stream",
     "text": [
      "100%|██████████| 88/88 [00:23<00:00,  3.78it/s]\n",
      "100%|██████████| 10/10 [00:01<00:00,  8.94it/s]\n",
      " 40%|████      | 20/50 [08:13<12:13, 24.46s/it]"
     ]
    },
    {
     "name": "stdout",
     "output_type": "stream",
     "text": [
      "Epoch 20: New best model saved with val_loss: 1.1537\n",
      "------------------------------\n",
      "Train Loss EPOCH 20: 1.0619\n",
      "Valid Loss EPOCH 20: 1.1537\n",
      "Train Accuracy EPOCH 20: 0.6201\n",
      "Valid Accuracy EPOCH 20: 0.5810\n",
      "------------------------------\n"
     ]
    },
    {
     "name": "stderr",
     "output_type": "stream",
     "text": [
      "100%|██████████| 88/88 [00:23<00:00,  3.76it/s]\n",
      "100%|██████████| 10/10 [00:01<00:00,  8.68it/s]\n",
      " 42%|████▏     | 21/50 [08:37<11:51, 24.52s/it]"
     ]
    },
    {
     "name": "stdout",
     "output_type": "stream",
     "text": [
      "Epoch 21: New best model saved with val_loss: 1.1336\n",
      "------------------------------\n",
      "Train Loss EPOCH 21: 1.0442\n",
      "Valid Loss EPOCH 21: 1.1336\n",
      "Train Accuracy EPOCH 21: 0.6241\n",
      "Valid Accuracy EPOCH 21: 0.5898\n",
      "------------------------------\n"
     ]
    },
    {
     "name": "stderr",
     "output_type": "stream",
     "text": [
      "100%|██████████| 88/88 [00:23<00:00,  3.78it/s]\n",
      "100%|██████████| 10/10 [00:01<00:00,  8.63it/s]\n",
      " 44%|████▍     | 22/50 [09:02<11:27, 24.54s/it]"
     ]
    },
    {
     "name": "stdout",
     "output_type": "stream",
     "text": [
      "Epoch 22: New best model saved with val_loss: 1.1148\n",
      "------------------------------\n",
      "Train Loss EPOCH 22: 1.0273\n",
      "Valid Loss EPOCH 22: 1.1148\n",
      "Train Accuracy EPOCH 22: 0.6271\n",
      "Valid Accuracy EPOCH 22: 0.6014\n",
      "------------------------------\n"
     ]
    },
    {
     "name": "stderr",
     "output_type": "stream",
     "text": [
      "100%|██████████| 88/88 [00:23<00:00,  3.75it/s]\n",
      "100%|██████████| 10/10 [00:01<00:00,  9.04it/s]\n",
      " 46%|████▌     | 23/50 [09:27<11:03, 24.57s/it]"
     ]
    },
    {
     "name": "stdout",
     "output_type": "stream",
     "text": [
      "------------------------------\n",
      "Train Loss EPOCH 23: 1.0064\n",
      "Valid Loss EPOCH 23: 1.1184\n",
      "Train Accuracy EPOCH 23: 0.6396\n",
      "Valid Accuracy EPOCH 23: 0.6014\n",
      "------------------------------\n"
     ]
    },
    {
     "name": "stderr",
     "output_type": "stream",
     "text": [
      "100%|██████████| 88/88 [00:23<00:00,  3.71it/s]\n",
      "100%|██████████| 10/10 [00:01<00:00,  8.76it/s]\n",
      " 48%|████▊     | 24/50 [09:52<10:41, 24.69s/it]"
     ]
    },
    {
     "name": "stdout",
     "output_type": "stream",
     "text": [
      "Epoch 24: New best model saved with val_loss: 1.1011\n",
      "------------------------------\n",
      "Train Loss EPOCH 24: 0.9860\n",
      "Valid Loss EPOCH 24: 1.1011\n",
      "Train Accuracy EPOCH 24: 0.6474\n",
      "Valid Accuracy EPOCH 24: 0.6090\n",
      "------------------------------\n"
     ]
    },
    {
     "name": "stderr",
     "output_type": "stream",
     "text": [
      "100%|██████████| 88/88 [00:24<00:00,  3.63it/s]\n",
      "100%|██████████| 10/10 [00:01<00:00,  8.03it/s]\n",
      " 50%|█████     | 25/50 [10:17<10:24, 24.97s/it]"
     ]
    },
    {
     "name": "stdout",
     "output_type": "stream",
     "text": [
      "Epoch 25: New best model saved with val_loss: 1.0730\n",
      "------------------------------\n",
      "Train Loss EPOCH 25: 0.9694\n",
      "Valid Loss EPOCH 25: 1.0730\n",
      "Train Accuracy EPOCH 25: 0.6517\n",
      "Valid Accuracy EPOCH 25: 0.6230\n",
      "------------------------------\n"
     ]
    },
    {
     "name": "stderr",
     "output_type": "stream",
     "text": [
      "100%|██████████| 88/88 [00:24<00:00,  3.62it/s]\n",
      "100%|██████████| 10/10 [00:01<00:00,  8.89it/s]\n",
      " 52%|█████▏    | 26/50 [10:43<10:03, 25.14s/it]"
     ]
    },
    {
     "name": "stdout",
     "output_type": "stream",
     "text": [
      "------------------------------\n",
      "Train Loss EPOCH 26: 0.9491\n",
      "Valid Loss EPOCH 26: 1.0867\n",
      "Train Accuracy EPOCH 26: 0.6607\n",
      "Valid Accuracy EPOCH 26: 0.6090\n",
      "------------------------------\n"
     ]
    },
    {
     "name": "stderr",
     "output_type": "stream",
     "text": [
      "100%|██████████| 88/88 [00:23<00:00,  3.73it/s]\n",
      "100%|██████████| 10/10 [00:01<00:00,  8.91it/s]\n",
      " 54%|█████▍    | 27/50 [11:08<09:35, 25.04s/it]"
     ]
    },
    {
     "name": "stdout",
     "output_type": "stream",
     "text": [
      "------------------------------\n",
      "Train Loss EPOCH 27: 0.9207\n",
      "Valid Loss EPOCH 27: 1.1033\n",
      "Train Accuracy EPOCH 27: 0.6686\n",
      "Valid Accuracy EPOCH 27: 0.6078\n",
      "------------------------------\n"
     ]
    },
    {
     "name": "stderr",
     "output_type": "stream",
     "text": [
      "100%|██████████| 88/88 [00:23<00:00,  3.76it/s]\n",
      "100%|██████████| 10/10 [00:01<00:00,  8.98it/s]\n",
      " 56%|█████▌    | 28/50 [11:32<09:08, 24.92s/it]"
     ]
    },
    {
     "name": "stdout",
     "output_type": "stream",
     "text": [
      "Epoch 28: New best model saved with val_loss: 1.0722\n",
      "------------------------------\n",
      "Train Loss EPOCH 28: 0.9048\n",
      "Valid Loss EPOCH 28: 1.0722\n",
      "Train Accuracy EPOCH 28: 0.6763\n",
      "Valid Accuracy EPOCH 28: 0.6244\n",
      "------------------------------\n"
     ]
    },
    {
     "name": "stderr",
     "output_type": "stream",
     "text": [
      "100%|██████████| 88/88 [00:23<00:00,  3.76it/s]\n",
      "100%|██████████| 10/10 [00:01<00:00,  8.90it/s]\n",
      " 58%|█████▊    | 29/50 [11:57<08:41, 24.84s/it]"
     ]
    },
    {
     "name": "stdout",
     "output_type": "stream",
     "text": [
      "------------------------------\n",
      "Train Loss EPOCH 29: 0.8830\n",
      "Valid Loss EPOCH 29: 1.0952\n",
      "Train Accuracy EPOCH 29: 0.6834\n",
      "Valid Accuracy EPOCH 29: 0.6192\n",
      "------------------------------\n"
     ]
    },
    {
     "name": "stderr",
     "output_type": "stream",
     "text": [
      "100%|██████████| 88/88 [00:23<00:00,  3.73it/s]\n",
      "100%|██████████| 10/10 [00:01<00:00,  8.98it/s]\n",
      " 60%|██████    | 30/50 [12:22<08:16, 24.82s/it]"
     ]
    },
    {
     "name": "stdout",
     "output_type": "stream",
     "text": [
      "------------------------------\n",
      "Train Loss EPOCH 30: 0.8761\n",
      "Valid Loss EPOCH 30: 1.0726\n",
      "Train Accuracy EPOCH 30: 0.6854\n",
      "Valid Accuracy EPOCH 30: 0.6222\n",
      "------------------------------\n"
     ]
    },
    {
     "name": "stderr",
     "output_type": "stream",
     "text": [
      "100%|██████████| 88/88 [00:23<00:00,  3.72it/s]\n",
      "100%|██████████| 10/10 [00:01<00:00,  8.80it/s]\n",
      " 62%|██████▏   | 31/50 [12:46<07:51, 24.84s/it]"
     ]
    },
    {
     "name": "stdout",
     "output_type": "stream",
     "text": [
      "Epoch 31: New best model saved with val_loss: 1.0641\n",
      "------------------------------\n",
      "Train Loss EPOCH 31: 0.8553\n",
      "Valid Loss EPOCH 31: 1.0641\n",
      "Train Accuracy EPOCH 31: 0.6941\n",
      "Valid Accuracy EPOCH 31: 0.6292\n",
      "------------------------------\n"
     ]
    },
    {
     "name": "stderr",
     "output_type": "stream",
     "text": [
      "100%|██████████| 88/88 [00:23<00:00,  3.78it/s]\n",
      "100%|██████████| 10/10 [00:01<00:00,  8.77it/s]\n",
      " 64%|██████▍   | 32/50 [13:11<07:25, 24.75s/it]"
     ]
    },
    {
     "name": "stdout",
     "output_type": "stream",
     "text": [
      "------------------------------\n",
      "Train Loss EPOCH 32: 0.8303\n",
      "Valid Loss EPOCH 32: 1.0712\n",
      "Train Accuracy EPOCH 32: 0.7026\n",
      "Valid Accuracy EPOCH 32: 0.6180\n",
      "------------------------------\n"
     ]
    },
    {
     "name": "stderr",
     "output_type": "stream",
     "text": [
      "100%|██████████| 88/88 [00:22<00:00,  3.88it/s]\n",
      "100%|██████████| 10/10 [00:01<00:00,  9.33it/s]\n",
      " 66%|██████▌   | 33/50 [13:35<06:55, 24.47s/it]"
     ]
    },
    {
     "name": "stdout",
     "output_type": "stream",
     "text": [
      "------------------------------\n",
      "Train Loss EPOCH 33: 0.8124\n",
      "Valid Loss EPOCH 33: 1.0716\n",
      "Train Accuracy EPOCH 33: 0.7082\n",
      "Valid Accuracy EPOCH 33: 0.6276\n",
      "------------------------------\n"
     ]
    },
    {
     "name": "stderr",
     "output_type": "stream",
     "text": [
      "100%|██████████| 88/88 [00:22<00:00,  3.86it/s]\n",
      "100%|██████████| 10/10 [00:01<00:00,  9.24it/s]\n",
      " 68%|██████▊   | 34/50 [13:59<06:29, 24.33s/it]"
     ]
    },
    {
     "name": "stdout",
     "output_type": "stream",
     "text": [
      "Epoch 34: New best model saved with val_loss: 1.0564\n",
      "------------------------------\n",
      "Train Loss EPOCH 34: 0.7940\n",
      "Valid Loss EPOCH 34: 1.0564\n",
      "Train Accuracy EPOCH 34: 0.7154\n",
      "Valid Accuracy EPOCH 34: 0.6366\n",
      "------------------------------\n"
     ]
    },
    {
     "name": "stderr",
     "output_type": "stream",
     "text": [
      "100%|██████████| 88/88 [00:22<00:00,  3.91it/s]\n",
      "100%|██████████| 10/10 [00:01<00:00,  9.08it/s]\n",
      " 70%|███████   | 35/50 [14:23<06:01, 24.13s/it]"
     ]
    },
    {
     "name": "stdout",
     "output_type": "stream",
     "text": [
      "------------------------------\n",
      "Train Loss EPOCH 35: 0.7721\n",
      "Valid Loss EPOCH 35: 1.0655\n",
      "Train Accuracy EPOCH 35: 0.7229\n",
      "Valid Accuracy EPOCH 35: 0.6348\n",
      "------------------------------\n"
     ]
    },
    {
     "name": "stderr",
     "output_type": "stream",
     "text": [
      "100%|██████████| 88/88 [00:22<00:00,  3.87it/s]\n",
      "100%|██████████| 10/10 [00:01<00:00,  9.15it/s]\n",
      " 72%|███████▏  | 36/50 [14:46<05:36, 24.06s/it]"
     ]
    },
    {
     "name": "stdout",
     "output_type": "stream",
     "text": [
      "------------------------------\n",
      "Train Loss EPOCH 36: 0.7545\n",
      "Valid Loss EPOCH 36: 1.0701\n",
      "Train Accuracy EPOCH 36: 0.7278\n",
      "Valid Accuracy EPOCH 36: 0.6326\n",
      "------------------------------\n"
     ]
    },
    {
     "name": "stderr",
     "output_type": "stream",
     "text": [
      "100%|██████████| 88/88 [00:22<00:00,  3.89it/s]\n",
      "100%|██████████| 10/10 [00:01<00:00,  9.15it/s]\n",
      " 74%|███████▍  | 37/50 [15:10<05:11, 23.99s/it]"
     ]
    },
    {
     "name": "stdout",
     "output_type": "stream",
     "text": [
      "------------------------------\n",
      "Train Loss EPOCH 37: 0.7385\n",
      "Valid Loss EPOCH 37: 1.0654\n",
      "Train Accuracy EPOCH 37: 0.7344\n",
      "Valid Accuracy EPOCH 37: 0.6394\n",
      "------------------------------\n"
     ]
    },
    {
     "name": "stderr",
     "output_type": "stream",
     "text": [
      "100%|██████████| 88/88 [00:22<00:00,  3.91it/s]\n",
      "100%|██████████| 10/10 [00:01<00:00,  9.32it/s]\n",
      " 76%|███████▌  | 38/50 [15:34<04:46, 23.89s/it]"
     ]
    },
    {
     "name": "stdout",
     "output_type": "stream",
     "text": [
      "------------------------------\n",
      "Train Loss EPOCH 38: 0.7219\n",
      "Valid Loss EPOCH 38: 1.0634\n",
      "Train Accuracy EPOCH 38: 0.7396\n",
      "Valid Accuracy EPOCH 38: 0.6376\n",
      "------------------------------\n"
     ]
    },
    {
     "name": "stderr",
     "output_type": "stream",
     "text": [
      "100%|██████████| 88/88 [00:22<00:00,  3.89it/s]\n",
      "100%|██████████| 10/10 [00:01<00:00,  9.34it/s]\n",
      " 78%|███████▊  | 39/50 [15:58<04:22, 23.87s/it]"
     ]
    },
    {
     "name": "stdout",
     "output_type": "stream",
     "text": [
      "Epoch 39: New best model saved with val_loss: 1.0551\n",
      "------------------------------\n",
      "Train Loss EPOCH 39: 0.7024\n",
      "Valid Loss EPOCH 39: 1.0551\n",
      "Train Accuracy EPOCH 39: 0.7460\n",
      "Valid Accuracy EPOCH 39: 0.6470\n",
      "------------------------------\n"
     ]
    },
    {
     "name": "stderr",
     "output_type": "stream",
     "text": [
      "100%|██████████| 88/88 [00:22<00:00,  3.89it/s]\n",
      "100%|██████████| 10/10 [00:01<00:00,  9.20it/s]\n",
      " 80%|████████  | 40/50 [16:21<03:58, 23.84s/it]"
     ]
    },
    {
     "name": "stdout",
     "output_type": "stream",
     "text": [
      "------------------------------\n",
      "Train Loss EPOCH 40: 0.6751\n",
      "Valid Loss EPOCH 40: 1.0827\n",
      "Train Accuracy EPOCH 40: 0.7560\n",
      "Valid Accuracy EPOCH 40: 0.6452\n",
      "------------------------------\n"
     ]
    },
    {
     "name": "stderr",
     "output_type": "stream",
     "text": [
      "100%|██████████| 88/88 [00:24<00:00,  3.55it/s]\n",
      "100%|██████████| 10/10 [00:01<00:00,  9.28it/s]\n",
      " 82%|████████▏ | 41/50 [16:47<03:40, 24.47s/it]"
     ]
    },
    {
     "name": "stdout",
     "output_type": "stream",
     "text": [
      "------------------------------\n",
      "Train Loss EPOCH 41: 0.6575\n",
      "Valid Loss EPOCH 41: 1.0985\n",
      "Train Accuracy EPOCH 41: 0.7638\n",
      "Valid Accuracy EPOCH 41: 0.6374\n",
      "------------------------------\n"
     ]
    },
    {
     "name": "stderr",
     "output_type": "stream",
     "text": [
      "100%|██████████| 88/88 [00:22<00:00,  3.92it/s]\n",
      "100%|██████████| 10/10 [00:01<00:00,  9.17it/s]\n",
      " 84%|████████▍ | 42/50 [17:11<03:13, 24.22s/it]"
     ]
    },
    {
     "name": "stdout",
     "output_type": "stream",
     "text": [
      "------------------------------\n",
      "Train Loss EPOCH 42: 0.6429\n",
      "Valid Loss EPOCH 42: 1.1145\n",
      "Train Accuracy EPOCH 42: 0.7694\n",
      "Valid Accuracy EPOCH 42: 0.6370\n",
      "------------------------------\n"
     ]
    },
    {
     "name": "stderr",
     "output_type": "stream",
     "text": [
      "100%|██████████| 88/88 [00:22<00:00,  3.88it/s]\n",
      "100%|██████████| 10/10 [00:01<00:00,  9.15it/s]\n",
      " 86%|████████▌ | 43/50 [17:35<02:48, 24.11s/it]"
     ]
    },
    {
     "name": "stdout",
     "output_type": "stream",
     "text": [
      "------------------------------\n",
      "Train Loss EPOCH 43: 0.6208\n",
      "Valid Loss EPOCH 43: 1.0943\n",
      "Train Accuracy EPOCH 43: 0.7736\n",
      "Valid Accuracy EPOCH 43: 0.6388\n",
      "------------------------------\n"
     ]
    },
    {
     "name": "stderr",
     "output_type": "stream",
     "text": [
      "100%|██████████| 88/88 [00:22<00:00,  3.88it/s]\n",
      "100%|██████████| 10/10 [00:01<00:00,  9.19it/s]\n",
      " 88%|████████▊ | 44/50 [17:59<02:24, 24.03s/it]"
     ]
    },
    {
     "name": "stdout",
     "output_type": "stream",
     "text": [
      "------------------------------\n",
      "Train Loss EPOCH 44: 0.5941\n",
      "Valid Loss EPOCH 44: 1.1016\n",
      "Train Accuracy EPOCH 44: 0.7851\n",
      "Valid Accuracy EPOCH 44: 0.6512\n",
      "------------------------------\n"
     ]
    },
    {
     "name": "stderr",
     "output_type": "stream",
     "text": [
      "100%|██████████| 88/88 [00:22<00:00,  3.89it/s]\n",
      "100%|██████████| 10/10 [00:01<00:00,  9.05it/s]\n",
      " 90%|█████████ | 45/50 [18:23<01:59, 23.97s/it]"
     ]
    },
    {
     "name": "stdout",
     "output_type": "stream",
     "text": [
      "------------------------------\n",
      "Train Loss EPOCH 45: 0.5740\n",
      "Valid Loss EPOCH 45: 1.1511\n",
      "Train Accuracy EPOCH 45: 0.7918\n",
      "Valid Accuracy EPOCH 45: 0.6390\n",
      "------------------------------\n"
     ]
    },
    {
     "name": "stderr",
     "output_type": "stream",
     "text": [
      "100%|██████████| 88/88 [00:22<00:00,  3.89it/s]\n",
      "100%|██████████| 10/10 [00:01<00:00,  9.07it/s]\n",
      " 92%|█████████▏| 46/50 [18:46<01:35, 23.92s/it]"
     ]
    },
    {
     "name": "stdout",
     "output_type": "stream",
     "text": [
      "------------------------------\n",
      "Train Loss EPOCH 46: 0.5668\n",
      "Valid Loss EPOCH 46: 1.1405\n",
      "Train Accuracy EPOCH 46: 0.7945\n",
      "Valid Accuracy EPOCH 46: 0.6322\n",
      "------------------------------\n"
     ]
    },
    {
     "name": "stderr",
     "output_type": "stream",
     "text": [
      "100%|██████████| 88/88 [00:22<00:00,  3.91it/s]\n",
      "100%|██████████| 10/10 [00:01<00:00,  9.20it/s]\n",
      " 94%|█████████▍| 47/50 [19:10<01:11, 23.85s/it]"
     ]
    },
    {
     "name": "stdout",
     "output_type": "stream",
     "text": [
      "------------------------------\n",
      "Train Loss EPOCH 47: 0.5488\n",
      "Valid Loss EPOCH 47: 1.1576\n",
      "Train Accuracy EPOCH 47: 0.8042\n",
      "Valid Accuracy EPOCH 47: 0.6434\n",
      "------------------------------\n"
     ]
    },
    {
     "name": "stderr",
     "output_type": "stream",
     "text": [
      "100%|██████████| 88/88 [00:22<00:00,  3.91it/s]\n",
      "100%|██████████| 10/10 [00:01<00:00,  9.10it/s]\n",
      " 96%|█████████▌| 48/50 [19:34<00:47, 23.80s/it]"
     ]
    },
    {
     "name": "stdout",
     "output_type": "stream",
     "text": [
      "------------------------------\n",
      "Train Loss EPOCH 48: 0.5272\n",
      "Valid Loss EPOCH 48: 1.1848\n",
      "Train Accuracy EPOCH 48: 0.8075\n",
      "Valid Accuracy EPOCH 48: 0.6366\n",
      "------------------------------\n"
     ]
    },
    {
     "name": "stderr",
     "output_type": "stream",
     "text": [
      "100%|██████████| 88/88 [00:22<00:00,  3.90it/s]\n",
      "100%|██████████| 10/10 [00:01<00:00,  9.34it/s]\n",
      " 96%|█████████▌| 48/50 [19:57<00:49, 24.96s/it]\n"
     ]
    },
    {
     "name": "stdout",
     "output_type": "stream",
     "text": [
      "Early stopping triggered\n",
      "Training Time: 1195.91s\n"
     ]
    },
    {
     "data": {
      "image/png": "[encoded data removed]",
      "text/plain": [
       "<Figure size 1000x1000 with 2 Axes>"
      ]
     },
     "metadata": {},
     "output_type": "display_data"
    },
    {
     "name": "stderr",
     "output_type": "stream",
     "text": [
      "100%|██████████| 20/20 [00:01<00:00, 10.54it/s]"
     ]
    },
    {
     "name": "stdout",
     "output_type": "stream",
     "text": [
      "Test Loss: 1.0451\n",
      "Test Accuracy: 0.6536\n"
     ]
    },
    {
     "name": "stderr",
     "output_type": "stream",
     "text": [
      "\n"
     ]
    }
   ],
   "source": [
    "learned_postional_embedding = PatchEmbeddingLearnedPositionalEmbedding(EMBEDING_DIMENTION, PATCH_SIZE, NUM_PATCHES, DROPOUT, IN_CHANNELS)\n",
    "model_learned = training_loop(learned_postional_embedding, 'best_model_learned_embedding.pt')\n",
    "test_model(model_learned, 'best_model_learned_embedding.pt')"
   ]
  },
  {
   "cell_type": "code",
   "execution_count": 15,
   "metadata": {},
   "outputs": [
    {
     "name": "stderr",
     "output_type": "stream",
     "text": [
      "100%|██████████| 88/88 [00:24<00:00,  3.61it/s]\n",
      "100%|██████████| 10/10 [00:01<00:00,  8.06it/s]\n",
      "  2%|▏         | 1/50 [00:25<21:00, 25.73s/it]"
     ]
    },
    {
     "name": "stdout",
     "output_type": "stream",
     "text": [
      "Epoch 1: New best model saved with val_loss: 1.9551\n",
      "------------------------------\n",
      "Train Loss EPOCH 1: 2.0498\n",
      "Valid Loss EPOCH 1: 1.9551\n",
      "Train Accuracy EPOCH 1: 0.2359\n",
      "Valid Accuracy EPOCH 1: 0.2692\n",
      "------------------------------\n"
     ]
    },
    {
     "name": "stderr",
     "output_type": "stream",
     "text": [
      "100%|██████████| 88/88 [00:24<00:00,  3.60it/s]\n",
      "100%|██████████| 10/10 [00:01<00:00,  8.47it/s]\n",
      "  4%|▍         | 2/50 [00:51<20:35, 25.75s/it]"
     ]
    },
    {
     "name": "stdout",
     "output_type": "stream",
     "text": [
      "Epoch 2: New best model saved with val_loss: 1.8915\n",
      "------------------------------\n",
      "Train Loss EPOCH 2: 1.9195\n",
      "Valid Loss EPOCH 2: 1.8915\n",
      "Train Accuracy EPOCH 2: 0.2819\n",
      "Valid Accuracy EPOCH 2: 0.2938\n",
      "------------------------------\n"
     ]
    },
    {
     "name": "stderr",
     "output_type": "stream",
     "text": [
      "100%|██████████| 88/88 [00:24<00:00,  3.64it/s]\n",
      "100%|██████████| 10/10 [00:01<00:00,  8.35it/s]\n",
      "  6%|▌         | 3/50 [01:16<20:03, 25.61s/it]"
     ]
    },
    {
     "name": "stdout",
     "output_type": "stream",
     "text": [
      "Epoch 3: New best model saved with val_loss: 1.8397\n",
      "------------------------------\n",
      "Train Loss EPOCH 3: 1.8485\n",
      "Valid Loss EPOCH 3: 1.8397\n",
      "Train Accuracy EPOCH 3: 0.3095\n",
      "Valid Accuracy EPOCH 3: 0.3100\n",
      "------------------------------\n"
     ]
    },
    {
     "name": "stderr",
     "output_type": "stream",
     "text": [
      "100%|██████████| 88/88 [00:23<00:00,  3.67it/s]\n",
      "100%|██████████| 10/10 [00:01<00:00,  8.49it/s]\n",
      "  8%|▊         | 4/50 [01:42<19:31, 25.46s/it]"
     ]
    },
    {
     "name": "stdout",
     "output_type": "stream",
     "text": [
      "------------------------------\n",
      "Train Loss EPOCH 4: 1.8015\n",
      "Valid Loss EPOCH 4: 1.8582\n",
      "Train Accuracy EPOCH 4: 0.3300\n",
      "Valid Accuracy EPOCH 4: 0.3214\n",
      "------------------------------\n"
     ]
    },
    {
     "name": "stderr",
     "output_type": "stream",
     "text": [
      "100%|██████████| 88/88 [00:24<00:00,  3.62it/s]\n",
      "100%|██████████| 10/10 [00:01<00:00,  8.38it/s]\n",
      " 10%|█         | 5/50 [02:07<19:08, 25.52s/it]"
     ]
    },
    {
     "name": "stdout",
     "output_type": "stream",
     "text": [
      "Epoch 5: New best model saved with val_loss: 1.7579\n",
      "------------------------------\n",
      "Train Loss EPOCH 5: 1.7602\n",
      "Valid Loss EPOCH 5: 1.7579\n",
      "Train Accuracy EPOCH 5: 0.3473\n",
      "Valid Accuracy EPOCH 5: 0.3496\n",
      "------------------------------\n"
     ]
    },
    {
     "name": "stderr",
     "output_type": "stream",
     "text": [
      "100%|██████████| 88/88 [00:24<00:00,  3.64it/s]\n",
      "100%|██████████| 10/10 [00:01<00:00,  8.43it/s]\n",
      " 12%|█▏        | 6/50 [02:33<18:42, 25.51s/it]"
     ]
    },
    {
     "name": "stdout",
     "output_type": "stream",
     "text": [
      "Epoch 6: New best model saved with val_loss: 1.6952\n",
      "------------------------------\n",
      "Train Loss EPOCH 6: 1.7273\n",
      "Valid Loss EPOCH 6: 1.6952\n",
      "Train Accuracy EPOCH 6: 0.3596\n",
      "Valid Accuracy EPOCH 6: 0.3794\n",
      "------------------------------\n"
     ]
    },
    {
     "name": "stderr",
     "output_type": "stream",
     "text": [
      "100%|██████████| 88/88 [00:24<00:00,  3.63it/s]\n",
      "100%|██████████| 10/10 [00:01<00:00,  8.66it/s]\n",
      " 14%|█▍        | 7/50 [02:58<18:16, 25.49s/it]"
     ]
    },
    {
     "name": "stdout",
     "output_type": "stream",
     "text": [
      "------------------------------\n",
      "Train Loss EPOCH 7: 1.6933\n",
      "Valid Loss EPOCH 7: 1.7048\n",
      "Train Accuracy EPOCH 7: 0.3731\n",
      "Valid Accuracy EPOCH 7: 0.3684\n",
      "------------------------------\n"
     ]
    },
    {
     "name": "stderr",
     "output_type": "stream",
     "text": [
      "100%|██████████| 88/88 [00:23<00:00,  3.68it/s]\n",
      "100%|██████████| 10/10 [00:01<00:00,  7.06it/s]\n",
      " 16%|█▌        | 8/50 [03:24<17:49, 25.47s/it]"
     ]
    },
    {
     "name": "stdout",
     "output_type": "stream",
     "text": [
      "Epoch 8: New best model saved with val_loss: 1.6276\n",
      "------------------------------\n",
      "Train Loss EPOCH 8: 1.6710\n",
      "Valid Loss EPOCH 8: 1.6276\n",
      "Train Accuracy EPOCH 8: 0.3850\n",
      "Valid Accuracy EPOCH 8: 0.4034\n",
      "------------------------------\n"
     ]
    },
    {
     "name": "stderr",
     "output_type": "stream",
     "text": [
      "100%|██████████| 88/88 [00:24<00:00,  3.67it/s]\n",
      "100%|██████████| 10/10 [00:01<00:00,  8.28it/s]\n",
      " 18%|█▊        | 9/50 [03:49<17:22, 25.43s/it]"
     ]
    },
    {
     "name": "stdout",
     "output_type": "stream",
     "text": [
      "Epoch 9: New best model saved with val_loss: 1.5957\n",
      "------------------------------\n",
      "Train Loss EPOCH 9: 1.6284\n",
      "Valid Loss EPOCH 9: 1.5957\n",
      "Train Accuracy EPOCH 9: 0.4023\n",
      "Valid Accuracy EPOCH 9: 0.4220\n",
      "------------------------------\n"
     ]
    },
    {
     "name": "stderr",
     "output_type": "stream",
     "text": [
      "100%|██████████| 88/88 [00:24<00:00,  3.63it/s]\n",
      "100%|██████████| 10/10 [00:01<00:00,  8.30it/s]\n",
      " 20%|██        | 10/50 [04:15<16:58, 25.47s/it]"
     ]
    },
    {
     "name": "stdout",
     "output_type": "stream",
     "text": [
      "------------------------------\n",
      "Train Loss EPOCH 10: 1.6002\n",
      "Valid Loss EPOCH 10: 1.6075\n",
      "Train Accuracy EPOCH 10: 0.4144\n",
      "Valid Accuracy EPOCH 10: 0.4052\n",
      "------------------------------\n"
     ]
    },
    {
     "name": "stderr",
     "output_type": "stream",
     "text": [
      "100%|██████████| 88/88 [00:24<00:00,  3.65it/s]\n",
      "100%|██████████| 10/10 [00:01<00:00,  8.37it/s]\n",
      " 22%|██▏       | 11/50 [04:40<16:32, 25.45s/it]"
     ]
    },
    {
     "name": "stdout",
     "output_type": "stream",
     "text": [
      "Epoch 11: New best model saved with val_loss: 1.5469\n",
      "------------------------------\n",
      "Train Loss EPOCH 11: 1.5743\n",
      "Valid Loss EPOCH 11: 1.5469\n",
      "Train Accuracy EPOCH 11: 0.4255\n",
      "Valid Accuracy EPOCH 11: 0.4384\n",
      "------------------------------\n"
     ]
    },
    {
     "name": "stderr",
     "output_type": "stream",
     "text": [
      "100%|██████████| 88/88 [00:24<00:00,  3.66it/s]\n",
      "100%|██████████| 10/10 [00:01<00:00,  8.25it/s]\n",
      " 24%|██▍       | 12/50 [05:05<16:06, 25.43s/it]"
     ]
    },
    {
     "name": "stdout",
     "output_type": "stream",
     "text": [
      "------------------------------\n",
      "Train Loss EPOCH 12: 1.5512\n",
      "Valid Loss EPOCH 12: 1.5533\n",
      "Train Accuracy EPOCH 12: 0.4339\n",
      "Valid Accuracy EPOCH 12: 0.4328\n",
      "------------------------------\n"
     ]
    },
    {
     "name": "stderr",
     "output_type": "stream",
     "text": [
      "100%|██████████| 88/88 [00:24<00:00,  3.64it/s]\n",
      "100%|██████████| 10/10 [00:01<00:00,  8.66it/s]\n",
      " 26%|██▌       | 13/50 [05:31<15:41, 25.44s/it]"
     ]
    },
    {
     "name": "stdout",
     "output_type": "stream",
     "text": [
      "Epoch 13: New best model saved with val_loss: 1.5411\n",
      "------------------------------\n",
      "Train Loss EPOCH 13: 1.5211\n",
      "Valid Loss EPOCH 13: 1.5411\n",
      "Train Accuracy EPOCH 13: 0.4452\n",
      "Valid Accuracy EPOCH 13: 0.4364\n",
      "------------------------------\n"
     ]
    },
    {
     "name": "stderr",
     "output_type": "stream",
     "text": [
      "100%|██████████| 88/88 [00:24<00:00,  3.63it/s]\n",
      "100%|██████████| 10/10 [00:01<00:00,  8.53it/s]\n",
      " 28%|██▊       | 14/50 [05:56<15:17, 25.48s/it]"
     ]
    },
    {
     "name": "stdout",
     "output_type": "stream",
     "text": [
      "Epoch 14: New best model saved with val_loss: 1.5360\n",
      "------------------------------\n",
      "Train Loss EPOCH 14: 1.5187\n",
      "Valid Loss EPOCH 14: 1.5360\n",
      "Train Accuracy EPOCH 14: 0.4471\n",
      "Valid Accuracy EPOCH 14: 0.4390\n",
      "------------------------------\n"
     ]
    },
    {
     "name": "stderr",
     "output_type": "stream",
     "text": [
      "100%|██████████| 88/88 [00:24<00:00,  3.65it/s]\n",
      "100%|██████████| 10/10 [00:01<00:00,  8.28it/s]\n",
      " 30%|███       | 15/50 [06:22<14:51, 25.47s/it]"
     ]
    },
    {
     "name": "stdout",
     "output_type": "stream",
     "text": [
      "Epoch 15: New best model saved with val_loss: 1.4991\n",
      "------------------------------\n",
      "Train Loss EPOCH 15: 1.4953\n",
      "Valid Loss EPOCH 15: 1.4991\n",
      "Train Accuracy EPOCH 15: 0.4555\n",
      "Valid Accuracy EPOCH 15: 0.4582\n",
      "------------------------------\n"
     ]
    },
    {
     "name": "stderr",
     "output_type": "stream",
     "text": [
      "100%|██████████| 88/88 [00:24<00:00,  3.63it/s]\n",
      "100%|██████████| 10/10 [00:01<00:00,  7.95it/s]\n",
      " 32%|███▏      | 16/50 [06:47<14:27, 25.52s/it]"
     ]
    },
    {
     "name": "stdout",
     "output_type": "stream",
     "text": [
      "Epoch 16: New best model saved with val_loss: 1.4803\n",
      "------------------------------\n",
      "Train Loss EPOCH 16: 1.4669\n",
      "Valid Loss EPOCH 16: 1.4803\n",
      "Train Accuracy EPOCH 16: 0.4682\n",
      "Valid Accuracy EPOCH 16: 0.4666\n",
      "------------------------------\n"
     ]
    },
    {
     "name": "stderr",
     "output_type": "stream",
     "text": [
      "100%|██████████| 88/88 [00:24<00:00,  3.66it/s]\n",
      "100%|██████████| 10/10 [00:01<00:00,  8.40it/s]\n",
      " 34%|███▍      | 17/50 [07:13<14:00, 25.46s/it]"
     ]
    },
    {
     "name": "stdout",
     "output_type": "stream",
     "text": [
      "Epoch 17: New best model saved with val_loss: 1.4537\n",
      "------------------------------\n",
      "Train Loss EPOCH 17: 1.4437\n",
      "Valid Loss EPOCH 17: 1.4537\n",
      "Train Accuracy EPOCH 17: 0.4741\n",
      "Valid Accuracy EPOCH 17: 0.4766\n",
      "------------------------------\n"
     ]
    },
    {
     "name": "stderr",
     "output_type": "stream",
     "text": [
      "100%|██████████| 88/88 [00:24<00:00,  3.64it/s]\n",
      "100%|██████████| 10/10 [00:01<00:00,  7.68it/s]\n",
      " 36%|███▌      | 18/50 [07:38<13:36, 25.50s/it]"
     ]
    },
    {
     "name": "stdout",
     "output_type": "stream",
     "text": [
      "Epoch 18: New best model saved with val_loss: 1.4231\n",
      "------------------------------\n",
      "Train Loss EPOCH 18: 1.4325\n",
      "Valid Loss EPOCH 18: 1.4231\n",
      "Train Accuracy EPOCH 18: 0.4788\n",
      "Valid Accuracy EPOCH 18: 0.4880\n",
      "------------------------------\n"
     ]
    },
    {
     "name": "stderr",
     "output_type": "stream",
     "text": [
      "100%|██████████| 88/88 [00:24<00:00,  3.64it/s]\n",
      "100%|██████████| 10/10 [00:01<00:00,  8.24it/s]\n",
      " 38%|███▊      | 19/50 [08:04<13:10, 25.49s/it]"
     ]
    },
    {
     "name": "stdout",
     "output_type": "stream",
     "text": [
      "------------------------------\n",
      "Train Loss EPOCH 19: 1.4293\n",
      "Valid Loss EPOCH 19: 1.4409\n",
      "Train Accuracy EPOCH 19: 0.4826\n",
      "Valid Accuracy EPOCH 19: 0.4776\n",
      "------------------------------\n"
     ]
    },
    {
     "name": "stderr",
     "output_type": "stream",
     "text": [
      "100%|██████████| 88/88 [00:24<00:00,  3.62it/s]\n",
      "100%|██████████| 10/10 [00:01<00:00,  8.54it/s]\n",
      " 40%|████      | 20/50 [08:29<12:45, 25.52s/it]"
     ]
    },
    {
     "name": "stdout",
     "output_type": "stream",
     "text": [
      "------------------------------\n",
      "Train Loss EPOCH 20: 1.4184\n",
      "Valid Loss EPOCH 20: 1.4319\n",
      "Train Accuracy EPOCH 20: 0.4836\n",
      "Valid Accuracy EPOCH 20: 0.4786\n",
      "------------------------------\n"
     ]
    },
    {
     "name": "stderr",
     "output_type": "stream",
     "text": [
      "100%|██████████| 88/88 [00:24<00:00,  3.65it/s]\n",
      "100%|██████████| 10/10 [00:01<00:00,  8.24it/s]\n",
      " 42%|████▏     | 21/50 [08:55<12:19, 25.51s/it]"
     ]
    },
    {
     "name": "stdout",
     "output_type": "stream",
     "text": [
      "Epoch 21: New best model saved with val_loss: 1.3814\n",
      "------------------------------\n",
      "Train Loss EPOCH 21: 1.3854\n",
      "Valid Loss EPOCH 21: 1.3814\n",
      "Train Accuracy EPOCH 21: 0.5001\n",
      "Valid Accuracy EPOCH 21: 0.5008\n",
      "------------------------------\n"
     ]
    },
    {
     "name": "stderr",
     "output_type": "stream",
     "text": [
      "100%|██████████| 88/88 [00:24<00:00,  3.64it/s]\n",
      "100%|██████████| 10/10 [00:01<00:00,  8.71it/s]\n",
      " 44%|████▍     | 22/50 [09:20<11:53, 25.49s/it]"
     ]
    },
    {
     "name": "stdout",
     "output_type": "stream",
     "text": [
      "Epoch 22: New best model saved with val_loss: 1.3671\n",
      "------------------------------\n",
      "Train Loss EPOCH 22: 1.3703\n",
      "Valid Loss EPOCH 22: 1.3671\n",
      "Train Accuracy EPOCH 22: 0.5042\n",
      "Valid Accuracy EPOCH 22: 0.5004\n",
      "------------------------------\n"
     ]
    },
    {
     "name": "stderr",
     "output_type": "stream",
     "text": [
      "100%|██████████| 88/88 [00:24<00:00,  3.63it/s]\n",
      "100%|██████████| 10/10 [00:01<00:00,  8.41it/s]\n",
      " 46%|████▌     | 23/50 [09:46<11:28, 25.50s/it]"
     ]
    },
    {
     "name": "stdout",
     "output_type": "stream",
     "text": [
      "Epoch 23: New best model saved with val_loss: 1.3663\n",
      "------------------------------\n",
      "Train Loss EPOCH 23: 1.3585\n",
      "Valid Loss EPOCH 23: 1.3663\n",
      "Train Accuracy EPOCH 23: 0.5066\n",
      "Valid Accuracy EPOCH 23: 0.5100\n",
      "------------------------------\n"
     ]
    },
    {
     "name": "stderr",
     "output_type": "stream",
     "text": [
      "100%|██████████| 88/88 [00:24<00:00,  3.58it/s]\n",
      "100%|██████████| 10/10 [00:01<00:00,  7.80it/s]\n",
      " 48%|████▊     | 24/50 [10:12<11:06, 25.64s/it]"
     ]
    },
    {
     "name": "stdout",
     "output_type": "stream",
     "text": [
      "------------------------------\n",
      "Train Loss EPOCH 24: 1.3556\n",
      "Valid Loss EPOCH 24: 1.3776\n",
      "Train Accuracy EPOCH 24: 0.5060\n",
      "Valid Accuracy EPOCH 24: 0.5072\n",
      "------------------------------\n"
     ]
    },
    {
     "name": "stderr",
     "output_type": "stream",
     "text": [
      "100%|██████████| 88/88 [00:25<00:00,  3.45it/s]\n",
      "100%|██████████| 10/10 [00:01<00:00,  8.31it/s]\n",
      " 50%|█████     | 25/50 [10:39<10:50, 26.01s/it]"
     ]
    },
    {
     "name": "stdout",
     "output_type": "stream",
     "text": [
      "Epoch 25: New best model saved with val_loss: 1.3656\n",
      "------------------------------\n",
      "Train Loss EPOCH 25: 1.3352\n",
      "Valid Loss EPOCH 25: 1.3656\n",
      "Train Accuracy EPOCH 25: 0.5167\n",
      "Valid Accuracy EPOCH 25: 0.5078\n",
      "------------------------------\n"
     ]
    },
    {
     "name": "stderr",
     "output_type": "stream",
     "text": [
      "100%|██████████| 88/88 [00:25<00:00,  3.52it/s]\n",
      "100%|██████████| 10/10 [00:01<00:00,  8.76it/s]\n",
      " 52%|█████▏    | 26/50 [11:05<10:26, 26.09s/it]"
     ]
    },
    {
     "name": "stdout",
     "output_type": "stream",
     "text": [
      "Epoch 26: New best model saved with val_loss: 1.3377\n",
      "------------------------------\n",
      "Train Loss EPOCH 26: 1.3282\n",
      "Valid Loss EPOCH 26: 1.3377\n",
      "Train Accuracy EPOCH 26: 0.5204\n",
      "Valid Accuracy EPOCH 26: 0.5180\n",
      "------------------------------\n"
     ]
    },
    {
     "name": "stderr",
     "output_type": "stream",
     "text": [
      "100%|██████████| 88/88 [00:23<00:00,  3.69it/s]\n",
      "100%|██████████| 10/10 [00:01<00:00,  8.81it/s]\n",
      " 54%|█████▍    | 27/50 [11:30<09:53, 25.79s/it]"
     ]
    },
    {
     "name": "stdout",
     "output_type": "stream",
     "text": [
      "------------------------------\n",
      "Train Loss EPOCH 27: 1.3121\n",
      "Valid Loss EPOCH 27: 1.3456\n",
      "Train Accuracy EPOCH 27: 0.5261\n",
      "Valid Accuracy EPOCH 27: 0.5116\n",
      "------------------------------\n"
     ]
    },
    {
     "name": "stderr",
     "output_type": "stream",
     "text": [
      "100%|██████████| 88/88 [00:25<00:00,  3.51it/s]\n",
      "100%|██████████| 10/10 [00:01<00:00,  7.30it/s]\n",
      " 56%|█████▌    | 28/50 [11:57<09:32, 26.03s/it]"
     ]
    },
    {
     "name": "stdout",
     "output_type": "stream",
     "text": [
      "Epoch 28: New best model saved with val_loss: 1.3250\n",
      "------------------------------\n",
      "Train Loss EPOCH 28: 1.2966\n",
      "Valid Loss EPOCH 28: 1.3250\n",
      "Train Accuracy EPOCH 28: 0.5327\n",
      "Valid Accuracy EPOCH 28: 0.5244\n",
      "------------------------------\n"
     ]
    },
    {
     "name": "stderr",
     "output_type": "stream",
     "text": [
      "100%|██████████| 88/88 [00:24<00:00,  3.58it/s]\n",
      "100%|██████████| 10/10 [00:01<00:00,  8.85it/s]\n",
      " 58%|█████▊    | 29/50 [12:22<09:05, 25.96s/it]"
     ]
    },
    {
     "name": "stdout",
     "output_type": "stream",
     "text": [
      "------------------------------\n",
      "Train Loss EPOCH 29: 1.2907\n",
      "Valid Loss EPOCH 29: 1.3515\n",
      "Train Accuracy EPOCH 29: 0.5364\n",
      "Valid Accuracy EPOCH 29: 0.5092\n",
      "------------------------------\n"
     ]
    },
    {
     "name": "stderr",
     "output_type": "stream",
     "text": [
      "100%|██████████| 88/88 [00:24<00:00,  3.58it/s]\n",
      "100%|██████████| 10/10 [00:01<00:00,  8.09it/s]\n",
      " 60%|██████    | 30/50 [12:48<08:39, 25.95s/it]"
     ]
    },
    {
     "name": "stdout",
     "output_type": "stream",
     "text": [
      "Epoch 30: New best model saved with val_loss: 1.3190\n",
      "------------------------------\n",
      "Train Loss EPOCH 30: 1.2809\n",
      "Valid Loss EPOCH 30: 1.3190\n",
      "Train Accuracy EPOCH 30: 0.5374\n",
      "Valid Accuracy EPOCH 30: 0.5266\n",
      "------------------------------\n"
     ]
    },
    {
     "name": "stderr",
     "output_type": "stream",
     "text": [
      "100%|██████████| 88/88 [00:25<00:00,  3.48it/s]\n",
      "100%|██████████| 10/10 [00:01<00:00,  8.90it/s]\n",
      " 62%|██████▏   | 31/50 [13:15<08:16, 26.13s/it]"
     ]
    },
    {
     "name": "stdout",
     "output_type": "stream",
     "text": [
      "Epoch 31: New best model saved with val_loss: 1.3153\n",
      "------------------------------\n",
      "Train Loss EPOCH 31: 1.2675\n",
      "Valid Loss EPOCH 31: 1.3153\n",
      "Train Accuracy EPOCH 31: 0.5421\n",
      "Valid Accuracy EPOCH 31: 0.5318\n",
      "------------------------------\n"
     ]
    },
    {
     "name": "stderr",
     "output_type": "stream",
     "text": [
      "100%|██████████| 88/88 [00:24<00:00,  3.57it/s]\n",
      "100%|██████████| 10/10 [00:01<00:00,  8.34it/s]\n",
      " 64%|██████▍   | 32/50 [13:41<07:49, 26.07s/it]"
     ]
    },
    {
     "name": "stdout",
     "output_type": "stream",
     "text": [
      "Epoch 32: New best model saved with val_loss: 1.3086\n",
      "------------------------------\n",
      "Train Loss EPOCH 32: 1.2599\n",
      "Valid Loss EPOCH 32: 1.3086\n",
      "Train Accuracy EPOCH 32: 0.5429\n",
      "Valid Accuracy EPOCH 32: 0.5328\n",
      "------------------------------\n"
     ]
    },
    {
     "name": "stderr",
     "output_type": "stream",
     "text": [
      "100%|██████████| 88/88 [00:24<00:00,  3.60it/s]\n",
      "100%|██████████| 10/10 [00:01<00:00,  8.87it/s]\n",
      " 66%|██████▌   | 33/50 [14:07<07:21, 25.96s/it]"
     ]
    },
    {
     "name": "stdout",
     "output_type": "stream",
     "text": [
      "------------------------------\n",
      "Train Loss EPOCH 33: 1.2351\n",
      "Valid Loss EPOCH 33: 1.3347\n",
      "Train Accuracy EPOCH 33: 0.5585\n",
      "Valid Accuracy EPOCH 33: 0.5216\n",
      "------------------------------\n"
     ]
    },
    {
     "name": "stderr",
     "output_type": "stream",
     "text": [
      "100%|██████████| 88/88 [00:24<00:00,  3.57it/s]\n",
      "100%|██████████| 10/10 [00:01<00:00,  8.20it/s]\n",
      " 68%|██████▊   | 34/50 [14:33<06:55, 25.97s/it]"
     ]
    },
    {
     "name": "stdout",
     "output_type": "stream",
     "text": [
      "------------------------------\n",
      "Train Loss EPOCH 34: 1.2316\n",
      "Valid Loss EPOCH 34: 1.3223\n",
      "Train Accuracy EPOCH 34: 0.5556\n",
      "Valid Accuracy EPOCH 34: 0.5350\n",
      "------------------------------\n"
     ]
    },
    {
     "name": "stderr",
     "output_type": "stream",
     "text": [
      "100%|██████████| 88/88 [00:24<00:00,  3.61it/s]\n",
      "100%|██████████| 10/10 [00:01<00:00,  8.59it/s]\n",
      " 70%|███████   | 35/50 [14:58<06:28, 25.88s/it]"
     ]
    },
    {
     "name": "stdout",
     "output_type": "stream",
     "text": [
      "Epoch 35: New best model saved with val_loss: 1.3077\n",
      "------------------------------\n",
      "Train Loss EPOCH 35: 1.2136\n",
      "Valid Loss EPOCH 35: 1.3077\n",
      "Train Accuracy EPOCH 35: 0.5610\n",
      "Valid Accuracy EPOCH 35: 0.5328\n",
      "------------------------------\n"
     ]
    },
    {
     "name": "stderr",
     "output_type": "stream",
     "text": [
      "100%|██████████| 88/88 [00:24<00:00,  3.56it/s]\n",
      "100%|██████████| 10/10 [00:01<00:00,  8.74it/s]\n",
      " 72%|███████▏  | 36/50 [15:24<06:02, 25.91s/it]"
     ]
    },
    {
     "name": "stdout",
     "output_type": "stream",
     "text": [
      "Epoch 36: New best model saved with val_loss: 1.2830\n",
      "------------------------------\n",
      "Train Loss EPOCH 36: 1.2076\n",
      "Valid Loss EPOCH 36: 1.2830\n",
      "Train Accuracy EPOCH 36: 0.5629\n",
      "Valid Accuracy EPOCH 36: 0.5508\n",
      "------------------------------\n"
     ]
    },
    {
     "name": "stderr",
     "output_type": "stream",
     "text": [
      "100%|██████████| 88/88 [00:24<00:00,  3.60it/s]\n",
      "100%|██████████| 10/10 [00:01<00:00,  8.39it/s]\n",
      " 74%|███████▍  | 37/50 [15:50<05:36, 25.86s/it]"
     ]
    },
    {
     "name": "stdout",
     "output_type": "stream",
     "text": [
      "------------------------------\n",
      "Train Loss EPOCH 37: 1.1997\n",
      "Valid Loss EPOCH 37: 1.2967\n",
      "Train Accuracy EPOCH 37: 0.5691\n",
      "Valid Accuracy EPOCH 37: 0.5384\n",
      "------------------------------\n"
     ]
    },
    {
     "name": "stderr",
     "output_type": "stream",
     "text": [
      "100%|██████████| 88/88 [00:24<00:00,  3.59it/s]\n",
      "100%|██████████| 10/10 [00:01<00:00,  8.31it/s]\n",
      " 76%|███████▌  | 38/50 [16:16<05:10, 25.86s/it]"
     ]
    },
    {
     "name": "stdout",
     "output_type": "stream",
     "text": [
      "Epoch 38: New best model saved with val_loss: 1.2735\n",
      "------------------------------\n",
      "Train Loss EPOCH 38: 1.1932\n",
      "Valid Loss EPOCH 38: 1.2735\n",
      "Train Accuracy EPOCH 38: 0.5689\n",
      "Valid Accuracy EPOCH 38: 0.5464\n",
      "------------------------------\n"
     ]
    },
    {
     "name": "stderr",
     "output_type": "stream",
     "text": [
      "100%|██████████| 88/88 [00:24<00:00,  3.61it/s]\n",
      "100%|██████████| 10/10 [00:01<00:00,  8.24it/s]\n",
      " 78%|███████▊  | 39/50 [16:42<04:43, 25.81s/it]"
     ]
    },
    {
     "name": "stdout",
     "output_type": "stream",
     "text": [
      "Epoch 39: New best model saved with val_loss: 1.2733\n",
      "------------------------------\n",
      "Train Loss EPOCH 39: 1.1764\n",
      "Valid Loss EPOCH 39: 1.2733\n",
      "Train Accuracy EPOCH 39: 0.5755\n",
      "Valid Accuracy EPOCH 39: 0.5462\n",
      "------------------------------\n"
     ]
    },
    {
     "name": "stderr",
     "output_type": "stream",
     "text": [
      "100%|██████████| 88/88 [00:24<00:00,  3.59it/s]\n",
      "100%|██████████| 10/10 [00:01<00:00,  8.19it/s]\n",
      " 80%|████████  | 40/50 [17:07<04:18, 25.82s/it]"
     ]
    },
    {
     "name": "stdout",
     "output_type": "stream",
     "text": [
      "Epoch 40: New best model saved with val_loss: 1.2717\n",
      "------------------------------\n",
      "Train Loss EPOCH 40: 1.1640\n",
      "Valid Loss EPOCH 40: 1.2717\n",
      "Train Accuracy EPOCH 40: 0.5838\n",
      "Valid Accuracy EPOCH 40: 0.5494\n",
      "------------------------------\n"
     ]
    },
    {
     "name": "stderr",
     "output_type": "stream",
     "text": [
      "100%|██████████| 88/88 [00:24<00:00,  3.57it/s]\n",
      "100%|██████████| 10/10 [00:01<00:00,  8.87it/s]\n",
      " 82%|████████▏ | 41/50 [17:33<03:52, 25.84s/it]"
     ]
    },
    {
     "name": "stdout",
     "output_type": "stream",
     "text": [
      "------------------------------\n",
      "Train Loss EPOCH 41: 1.1597\n",
      "Valid Loss EPOCH 41: 1.2774\n",
      "Train Accuracy EPOCH 41: 0.5833\n",
      "Valid Accuracy EPOCH 41: 0.5402\n",
      "------------------------------\n"
     ]
    },
    {
     "name": "stderr",
     "output_type": "stream",
     "text": [
      "100%|██████████| 88/88 [00:24<00:00,  3.56it/s]\n",
      "100%|██████████| 10/10 [00:01<00:00,  8.33it/s]\n",
      " 84%|████████▍ | 42/50 [17:59<03:27, 25.88s/it]"
     ]
    },
    {
     "name": "stdout",
     "output_type": "stream",
     "text": [
      "------------------------------\n",
      "Train Loss EPOCH 42: 1.1512\n",
      "Valid Loss EPOCH 42: 1.2781\n",
      "Train Accuracy EPOCH 42: 0.5831\n",
      "Valid Accuracy EPOCH 42: 0.5408\n",
      "------------------------------\n"
     ]
    },
    {
     "name": "stderr",
     "output_type": "stream",
     "text": [
      "100%|██████████| 88/88 [00:24<00:00,  3.60it/s]\n",
      "100%|██████████| 10/10 [00:01<00:00,  8.89it/s]\n",
      " 86%|████████▌ | 43/50 [18:25<03:00, 25.82s/it]"
     ]
    },
    {
     "name": "stdout",
     "output_type": "stream",
     "text": [
      "Epoch 43: New best model saved with val_loss: 1.2623\n",
      "------------------------------\n",
      "Train Loss EPOCH 43: 1.1372\n",
      "Valid Loss EPOCH 43: 1.2623\n",
      "Train Accuracy EPOCH 43: 0.5896\n",
      "Valid Accuracy EPOCH 43: 0.5514\n",
      "------------------------------\n"
     ]
    },
    {
     "name": "stderr",
     "output_type": "stream",
     "text": [
      "100%|██████████| 88/88 [00:24<00:00,  3.58it/s]\n",
      "100%|██████████| 10/10 [00:01<00:00,  8.41it/s]\n",
      " 88%|████████▊ | 44/50 [18:51<02:35, 25.84s/it]"
     ]
    },
    {
     "name": "stdout",
     "output_type": "stream",
     "text": [
      "------------------------------\n",
      "Train Loss EPOCH 44: 1.1268\n",
      "Valid Loss EPOCH 44: 1.2633\n",
      "Train Accuracy EPOCH 44: 0.5917\n",
      "Valid Accuracy EPOCH 44: 0.5496\n",
      "------------------------------\n"
     ]
    },
    {
     "name": "stderr",
     "output_type": "stream",
     "text": [
      "100%|██████████| 88/88 [00:24<00:00,  3.61it/s]\n",
      "100%|██████████| 10/10 [00:01<00:00,  8.69it/s]\n",
      " 90%|█████████ | 45/50 [19:16<02:08, 25.77s/it]"
     ]
    },
    {
     "name": "stdout",
     "output_type": "stream",
     "text": [
      "------------------------------\n",
      "Train Loss EPOCH 45: 1.1223\n",
      "Valid Loss EPOCH 45: 1.2667\n",
      "Train Accuracy EPOCH 45: 0.5956\n",
      "Valid Accuracy EPOCH 45: 0.5586\n",
      "------------------------------\n"
     ]
    },
    {
     "name": "stderr",
     "output_type": "stream",
     "text": [
      "100%|██████████| 88/88 [00:24<00:00,  3.58it/s]\n",
      "100%|██████████| 10/10 [00:01<00:00,  8.86it/s]\n",
      " 92%|█████████▏| 46/50 [19:42<01:43, 25.79s/it]"
     ]
    },
    {
     "name": "stdout",
     "output_type": "stream",
     "text": [
      "------------------------------\n",
      "Train Loss EPOCH 46: 1.0963\n",
      "Valid Loss EPOCH 46: 1.2647\n",
      "Train Accuracy EPOCH 46: 0.6035\n",
      "Valid Accuracy EPOCH 46: 0.5552\n",
      "------------------------------\n"
     ]
    },
    {
     "name": "stderr",
     "output_type": "stream",
     "text": [
      "100%|██████████| 88/88 [00:24<00:00,  3.62it/s]\n",
      "100%|██████████| 10/10 [00:01<00:00,  8.53it/s]\n",
      " 94%|█████████▍| 47/50 [20:08<01:17, 25.74s/it]"
     ]
    },
    {
     "name": "stdout",
     "output_type": "stream",
     "text": [
      "Epoch 47: New best model saved with val_loss: 1.2500\n",
      "------------------------------\n",
      "Train Loss EPOCH 47: 1.0986\n",
      "Valid Loss EPOCH 47: 1.2500\n",
      "Train Accuracy EPOCH 47: 0.6024\n",
      "Valid Accuracy EPOCH 47: 0.5610\n",
      "------------------------------\n"
     ]
    },
    {
     "name": "stderr",
     "output_type": "stream",
     "text": [
      "100%|██████████| 88/88 [00:24<00:00,  3.60it/s]\n",
      "100%|██████████| 10/10 [00:01<00:00,  8.28it/s]\n",
      " 96%|█████████▌| 48/50 [20:34<00:51, 25.75s/it]"
     ]
    },
    {
     "name": "stdout",
     "output_type": "stream",
     "text": [
      "------------------------------\n",
      "Train Loss EPOCH 48: 1.0862\n",
      "Valid Loss EPOCH 48: 1.2632\n",
      "Train Accuracy EPOCH 48: 0.6084\n",
      "Valid Accuracy EPOCH 48: 0.5582\n",
      "------------------------------\n"
     ]
    },
    {
     "name": "stderr",
     "output_type": "stream",
     "text": [
      "100%|██████████| 88/88 [00:24<00:00,  3.59it/s]\n",
      "100%|██████████| 10/10 [00:01<00:00,  8.04it/s]\n",
      " 98%|█████████▊| 49/50 [20:59<00:25, 25.78s/it]"
     ]
    },
    {
     "name": "stdout",
     "output_type": "stream",
     "text": [
      "------------------------------\n",
      "Train Loss EPOCH 49: 1.0685\n",
      "Valid Loss EPOCH 49: 1.2546\n",
      "Train Accuracy EPOCH 49: 0.6135\n",
      "Valid Accuracy EPOCH 49: 0.5612\n",
      "------------------------------\n"
     ]
    },
    {
     "name": "stderr",
     "output_type": "stream",
     "text": [
      "100%|██████████| 88/88 [00:24<00:00,  3.58it/s]\n",
      "100%|██████████| 10/10 [00:01<00:00,  8.92it/s]\n",
      "100%|██████████| 50/50 [21:25<00:00, 25.72s/it]\n"
     ]
    },
    {
     "name": "stdout",
     "output_type": "stream",
     "text": [
      "------------------------------\n",
      "Train Loss EPOCH 50: 1.0689\n",
      "Valid Loss EPOCH 50: 1.2625\n",
      "Train Accuracy EPOCH 50: 0.6145\n",
      "Valid Accuracy EPOCH 50: 0.5604\n",
      "------------------------------\n",
      "Completed all epochs without early stopping.\n",
      "Training Time: 1285.80s\n"
     ]
    },
    {
     "data": {
      "image/png": "[encoded data removed]",
      "text/plain": [
       "<Figure size 1000x1000 with 2 Axes>"
      ]
     },
     "metadata": {},
     "output_type": "display_data"
    },
    {
     "name": "stderr",
     "output_type": "stream",
     "text": [
      "100%|██████████| 20/20 [00:02<00:00,  9.91it/s]"
     ]
    },
    {
     "name": "stdout",
     "output_type": "stream",
     "text": [
      "Test Loss: 1.3470\n",
      "Test Accuracy: 0.5261\n"
     ]
    },
    {
     "name": "stderr",
     "output_type": "stream",
     "text": [
      "\n"
     ]
    }
   ],
   "source": [
    "no_postional_embedding = PatchEmbeddingNoPositionalEmbedding(EMBEDING_DIMENTION, PATCH_SIZE, NUM_PATCHES, DROPOUT, IN_CHANNELS)\n",
    "model_no_embedding = training_loop(no_postional_embedding, 'best_model_no_embedding.pt')\n",
    "test_model(model_no_embedding, 'best_model_no_embedding.pt')"
   ]
  },
  {
   "cell_type": "code",
   "execution_count": 16,
   "metadata": {},
   "outputs": [
    {
     "name": "stdout",
     "output_type": "stream",
     "text": [
      "Order is  2\n"
     ]
    },
    {
     "name": "stderr",
     "output_type": "stream",
     "text": [
      "100%|██████████| 88/88 [00:23<00:00,  3.73it/s]\n",
      "100%|██████████| 10/10 [00:01<00:00,  8.60it/s]\n",
      "  2%|▏         | 1/50 [00:24<20:16, 24.83s/it]"
     ]
    },
    {
     "name": "stdout",
     "output_type": "stream",
     "text": [
      "Epoch 1: New best model saved with val_loss: 1.9737\n",
      "------------------------------\n",
      "Train Loss EPOCH 1: 2.1039\n",
      "Valid Loss EPOCH 1: 1.9737\n",
      "Train Accuracy EPOCH 1: 0.2196\n",
      "Valid Accuracy EPOCH 1: 0.2672\n",
      "------------------------------\n"
     ]
    },
    {
     "name": "stderr",
     "output_type": "stream",
     "text": [
      "100%|██████████| 88/88 [00:23<00:00,  3.80it/s]\n",
      "100%|██████████| 10/10 [00:01<00:00,  8.69it/s]\n",
      "  4%|▍         | 2/50 [00:49<19:40, 24.59s/it]"
     ]
    },
    {
     "name": "stdout",
     "output_type": "stream",
     "text": [
      "Epoch 2: New best model saved with val_loss: 1.8757\n",
      "------------------------------\n",
      "Train Loss EPOCH 2: 1.8964\n",
      "Valid Loss EPOCH 2: 1.8757\n",
      "Train Accuracy EPOCH 2: 0.2926\n",
      "Valid Accuracy EPOCH 2: 0.3164\n",
      "------------------------------\n"
     ]
    },
    {
     "name": "stderr",
     "output_type": "stream",
     "text": [
      "100%|██████████| 88/88 [00:23<00:00,  3.82it/s]\n",
      "100%|██████████| 10/10 [00:01<00:00,  8.75it/s]\n",
      "  6%|▌         | 3/50 [01:13<19:09, 24.46s/it]"
     ]
    },
    {
     "name": "stdout",
     "output_type": "stream",
     "text": [
      "Epoch 3: New best model saved with val_loss: 1.7420\n",
      "------------------------------\n",
      "Train Loss EPOCH 3: 1.7769\n",
      "Valid Loss EPOCH 3: 1.7420\n",
      "Train Accuracy EPOCH 3: 0.3448\n",
      "Valid Accuracy EPOCH 3: 0.3632\n",
      "------------------------------\n"
     ]
    },
    {
     "name": "stderr",
     "output_type": "stream",
     "text": [
      "100%|██████████| 88/88 [00:23<00:00,  3.82it/s]\n",
      "100%|██████████| 10/10 [00:01<00:00,  8.79it/s]\n",
      "  8%|▊         | 4/50 [01:37<18:42, 24.40s/it]"
     ]
    },
    {
     "name": "stdout",
     "output_type": "stream",
     "text": [
      "Epoch 4: New best model saved with val_loss: 1.6756\n",
      "------------------------------\n",
      "Train Loss EPOCH 4: 1.7136\n",
      "Valid Loss EPOCH 4: 1.6756\n",
      "Train Accuracy EPOCH 4: 0.3705\n",
      "Valid Accuracy EPOCH 4: 0.3866\n",
      "------------------------------\n"
     ]
    },
    {
     "name": "stderr",
     "output_type": "stream",
     "text": [
      "100%|██████████| 88/88 [00:23<00:00,  3.81it/s]\n",
      "100%|██████████| 10/10 [00:01<00:00,  8.72it/s]\n",
      " 10%|█         | 5/50 [02:02<18:16, 24.38s/it]"
     ]
    },
    {
     "name": "stdout",
     "output_type": "stream",
     "text": [
      "Epoch 5: New best model saved with val_loss: 1.6196\n",
      "------------------------------\n",
      "Train Loss EPOCH 5: 1.6339\n",
      "Valid Loss EPOCH 5: 1.6196\n",
      "Train Accuracy EPOCH 5: 0.4037\n",
      "Valid Accuracy EPOCH 5: 0.4080\n",
      "------------------------------\n"
     ]
    },
    {
     "name": "stderr",
     "output_type": "stream",
     "text": [
      "100%|██████████| 88/88 [00:23<00:00,  3.81it/s]\n",
      "100%|██████████| 10/10 [00:01<00:00,  8.85it/s]\n",
      " 12%|█▏        | 6/50 [02:26<17:52, 24.38s/it]"
     ]
    },
    {
     "name": "stdout",
     "output_type": "stream",
     "text": [
      "Epoch 6: New best model saved with val_loss: 1.5717\n",
      "------------------------------\n",
      "Train Loss EPOCH 6: 1.5881\n",
      "Valid Loss EPOCH 6: 1.5717\n",
      "Train Accuracy EPOCH 6: 0.4218\n",
      "Valid Accuracy EPOCH 6: 0.4276\n",
      "------------------------------\n"
     ]
    },
    {
     "name": "stderr",
     "output_type": "stream",
     "text": [
      "100%|██████████| 88/88 [00:23<00:00,  3.81it/s]\n",
      "100%|██████████| 10/10 [00:01<00:00,  8.89it/s]\n",
      " 14%|█▍        | 7/50 [02:50<17:28, 24.38s/it]"
     ]
    },
    {
     "name": "stdout",
     "output_type": "stream",
     "text": [
      "Epoch 7: New best model saved with val_loss: 1.5519\n",
      "------------------------------\n",
      "Train Loss EPOCH 7: 1.5451\n",
      "Valid Loss EPOCH 7: 1.5519\n",
      "Train Accuracy EPOCH 7: 0.4376\n",
      "Valid Accuracy EPOCH 7: 0.4326\n",
      "------------------------------\n"
     ]
    },
    {
     "name": "stderr",
     "output_type": "stream",
     "text": [
      "100%|██████████| 88/88 [00:22<00:00,  3.84it/s]\n",
      "100%|██████████| 10/10 [00:01<00:00,  8.71it/s]\n",
      " 16%|█▌        | 8/50 [03:15<17:01, 24.32s/it]"
     ]
    },
    {
     "name": "stdout",
     "output_type": "stream",
     "text": [
      "Epoch 8: New best model saved with val_loss: 1.4963\n",
      "------------------------------\n",
      "Train Loss EPOCH 8: 1.5123\n",
      "Valid Loss EPOCH 8: 1.4963\n",
      "Train Accuracy EPOCH 8: 0.4516\n",
      "Valid Accuracy EPOCH 8: 0.4602\n",
      "------------------------------\n"
     ]
    },
    {
     "name": "stderr",
     "output_type": "stream",
     "text": [
      "100%|██████████| 88/88 [00:22<00:00,  3.83it/s]\n",
      "100%|██████████| 10/10 [00:01<00:00,  8.87it/s]\n",
      " 18%|█▊        | 9/50 [03:39<16:35, 24.28s/it]"
     ]
    },
    {
     "name": "stdout",
     "output_type": "stream",
     "text": [
      "Epoch 9: New best model saved with val_loss: 1.4628\n",
      "------------------------------\n",
      "Train Loss EPOCH 9: 1.4819\n",
      "Valid Loss EPOCH 9: 1.4628\n",
      "Train Accuracy EPOCH 9: 0.4626\n",
      "Valid Accuracy EPOCH 9: 0.4694\n",
      "------------------------------\n"
     ]
    },
    {
     "name": "stderr",
     "output_type": "stream",
     "text": [
      "100%|██████████| 88/88 [00:22<00:00,  3.83it/s]\n",
      "100%|██████████| 10/10 [00:01<00:00,  8.86it/s]\n",
      " 20%|██        | 10/50 [04:03<16:10, 24.26s/it]"
     ]
    },
    {
     "name": "stdout",
     "output_type": "stream",
     "text": [
      "Epoch 10: New best model saved with val_loss: 1.4378\n",
      "------------------------------\n",
      "Train Loss EPOCH 10: 1.4555\n",
      "Valid Loss EPOCH 10: 1.4378\n",
      "Train Accuracy EPOCH 10: 0.4711\n",
      "Valid Accuracy EPOCH 10: 0.4768\n",
      "------------------------------\n"
     ]
    },
    {
     "name": "stderr",
     "output_type": "stream",
     "text": [
      "100%|██████████| 88/88 [00:23<00:00,  3.82it/s]\n",
      "100%|██████████| 10/10 [00:01<00:00,  8.03it/s]\n",
      " 22%|██▏       | 11/50 [04:27<15:47, 24.30s/it]"
     ]
    },
    {
     "name": "stdout",
     "output_type": "stream",
     "text": [
      "Epoch 11: New best model saved with val_loss: 1.4323\n",
      "------------------------------\n",
      "Train Loss EPOCH 11: 1.4331\n",
      "Valid Loss EPOCH 11: 1.4323\n",
      "Train Accuracy EPOCH 11: 0.4800\n",
      "Valid Accuracy EPOCH 11: 0.4798\n",
      "------------------------------\n"
     ]
    },
    {
     "name": "stderr",
     "output_type": "stream",
     "text": [
      "100%|██████████| 88/88 [00:22<00:00,  3.86it/s]\n",
      "100%|██████████| 10/10 [00:01<00:00,  8.73it/s]\n",
      " 24%|██▍       | 12/50 [04:52<15:20, 24.24s/it]"
     ]
    },
    {
     "name": "stdout",
     "output_type": "stream",
     "text": [
      "Epoch 12: New best model saved with val_loss: 1.3858\n",
      "------------------------------\n",
      "Train Loss EPOCH 12: 1.4084\n",
      "Valid Loss EPOCH 12: 1.3858\n",
      "Train Accuracy EPOCH 12: 0.4902\n",
      "Valid Accuracy EPOCH 12: 0.5014\n",
      "------------------------------\n"
     ]
    },
    {
     "name": "stderr",
     "output_type": "stream",
     "text": [
      "100%|██████████| 88/88 [00:23<00:00,  3.81it/s]\n",
      "100%|██████████| 10/10 [00:01<00:00,  8.63it/s]\n",
      " 26%|██▌       | 13/50 [05:16<14:58, 24.27s/it]"
     ]
    },
    {
     "name": "stdout",
     "output_type": "stream",
     "text": [
      "Epoch 13: New best model saved with val_loss: 1.3803\n",
      "------------------------------\n",
      "Train Loss EPOCH 13: 1.3938\n",
      "Valid Loss EPOCH 13: 1.3803\n",
      "Train Accuracy EPOCH 13: 0.4954\n",
      "Valid Accuracy EPOCH 13: 0.5042\n",
      "------------------------------\n"
     ]
    },
    {
     "name": "stderr",
     "output_type": "stream",
     "text": [
      "100%|██████████| 88/88 [00:23<00:00,  3.82it/s]\n",
      "100%|██████████| 10/10 [00:01<00:00,  8.98it/s]\n",
      " 28%|██▊       | 14/50 [05:40<14:33, 24.26s/it]"
     ]
    },
    {
     "name": "stdout",
     "output_type": "stream",
     "text": [
      "------------------------------\n",
      "Train Loss EPOCH 14: 1.3699\n",
      "Valid Loss EPOCH 14: 1.3932\n",
      "Train Accuracy EPOCH 14: 0.5032\n",
      "Valid Accuracy EPOCH 14: 0.4872\n",
      "------------------------------\n"
     ]
    },
    {
     "name": "stderr",
     "output_type": "stream",
     "text": [
      "100%|██████████| 88/88 [00:23<00:00,  3.78it/s]\n",
      "100%|██████████| 10/10 [00:01<00:00,  8.72it/s]\n",
      " 30%|███       | 15/50 [06:05<14:11, 24.34s/it]"
     ]
    },
    {
     "name": "stdout",
     "output_type": "stream",
     "text": [
      "Epoch 15: New best model saved with val_loss: 1.3528\n",
      "------------------------------\n",
      "Train Loss EPOCH 15: 1.3456\n",
      "Valid Loss EPOCH 15: 1.3528\n",
      "Train Accuracy EPOCH 15: 0.5118\n",
      "Valid Accuracy EPOCH 15: 0.5112\n",
      "------------------------------\n"
     ]
    },
    {
     "name": "stderr",
     "output_type": "stream",
     "text": [
      "100%|██████████| 88/88 [00:23<00:00,  3.72it/s]\n",
      "100%|██████████| 10/10 [00:01<00:00,  8.58it/s]\n",
      " 32%|███▏      | 16/50 [06:30<13:53, 24.52s/it]"
     ]
    },
    {
     "name": "stdout",
     "output_type": "stream",
     "text": [
      "Epoch 16: New best model saved with val_loss: 1.3196\n",
      "------------------------------\n",
      "Train Loss EPOCH 16: 1.3274\n",
      "Valid Loss EPOCH 16: 1.3196\n",
      "Train Accuracy EPOCH 16: 0.5187\n",
      "Valid Accuracy EPOCH 16: 0.5270\n",
      "------------------------------\n"
     ]
    },
    {
     "name": "stderr",
     "output_type": "stream",
     "text": [
      "100%|██████████| 88/88 [00:22<00:00,  3.86it/s]\n",
      "100%|██████████| 10/10 [00:01<00:00,  9.19it/s]\n",
      " 34%|███▍      | 17/50 [06:54<13:23, 24.35s/it]"
     ]
    },
    {
     "name": "stdout",
     "output_type": "stream",
     "text": [
      "------------------------------\n",
      "Train Loss EPOCH 17: 1.3078\n",
      "Valid Loss EPOCH 17: 1.3506\n",
      "Train Accuracy EPOCH 17: 0.5281\n",
      "Valid Accuracy EPOCH 17: 0.5128\n",
      "------------------------------\n"
     ]
    },
    {
     "name": "stderr",
     "output_type": "stream",
     "text": [
      "100%|██████████| 88/88 [00:22<00:00,  3.90it/s]\n",
      "100%|██████████| 10/10 [00:01<00:00,  9.19it/s]\n",
      " 36%|███▌      | 18/50 [07:17<12:53, 24.17s/it]"
     ]
    },
    {
     "name": "stdout",
     "output_type": "stream",
     "text": [
      "------------------------------\n",
      "Train Loss EPOCH 18: 1.2892\n",
      "Valid Loss EPOCH 18: 1.3366\n",
      "Train Accuracy EPOCH 18: 0.5321\n",
      "Valid Accuracy EPOCH 18: 0.5268\n",
      "------------------------------\n"
     ]
    },
    {
     "name": "stderr",
     "output_type": "stream",
     "text": [
      "100%|██████████| 88/88 [00:22<00:00,  3.90it/s]\n",
      "100%|██████████| 10/10 [00:01<00:00,  8.70it/s]\n",
      " 38%|███▊      | 19/50 [07:41<12:26, 24.07s/it]"
     ]
    },
    {
     "name": "stdout",
     "output_type": "stream",
     "text": [
      "Epoch 19: New best model saved with val_loss: 1.2980\n",
      "------------------------------\n",
      "Train Loss EPOCH 19: 1.2756\n",
      "Valid Loss EPOCH 19: 1.2980\n",
      "Train Accuracy EPOCH 19: 0.5365\n",
      "Valid Accuracy EPOCH 19: 0.5250\n",
      "------------------------------\n"
     ]
    },
    {
     "name": "stderr",
     "output_type": "stream",
     "text": [
      "100%|██████████| 88/88 [00:22<00:00,  3.90it/s]\n",
      "100%|██████████| 10/10 [00:01<00:00,  8.98it/s]\n",
      " 40%|████      | 20/50 [08:05<11:59, 23.99s/it]"
     ]
    },
    {
     "name": "stdout",
     "output_type": "stream",
     "text": [
      "Epoch 20: New best model saved with val_loss: 1.2624\n",
      "------------------------------\n",
      "Train Loss EPOCH 20: 1.2542\n",
      "Valid Loss EPOCH 20: 1.2624\n",
      "Train Accuracy EPOCH 20: 0.5465\n",
      "Valid Accuracy EPOCH 20: 0.5460\n",
      "------------------------------\n"
     ]
    },
    {
     "name": "stderr",
     "output_type": "stream",
     "text": [
      "100%|██████████| 88/88 [00:23<00:00,  3.80it/s]\n",
      "100%|██████████| 10/10 [00:01<00:00,  8.08it/s]\n",
      " 42%|████▏     | 21/50 [08:29<11:40, 24.14s/it]"
     ]
    },
    {
     "name": "stdout",
     "output_type": "stream",
     "text": [
      "------------------------------\n",
      "Train Loss EPOCH 21: 1.2378\n",
      "Valid Loss EPOCH 21: 1.3034\n",
      "Train Accuracy EPOCH 21: 0.5536\n",
      "Valid Accuracy EPOCH 21: 0.5334\n",
      "------------------------------\n"
     ]
    },
    {
     "name": "stderr",
     "output_type": "stream",
     "text": [
      "100%|██████████| 88/88 [00:23<00:00,  3.78it/s]\n",
      "100%|██████████| 10/10 [00:01<00:00,  8.88it/s]\n",
      " 44%|████▍     | 22/50 [08:54<11:19, 24.25s/it]"
     ]
    },
    {
     "name": "stdout",
     "output_type": "stream",
     "text": [
      "------------------------------\n",
      "Train Loss EPOCH 22: 1.2277\n",
      "Valid Loss EPOCH 22: 1.2646\n",
      "Train Accuracy EPOCH 22: 0.5574\n",
      "Valid Accuracy EPOCH 22: 0.5440\n",
      "------------------------------\n"
     ]
    },
    {
     "name": "stderr",
     "output_type": "stream",
     "text": [
      "100%|██████████| 88/88 [00:23<00:00,  3.73it/s]\n",
      "100%|██████████| 10/10 [00:01<00:00,  8.02it/s]\n",
      " 46%|████▌     | 23/50 [09:19<11:00, 24.46s/it]"
     ]
    },
    {
     "name": "stdout",
     "output_type": "stream",
     "text": [
      "------------------------------\n",
      "Train Loss EPOCH 23: 1.2073\n",
      "Valid Loss EPOCH 23: 1.2650\n",
      "Train Accuracy EPOCH 23: 0.5634\n",
      "Valid Accuracy EPOCH 23: 0.5500\n",
      "------------------------------\n"
     ]
    },
    {
     "name": "stderr",
     "output_type": "stream",
     "text": [
      "100%|██████████| 88/88 [00:23<00:00,  3.70it/s]\n",
      "100%|██████████| 10/10 [00:01<00:00,  8.87it/s]\n",
      " 48%|████▊     | 24/50 [09:44<10:40, 24.64s/it]"
     ]
    },
    {
     "name": "stdout",
     "output_type": "stream",
     "text": [
      "Epoch 24: New best model saved with val_loss: 1.2241\n",
      "------------------------------\n",
      "Train Loss EPOCH 24: 1.1996\n",
      "Valid Loss EPOCH 24: 1.2241\n",
      "Train Accuracy EPOCH 24: 0.5664\n",
      "Valid Accuracy EPOCH 24: 0.5630\n",
      "------------------------------\n"
     ]
    },
    {
     "name": "stderr",
     "output_type": "stream",
     "text": [
      "100%|██████████| 88/88 [00:23<00:00,  3.68it/s]\n",
      "100%|██████████| 10/10 [00:01<00:00,  8.72it/s]\n",
      " 50%|█████     | 25/50 [10:09<10:19, 24.79s/it]"
     ]
    },
    {
     "name": "stdout",
     "output_type": "stream",
     "text": [
      "------------------------------\n",
      "Train Loss EPOCH 25: 1.1857\n",
      "Valid Loss EPOCH 25: 1.2403\n",
      "Train Accuracy EPOCH 25: 0.5716\n",
      "Valid Accuracy EPOCH 25: 0.5564\n",
      "------------------------------\n"
     ]
    },
    {
     "name": "stderr",
     "output_type": "stream",
     "text": [
      "100%|██████████| 88/88 [00:22<00:00,  3.83it/s]\n",
      "100%|██████████| 10/10 [00:01<00:00,  8.97it/s]\n",
      " 52%|█████▏    | 26/50 [10:33<09:50, 24.62s/it]"
     ]
    },
    {
     "name": "stdout",
     "output_type": "stream",
     "text": [
      "Epoch 26: New best model saved with val_loss: 1.2174\n",
      "------------------------------\n",
      "Train Loss EPOCH 26: 1.1754\n",
      "Valid Loss EPOCH 26: 1.2174\n",
      "Train Accuracy EPOCH 26: 0.5774\n",
      "Valid Accuracy EPOCH 26: 0.5666\n",
      "------------------------------\n"
     ]
    },
    {
     "name": "stderr",
     "output_type": "stream",
     "text": [
      "100%|██████████| 88/88 [00:22<00:00,  3.84it/s]\n",
      "100%|██████████| 10/10 [00:01<00:00,  8.53it/s]\n",
      " 54%|█████▍    | 27/50 [10:57<09:23, 24.48s/it]"
     ]
    },
    {
     "name": "stdout",
     "output_type": "stream",
     "text": [
      "------------------------------\n",
      "Train Loss EPOCH 27: 1.1529\n",
      "Valid Loss EPOCH 27: 1.2248\n",
      "Train Accuracy EPOCH 27: 0.5837\n",
      "Valid Accuracy EPOCH 27: 0.5612\n",
      "------------------------------\n"
     ]
    },
    {
     "name": "stderr",
     "output_type": "stream",
     "text": [
      "100%|██████████| 88/88 [00:22<00:00,  3.86it/s]\n",
      "100%|██████████| 10/10 [00:01<00:00,  8.90it/s]\n",
      " 56%|█████▌    | 28/50 [11:21<08:55, 24.34s/it]"
     ]
    },
    {
     "name": "stdout",
     "output_type": "stream",
     "text": [
      "------------------------------\n",
      "Train Loss EPOCH 28: 1.1466\n",
      "Valid Loss EPOCH 28: 1.2267\n",
      "Train Accuracy EPOCH 28: 0.5841\n",
      "Valid Accuracy EPOCH 28: 0.5654\n",
      "------------------------------\n"
     ]
    },
    {
     "name": "stderr",
     "output_type": "stream",
     "text": [
      "100%|██████████| 88/88 [00:22<00:00,  3.86it/s]\n",
      "100%|██████████| 10/10 [00:01<00:00,  8.68it/s]\n",
      " 58%|█████▊    | 29/50 [11:46<08:29, 24.27s/it]"
     ]
    },
    {
     "name": "stdout",
     "output_type": "stream",
     "text": [
      "Epoch 29: New best model saved with val_loss: 1.2124\n",
      "------------------------------\n",
      "Train Loss EPOCH 29: 1.1317\n",
      "Valid Loss EPOCH 29: 1.2124\n",
      "Train Accuracy EPOCH 29: 0.5910\n",
      "Valid Accuracy EPOCH 29: 0.5594\n",
      "------------------------------\n"
     ]
    },
    {
     "name": "stderr",
     "output_type": "stream",
     "text": [
      "100%|██████████| 88/88 [00:22<00:00,  3.87it/s]\n",
      "100%|██████████| 10/10 [00:01<00:00,  8.94it/s]\n",
      " 60%|██████    | 30/50 [12:10<08:03, 24.17s/it]"
     ]
    },
    {
     "name": "stdout",
     "output_type": "stream",
     "text": [
      "------------------------------\n",
      "Train Loss EPOCH 30: 1.1222\n",
      "Valid Loss EPOCH 30: 1.2352\n",
      "Train Accuracy EPOCH 30: 0.5940\n",
      "Valid Accuracy EPOCH 30: 0.5508\n",
      "------------------------------\n"
     ]
    },
    {
     "name": "stderr",
     "output_type": "stream",
     "text": [
      "100%|██████████| 88/88 [00:23<00:00,  3.82it/s]\n",
      "100%|██████████| 10/10 [00:01<00:00,  8.20it/s]\n",
      " 62%|██████▏   | 31/50 [12:34<07:40, 24.23s/it]"
     ]
    },
    {
     "name": "stdout",
     "output_type": "stream",
     "text": [
      "Epoch 31: New best model saved with val_loss: 1.2093\n",
      "------------------------------\n",
      "Train Loss EPOCH 31: 1.0937\n",
      "Valid Loss EPOCH 31: 1.2093\n",
      "Train Accuracy EPOCH 31: 0.6057\n",
      "Valid Accuracy EPOCH 31: 0.5748\n",
      "------------------------------\n"
     ]
    },
    {
     "name": "stderr",
     "output_type": "stream",
     "text": [
      "100%|██████████| 88/88 [00:22<00:00,  3.87it/s]\n",
      "100%|██████████| 10/10 [00:01<00:00,  8.99it/s]\n",
      " 64%|██████▍   | 32/50 [12:58<07:14, 24.16s/it]"
     ]
    },
    {
     "name": "stdout",
     "output_type": "stream",
     "text": [
      "Epoch 32: New best model saved with val_loss: 1.2033\n",
      "------------------------------\n",
      "Train Loss EPOCH 32: 1.0872\n",
      "Valid Loss EPOCH 32: 1.2033\n",
      "Train Accuracy EPOCH 32: 0.6086\n",
      "Valid Accuracy EPOCH 32: 0.5738\n",
      "------------------------------\n"
     ]
    },
    {
     "name": "stderr",
     "output_type": "stream",
     "text": [
      "100%|██████████| 88/88 [00:23<00:00,  3.82it/s]\n",
      "100%|██████████| 10/10 [00:01<00:00,  8.98it/s]\n",
      " 66%|██████▌   | 33/50 [13:22<06:51, 24.19s/it]"
     ]
    },
    {
     "name": "stdout",
     "output_type": "stream",
     "text": [
      "Epoch 33: New best model saved with val_loss: 1.1996\n",
      "------------------------------\n",
      "Train Loss EPOCH 33: 1.0784\n",
      "Valid Loss EPOCH 33: 1.1996\n",
      "Train Accuracy EPOCH 33: 0.6113\n",
      "Valid Accuracy EPOCH 33: 0.5722\n",
      "------------------------------\n"
     ]
    },
    {
     "name": "stderr",
     "output_type": "stream",
     "text": [
      "100%|██████████| 88/88 [00:23<00:00,  3.71it/s]\n",
      "100%|██████████| 10/10 [00:01<00:00,  8.65it/s]\n",
      " 68%|██████▊   | 34/50 [13:47<06:31, 24.44s/it]"
     ]
    },
    {
     "name": "stdout",
     "output_type": "stream",
     "text": [
      "Epoch 34: New best model saved with val_loss: 1.1796\n",
      "------------------------------\n",
      "Train Loss EPOCH 34: 1.0642\n",
      "Valid Loss EPOCH 34: 1.1796\n",
      "Train Accuracy EPOCH 34: 0.6163\n",
      "Valid Accuracy EPOCH 34: 0.5882\n",
      "------------------------------\n"
     ]
    },
    {
     "name": "stderr",
     "output_type": "stream",
     "text": [
      "100%|██████████| 88/88 [00:24<00:00,  3.63it/s]\n",
      "100%|██████████| 10/10 [00:01<00:00,  8.85it/s]\n",
      " 70%|███████   | 35/50 [14:13<06:11, 24.77s/it]"
     ]
    },
    {
     "name": "stdout",
     "output_type": "stream",
     "text": [
      "Epoch 35: New best model saved with val_loss: 1.1782\n",
      "------------------------------\n",
      "Train Loss EPOCH 35: 1.0563\n",
      "Valid Loss EPOCH 35: 1.1782\n",
      "Train Accuracy EPOCH 35: 0.6192\n",
      "Valid Accuracy EPOCH 35: 0.5774\n",
      "------------------------------\n"
     ]
    },
    {
     "name": "stderr",
     "output_type": "stream",
     "text": [
      "100%|██████████| 88/88 [00:23<00:00,  3.76it/s]\n",
      "100%|██████████| 10/10 [00:01<00:00,  8.91it/s]\n",
      " 72%|███████▏  | 36/50 [14:37<05:46, 24.73s/it]"
     ]
    },
    {
     "name": "stdout",
     "output_type": "stream",
     "text": [
      "Epoch 36: New best model saved with val_loss: 1.1658\n",
      "------------------------------\n",
      "Train Loss EPOCH 36: 1.0378\n",
      "Valid Loss EPOCH 36: 1.1658\n",
      "Train Accuracy EPOCH 36: 0.6272\n",
      "Valid Accuracy EPOCH 36: 0.5794\n",
      "------------------------------\n"
     ]
    },
    {
     "name": "stderr",
     "output_type": "stream",
     "text": [
      "100%|██████████| 88/88 [00:23<00:00,  3.76it/s]\n",
      "100%|██████████| 10/10 [00:01<00:00,  8.90it/s]\n",
      " 74%|███████▍  | 37/50 [15:02<05:21, 24.69s/it]"
     ]
    },
    {
     "name": "stdout",
     "output_type": "stream",
     "text": [
      "------------------------------\n",
      "Train Loss EPOCH 37: 1.0236\n",
      "Valid Loss EPOCH 37: 1.1820\n",
      "Train Accuracy EPOCH 37: 0.6304\n",
      "Valid Accuracy EPOCH 37: 0.5782\n",
      "------------------------------\n"
     ]
    },
    {
     "name": "stderr",
     "output_type": "stream",
     "text": [
      "100%|██████████| 88/88 [00:23<00:00,  3.74it/s]\n",
      "100%|██████████| 10/10 [00:01<00:00,  8.79it/s]\n",
      " 76%|███████▌  | 38/50 [15:27<04:56, 24.71s/it]"
     ]
    },
    {
     "name": "stdout",
     "output_type": "stream",
     "text": [
      "------------------------------\n",
      "Train Loss EPOCH 38: 1.0153\n",
      "Valid Loss EPOCH 38: 1.1792\n",
      "Train Accuracy EPOCH 38: 0.6334\n",
      "Valid Accuracy EPOCH 38: 0.5784\n",
      "------------------------------\n"
     ]
    },
    {
     "name": "stderr",
     "output_type": "stream",
     "text": [
      "100%|██████████| 88/88 [00:23<00:00,  3.77it/s]\n",
      "100%|██████████| 10/10 [00:01<00:00,  8.74it/s]\n",
      " 78%|███████▊  | 39/50 [15:51<04:31, 24.68s/it]"
     ]
    },
    {
     "name": "stdout",
     "output_type": "stream",
     "text": [
      "Epoch 39: New best model saved with val_loss: 1.1590\n",
      "------------------------------\n",
      "Train Loss EPOCH 39: 1.0040\n",
      "Valid Loss EPOCH 39: 1.1590\n",
      "Train Accuracy EPOCH 39: 0.6386\n",
      "Valid Accuracy EPOCH 39: 0.5906\n",
      "------------------------------\n"
     ]
    },
    {
     "name": "stderr",
     "output_type": "stream",
     "text": [
      "100%|██████████| 88/88 [00:23<00:00,  3.76it/s]\n",
      "100%|██████████| 10/10 [00:01<00:00,  8.71it/s]\n",
      " 80%|████████  | 40/50 [16:16<04:06, 24.67s/it]"
     ]
    },
    {
     "name": "stdout",
     "output_type": "stream",
     "text": [
      "------------------------------\n",
      "Train Loss EPOCH 40: 0.9905\n",
      "Valid Loss EPOCH 40: 1.1699\n",
      "Train Accuracy EPOCH 40: 0.6426\n",
      "Valid Accuracy EPOCH 40: 0.5870\n",
      "------------------------------\n"
     ]
    },
    {
     "name": "stderr",
     "output_type": "stream",
     "text": [
      "100%|██████████| 88/88 [00:23<00:00,  3.73it/s]\n",
      "100%|██████████| 10/10 [00:01<00:00,  8.23it/s]\n",
      " 82%|████████▏ | 41/50 [16:41<03:42, 24.74s/it]"
     ]
    },
    {
     "name": "stdout",
     "output_type": "stream",
     "text": [
      "------------------------------\n",
      "Train Loss EPOCH 41: 1.0026\n",
      "Valid Loss EPOCH 41: 1.1776\n",
      "Train Accuracy EPOCH 41: 0.6372\n",
      "Valid Accuracy EPOCH 41: 0.5860\n",
      "------------------------------\n"
     ]
    },
    {
     "name": "stderr",
     "output_type": "stream",
     "text": [
      "100%|██████████| 88/88 [00:23<00:00,  3.77it/s]\n",
      "100%|██████████| 10/10 [00:01<00:00,  8.89it/s]\n",
      " 84%|████████▍ | 42/50 [17:05<03:17, 24.69s/it]"
     ]
    },
    {
     "name": "stdout",
     "output_type": "stream",
     "text": [
      "------------------------------\n",
      "Train Loss EPOCH 42: 0.9762\n",
      "Valid Loss EPOCH 42: 1.1659\n",
      "Train Accuracy EPOCH 42: 0.6483\n",
      "Valid Accuracy EPOCH 42: 0.5870\n",
      "------------------------------\n"
     ]
    },
    {
     "name": "stderr",
     "output_type": "stream",
     "text": [
      "100%|██████████| 88/88 [00:23<00:00,  3.76it/s]\n",
      "100%|██████████| 10/10 [00:01<00:00,  8.92it/s]\n",
      " 86%|████████▌ | 43/50 [17:30<02:52, 24.67s/it]"
     ]
    },
    {
     "name": "stdout",
     "output_type": "stream",
     "text": [
      "------------------------------\n",
      "Train Loss EPOCH 43: 0.9632\n",
      "Valid Loss EPOCH 43: 1.1725\n",
      "Train Accuracy EPOCH 43: 0.6526\n",
      "Valid Accuracy EPOCH 43: 0.5962\n",
      "------------------------------\n"
     ]
    },
    {
     "name": "stderr",
     "output_type": "stream",
     "text": [
      "100%|██████████| 88/88 [00:23<00:00,  3.77it/s]\n",
      "100%|██████████| 10/10 [00:01<00:00,  8.88it/s]\n",
      " 88%|████████▊ | 44/50 [17:55<02:27, 24.66s/it]"
     ]
    },
    {
     "name": "stdout",
     "output_type": "stream",
     "text": [
      "Epoch 44: New best model saved with val_loss: 1.1507\n",
      "------------------------------\n",
      "Train Loss EPOCH 44: 0.9403\n",
      "Valid Loss EPOCH 44: 1.1507\n",
      "Train Accuracy EPOCH 44: 0.6615\n",
      "Valid Accuracy EPOCH 44: 0.5964\n",
      "------------------------------\n"
     ]
    },
    {
     "name": "stderr",
     "output_type": "stream",
     "text": [
      "100%|██████████| 88/88 [00:23<00:00,  3.78it/s]\n",
      "100%|██████████| 10/10 [00:01<00:00,  8.90it/s]\n",
      " 90%|█████████ | 45/50 [18:19<02:03, 24.61s/it]"
     ]
    },
    {
     "name": "stdout",
     "output_type": "stream",
     "text": [
      "------------------------------\n",
      "Train Loss EPOCH 45: 0.9306\n",
      "Valid Loss EPOCH 45: 1.1968\n",
      "Train Accuracy EPOCH 45: 0.6641\n",
      "Valid Accuracy EPOCH 45: 0.5932\n",
      "------------------------------\n"
     ]
    },
    {
     "name": "stderr",
     "output_type": "stream",
     "text": [
      "100%|██████████| 88/88 [00:23<00:00,  3.76it/s]\n",
      "100%|██████████| 10/10 [00:01<00:00,  8.16it/s]\n",
      " 92%|█████████▏| 46/50 [18:44<01:38, 24.66s/it]"
     ]
    },
    {
     "name": "stdout",
     "output_type": "stream",
     "text": [
      "Epoch 46: New best model saved with val_loss: 1.1181\n",
      "------------------------------\n",
      "Train Loss EPOCH 46: 0.9263\n",
      "Valid Loss EPOCH 46: 1.1181\n",
      "Train Accuracy EPOCH 46: 0.6655\n",
      "Valid Accuracy EPOCH 46: 0.6088\n",
      "------------------------------\n"
     ]
    },
    {
     "name": "stderr",
     "output_type": "stream",
     "text": [
      "100%|██████████| 88/88 [00:23<00:00,  3.69it/s]\n",
      "100%|██████████| 10/10 [00:01<00:00,  8.48it/s]\n",
      " 94%|█████████▍| 47/50 [19:09<01:14, 24.80s/it]"
     ]
    },
    {
     "name": "stdout",
     "output_type": "stream",
     "text": [
      "------------------------------\n",
      "Train Loss EPOCH 47: 0.9145\n",
      "Valid Loss EPOCH 47: 1.1476\n",
      "Train Accuracy EPOCH 47: 0.6693\n",
      "Valid Accuracy EPOCH 47: 0.6084\n",
      "------------------------------\n"
     ]
    },
    {
     "name": "stderr",
     "output_type": "stream",
     "text": [
      "100%|██████████| 88/88 [00:24<00:00,  3.64it/s]\n",
      "100%|██████████| 10/10 [00:01<00:00,  8.87it/s]\n",
      " 96%|█████████▌| 48/50 [19:35<00:49, 24.98s/it]"
     ]
    },
    {
     "name": "stdout",
     "output_type": "stream",
     "text": [
      "------------------------------\n",
      "Train Loss EPOCH 48: 0.8968\n",
      "Valid Loss EPOCH 48: 1.1806\n",
      "Train Accuracy EPOCH 48: 0.6767\n",
      "Valid Accuracy EPOCH 48: 0.5920\n",
      "------------------------------\n"
     ]
    },
    {
     "name": "stderr",
     "output_type": "stream",
     "text": [
      "100%|██████████| 88/88 [00:23<00:00,  3.74it/s]\n",
      "100%|██████████| 10/10 [00:01<00:00,  8.86it/s]\n",
      " 98%|█████████▊| 49/50 [19:59<00:24, 24.92s/it]"
     ]
    },
    {
     "name": "stdout",
     "output_type": "stream",
     "text": [
      "------------------------------\n",
      "Train Loss EPOCH 49: 0.9111\n",
      "Valid Loss EPOCH 49: 1.1714\n",
      "Train Accuracy EPOCH 49: 0.6682\n",
      "Valid Accuracy EPOCH 49: 0.5896\n",
      "------------------------------\n"
     ]
    },
    {
     "name": "stderr",
     "output_type": "stream",
     "text": [
      "100%|██████████| 88/88 [00:23<00:00,  3.76it/s]\n",
      "100%|██████████| 10/10 [00:01<00:00,  8.72it/s]\n",
      "100%|██████████| 50/50 [20:24<00:00, 24.49s/it]\n"
     ]
    },
    {
     "name": "stdout",
     "output_type": "stream",
     "text": [
      "------------------------------\n",
      "Train Loss EPOCH 50: 0.8799\n",
      "Valid Loss EPOCH 50: 1.1784\n",
      "Train Accuracy EPOCH 50: 0.6790\n",
      "Valid Accuracy EPOCH 50: 0.5970\n",
      "------------------------------\n",
      "Completed all epochs without early stopping.\n",
      "Training Time: 1224.45s\n"
     ]
    },
    {
     "data": {
      "image/png": "[encoded data removed]",
      "text/plain": [
       "<Figure size 1000x1000 with 2 Axes>"
      ]
     },
     "metadata": {},
     "output_type": "display_data"
    },
    {
     "name": "stderr",
     "output_type": "stream",
     "text": [
      "100%|██████████| 20/20 [00:01<00:00, 10.25it/s]"
     ]
    },
    {
     "name": "stdout",
     "output_type": "stream",
     "text": [
      "Test Loss: 1.1841\n",
      "Test Accuracy: 0.5888\n"
     ]
    },
    {
     "name": "stderr",
     "output_type": "stream",
     "text": [
      "\n"
     ]
    }
   ],
   "source": [
    "hilbert_embedding = PatchEmbeddingHilbertPositionalEmbedding(EMBEDING_DIMENTION, PATCH_SIZE, NUM_PATCHES, DROPOUT, IN_CHANNELS, IMAGE_SIZE)\n",
    "model_hilbert = training_loop(hilbert_embedding, 'hilbert_embedding.pt')\n",
    "test_model(model_hilbert, 'hilbert_embedding.pt')"
   ]
  },
  {
   "cell_type": "code",
   "execution_count": null,
   "metadata": {},
   "outputs": [],
   "source": []
  },
  {
   "cell_type": "code",
   "execution_count": null,
   "metadata": {},
   "outputs": [],
   "source": []
  },
  {
   "cell_type": "code",
   "execution_count": null,
   "metadata": {},
   "outputs": [],
   "source": []
  }
 ],
 "metadata": {
  "kernelspec": {
   "display_name": "bachelor-project",
   "language": "python",
   "name": "python3"
  },
  "language_info": {
   "codemirror_mode": {
    "name": "ipython",
    "version": 3
   },
   "file_extension": ".py",
   "mimetype": "text/x-python",
   "name": "python",
   "nbconvert_exporter": "python",
   "pygments_lexer": "ipython3",
   "version": "3.12.0"
  }
 },
 "nbformat": 4,
 "nbformat_minor": 2
}
